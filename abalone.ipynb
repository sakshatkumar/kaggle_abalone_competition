{
 "cells": [
  {
   "cell_type": "code",
   "execution_count": 1,
   "id": "6714f5f9",
   "metadata": {
    "_cell_guid": "b1076dfc-b9ad-4769-8c92-a6c4dae69d19",
    "_uuid": "8f2839f25d086af736a60e9eeb907d3b93b6e0e5",
    "execution": {
     "iopub.execute_input": "2024-04-30T18:28:07.438313Z",
     "iopub.status.busy": "2024-04-30T18:28:07.437484Z",
     "iopub.status.idle": "2024-04-30T18:28:08.446450Z",
     "shell.execute_reply": "2024-04-30T18:28:08.445252Z"
    },
    "papermill": {
     "duration": 1.032822,
     "end_time": "2024-04-30T18:28:08.449240",
     "exception": false,
     "start_time": "2024-04-30T18:28:07.416418",
     "status": "completed"
    },
    "tags": []
   },
   "outputs": [
    {
     "name": "stdout",
     "output_type": "stream",
     "text": [
      "/kaggle/input/abalone-dataset/abalone.csv\n",
      "/kaggle/input/playground-series-s4e4/sample_submission.csv\n",
      "/kaggle/input/playground-series-s4e4/train.csv\n",
      "/kaggle/input/playground-series-s4e4/test.csv\n"
     ]
    }
   ],
   "source": [
    "# This Python 3 environment comes with many helpful analytics libraries installed\n",
    "# It is defined by the kaggle/python Docker image: https://github.com/kaggle/docker-python\n",
    "# For example, here's several helpful packages to load\n",
    "\n",
    "import numpy as np # linear algebra\n",
    "import pandas as pd # data processing, CSV file I/O (e.g. pd.read_csv)\n",
    "\n",
    "# Input data files are available in the read-only \"../input/\" directory\n",
    "# For example, running this (by clicking run or pressing Shift+Enter) will list all files under the input directory\n",
    "\n",
    "import os\n",
    "for dirname, _, filenames in os.walk('/kaggle/input'):\n",
    "    for filename in filenames:\n",
    "        print(os.path.join(dirname, filename))\n",
    "\n",
    "# You can write up to 20GB to the current directory (/kaggle/working/) that gets preserved as output when you create a version using \"Save & Run All\" \n",
    "# You can also write temporary files to /kaggle/temp/, but they won't be saved outside of the current session"
   ]
  },
  {
   "cell_type": "code",
   "execution_count": 2,
   "id": "373b780d",
   "metadata": {
    "execution": {
     "iopub.execute_input": "2024-04-30T18:28:08.488967Z",
     "iopub.status.busy": "2024-04-30T18:28:08.487773Z",
     "iopub.status.idle": "2024-04-30T18:28:08.493153Z",
     "shell.execute_reply": "2024-04-30T18:28:08.492108Z"
    },
    "papermill": {
     "duration": 0.027916,
     "end_time": "2024-04-30T18:28:08.495527",
     "exception": false,
     "start_time": "2024-04-30T18:28:08.467611",
     "status": "completed"
    },
    "tags": []
   },
   "outputs": [],
   "source": [
    "import pandas as pd, numpy as np"
   ]
  },
  {
   "cell_type": "code",
   "execution_count": 3,
   "id": "277017e1",
   "metadata": {
    "execution": {
     "iopub.execute_input": "2024-04-30T18:28:08.534867Z",
     "iopub.status.busy": "2024-04-30T18:28:08.534495Z",
     "iopub.status.idle": "2024-04-30T18:28:09.140579Z",
     "shell.execute_reply": "2024-04-30T18:28:09.139601Z"
    },
    "papermill": {
     "duration": 0.629737,
     "end_time": "2024-04-30T18:28:09.143361",
     "exception": false,
     "start_time": "2024-04-30T18:28:08.513624",
     "status": "completed"
    },
    "tags": []
   },
   "outputs": [],
   "source": [
    "dataTrain = pd.read_csv(\"/kaggle/input/playground-series-s4e4/train.csv\")\n",
    "dataTest = pd.read_csv(\"/kaggle/input/playground-series-s4e4/test.csv\")"
   ]
  },
  {
   "cell_type": "code",
   "execution_count": 4,
   "id": "dc9b813b",
   "metadata": {
    "execution": {
     "iopub.execute_input": "2024-04-30T18:28:09.182841Z",
     "iopub.status.busy": "2024-04-30T18:28:09.182231Z",
     "iopub.status.idle": "2024-04-30T18:28:09.196545Z",
     "shell.execute_reply": "2024-04-30T18:28:09.195557Z"
    },
    "papermill": {
     "duration": 0.036682,
     "end_time": "2024-04-30T18:28:09.199115",
     "exception": false,
     "start_time": "2024-04-30T18:28:09.162433",
     "status": "completed"
    },
    "tags": []
   },
   "outputs": [],
   "source": [
    "dataTrain = dataTrain.rename(columns={'Whole weight.1': 'Shucked weight', 'Whole weight.2': 'Viscera weight'})\n",
    "dataTest = dataTest.rename(columns={'Whole weight.1': 'Shucked weight', 'Whole weight.2': 'Viscera weight'})"
   ]
  },
  {
   "cell_type": "code",
   "execution_count": 5,
   "id": "0cc98dab",
   "metadata": {
    "execution": {
     "iopub.execute_input": "2024-04-30T18:28:09.238389Z",
     "iopub.status.busy": "2024-04-30T18:28:09.237960Z",
     "iopub.status.idle": "2024-04-30T18:28:09.261490Z",
     "shell.execute_reply": "2024-04-30T18:28:09.260310Z"
    },
    "papermill": {
     "duration": 0.046701,
     "end_time": "2024-04-30T18:28:09.264179",
     "exception": false,
     "start_time": "2024-04-30T18:28:09.217478",
     "status": "completed"
    },
    "tags": []
   },
   "outputs": [
    {
     "data": {
      "text/html": [
       "<div>\n",
       "<style scoped>\n",
       "    .dataframe tbody tr th:only-of-type {\n",
       "        vertical-align: middle;\n",
       "    }\n",
       "\n",
       "    .dataframe tbody tr th {\n",
       "        vertical-align: top;\n",
       "    }\n",
       "\n",
       "    .dataframe thead th {\n",
       "        text-align: right;\n",
       "    }\n",
       "</style>\n",
       "<table border=\"1\" class=\"dataframe\">\n",
       "  <thead>\n",
       "    <tr style=\"text-align: right;\">\n",
       "      <th></th>\n",
       "      <th>id</th>\n",
       "      <th>Sex</th>\n",
       "      <th>Length</th>\n",
       "      <th>Diameter</th>\n",
       "      <th>Height</th>\n",
       "      <th>Whole weight</th>\n",
       "      <th>Shucked weight</th>\n",
       "      <th>Viscera weight</th>\n",
       "      <th>Shell weight</th>\n",
       "    </tr>\n",
       "  </thead>\n",
       "  <tbody>\n",
       "    <tr>\n",
       "      <th>0</th>\n",
       "      <td>90615</td>\n",
       "      <td>M</td>\n",
       "      <td>0.645</td>\n",
       "      <td>0.475</td>\n",
       "      <td>0.155</td>\n",
       "      <td>1.2380</td>\n",
       "      <td>0.6185</td>\n",
       "      <td>0.3125</td>\n",
       "      <td>0.3005</td>\n",
       "    </tr>\n",
       "    <tr>\n",
       "      <th>1</th>\n",
       "      <td>90616</td>\n",
       "      <td>M</td>\n",
       "      <td>0.580</td>\n",
       "      <td>0.460</td>\n",
       "      <td>0.160</td>\n",
       "      <td>0.9830</td>\n",
       "      <td>0.4785</td>\n",
       "      <td>0.2195</td>\n",
       "      <td>0.2750</td>\n",
       "    </tr>\n",
       "    <tr>\n",
       "      <th>2</th>\n",
       "      <td>90617</td>\n",
       "      <td>M</td>\n",
       "      <td>0.560</td>\n",
       "      <td>0.420</td>\n",
       "      <td>0.140</td>\n",
       "      <td>0.8395</td>\n",
       "      <td>0.3525</td>\n",
       "      <td>0.1845</td>\n",
       "      <td>0.2405</td>\n",
       "    </tr>\n",
       "    <tr>\n",
       "      <th>3</th>\n",
       "      <td>90618</td>\n",
       "      <td>M</td>\n",
       "      <td>0.570</td>\n",
       "      <td>0.490</td>\n",
       "      <td>0.145</td>\n",
       "      <td>0.8740</td>\n",
       "      <td>0.3525</td>\n",
       "      <td>0.1865</td>\n",
       "      <td>0.2350</td>\n",
       "    </tr>\n",
       "    <tr>\n",
       "      <th>4</th>\n",
       "      <td>90619</td>\n",
       "      <td>I</td>\n",
       "      <td>0.415</td>\n",
       "      <td>0.325</td>\n",
       "      <td>0.110</td>\n",
       "      <td>0.3580</td>\n",
       "      <td>0.1575</td>\n",
       "      <td>0.0670</td>\n",
       "      <td>0.1050</td>\n",
       "    </tr>\n",
       "  </tbody>\n",
       "</table>\n",
       "</div>"
      ],
      "text/plain": [
       "      id Sex  Length  Diameter  Height  Whole weight  Shucked weight  \\\n",
       "0  90615   M   0.645     0.475   0.155        1.2380          0.6185   \n",
       "1  90616   M   0.580     0.460   0.160        0.9830          0.4785   \n",
       "2  90617   M   0.560     0.420   0.140        0.8395          0.3525   \n",
       "3  90618   M   0.570     0.490   0.145        0.8740          0.3525   \n",
       "4  90619   I   0.415     0.325   0.110        0.3580          0.1575   \n",
       "\n",
       "   Viscera weight  Shell weight  \n",
       "0          0.3125        0.3005  \n",
       "1          0.2195        0.2750  \n",
       "2          0.1845        0.2405  \n",
       "3          0.1865        0.2350  \n",
       "4          0.0670        0.1050  "
      ]
     },
     "execution_count": 5,
     "metadata": {},
     "output_type": "execute_result"
    }
   ],
   "source": [
    "dataTest.head()"
   ]
  },
  {
   "cell_type": "code",
   "execution_count": 6,
   "id": "3f8932fe",
   "metadata": {
    "execution": {
     "iopub.execute_input": "2024-04-30T18:28:09.304340Z",
     "iopub.status.busy": "2024-04-30T18:28:09.303395Z",
     "iopub.status.idle": "2024-04-30T18:28:09.322424Z",
     "shell.execute_reply": "2024-04-30T18:28:09.321202Z"
    },
    "papermill": {
     "duration": 0.041865,
     "end_time": "2024-04-30T18:28:09.324813",
     "exception": false,
     "start_time": "2024-04-30T18:28:09.282948",
     "status": "completed"
    },
    "tags": []
   },
   "outputs": [
    {
     "data": {
      "text/html": [
       "<div>\n",
       "<style scoped>\n",
       "    .dataframe tbody tr th:only-of-type {\n",
       "        vertical-align: middle;\n",
       "    }\n",
       "\n",
       "    .dataframe tbody tr th {\n",
       "        vertical-align: top;\n",
       "    }\n",
       "\n",
       "    .dataframe thead th {\n",
       "        text-align: right;\n",
       "    }\n",
       "</style>\n",
       "<table border=\"1\" class=\"dataframe\">\n",
       "  <thead>\n",
       "    <tr style=\"text-align: right;\">\n",
       "      <th></th>\n",
       "      <th>id</th>\n",
       "      <th>Sex</th>\n",
       "      <th>Length</th>\n",
       "      <th>Diameter</th>\n",
       "      <th>Height</th>\n",
       "      <th>Whole weight</th>\n",
       "      <th>Shucked weight</th>\n",
       "      <th>Viscera weight</th>\n",
       "      <th>Shell weight</th>\n",
       "      <th>Rings</th>\n",
       "    </tr>\n",
       "  </thead>\n",
       "  <tbody>\n",
       "    <tr>\n",
       "      <th>0</th>\n",
       "      <td>0</td>\n",
       "      <td>F</td>\n",
       "      <td>0.550</td>\n",
       "      <td>0.430</td>\n",
       "      <td>0.150</td>\n",
       "      <td>0.7715</td>\n",
       "      <td>0.3285</td>\n",
       "      <td>0.1465</td>\n",
       "      <td>0.2400</td>\n",
       "      <td>11</td>\n",
       "    </tr>\n",
       "    <tr>\n",
       "      <th>1</th>\n",
       "      <td>1</td>\n",
       "      <td>F</td>\n",
       "      <td>0.630</td>\n",
       "      <td>0.490</td>\n",
       "      <td>0.145</td>\n",
       "      <td>1.1300</td>\n",
       "      <td>0.4580</td>\n",
       "      <td>0.2765</td>\n",
       "      <td>0.3200</td>\n",
       "      <td>11</td>\n",
       "    </tr>\n",
       "    <tr>\n",
       "      <th>2</th>\n",
       "      <td>2</td>\n",
       "      <td>I</td>\n",
       "      <td>0.160</td>\n",
       "      <td>0.110</td>\n",
       "      <td>0.025</td>\n",
       "      <td>0.0210</td>\n",
       "      <td>0.0055</td>\n",
       "      <td>0.0030</td>\n",
       "      <td>0.0050</td>\n",
       "      <td>6</td>\n",
       "    </tr>\n",
       "    <tr>\n",
       "      <th>3</th>\n",
       "      <td>3</td>\n",
       "      <td>M</td>\n",
       "      <td>0.595</td>\n",
       "      <td>0.475</td>\n",
       "      <td>0.150</td>\n",
       "      <td>0.9145</td>\n",
       "      <td>0.3755</td>\n",
       "      <td>0.2055</td>\n",
       "      <td>0.2500</td>\n",
       "      <td>10</td>\n",
       "    </tr>\n",
       "    <tr>\n",
       "      <th>4</th>\n",
       "      <td>4</td>\n",
       "      <td>I</td>\n",
       "      <td>0.555</td>\n",
       "      <td>0.425</td>\n",
       "      <td>0.130</td>\n",
       "      <td>0.7820</td>\n",
       "      <td>0.3695</td>\n",
       "      <td>0.1600</td>\n",
       "      <td>0.1975</td>\n",
       "      <td>9</td>\n",
       "    </tr>\n",
       "  </tbody>\n",
       "</table>\n",
       "</div>"
      ],
      "text/plain": [
       "   id Sex  Length  Diameter  Height  Whole weight  Shucked weight  \\\n",
       "0   0   F   0.550     0.430   0.150        0.7715          0.3285   \n",
       "1   1   F   0.630     0.490   0.145        1.1300          0.4580   \n",
       "2   2   I   0.160     0.110   0.025        0.0210          0.0055   \n",
       "3   3   M   0.595     0.475   0.150        0.9145          0.3755   \n",
       "4   4   I   0.555     0.425   0.130        0.7820          0.3695   \n",
       "\n",
       "   Viscera weight  Shell weight  Rings  \n",
       "0          0.1465        0.2400     11  \n",
       "1          0.2765        0.3200     11  \n",
       "2          0.0030        0.0050      6  \n",
       "3          0.2055        0.2500     10  \n",
       "4          0.1600        0.1975      9  "
      ]
     },
     "execution_count": 6,
     "metadata": {},
     "output_type": "execute_result"
    }
   ],
   "source": [
    "dataTrain.head()"
   ]
  },
  {
   "cell_type": "code",
   "execution_count": 7,
   "id": "5a62ba75",
   "metadata": {
    "execution": {
     "iopub.execute_input": "2024-04-30T18:28:09.365291Z",
     "iopub.status.busy": "2024-04-30T18:28:09.364866Z",
     "iopub.status.idle": "2024-04-30T18:28:09.446981Z",
     "shell.execute_reply": "2024-04-30T18:28:09.445667Z"
    },
    "papermill": {
     "duration": 0.105077,
     "end_time": "2024-04-30T18:28:09.449488",
     "exception": false,
     "start_time": "2024-04-30T18:28:09.344411",
     "status": "completed"
    },
    "tags": []
   },
   "outputs": [
    {
     "data": {
      "text/html": [
       "<div>\n",
       "<style scoped>\n",
       "    .dataframe tbody tr th:only-of-type {\n",
       "        vertical-align: middle;\n",
       "    }\n",
       "\n",
       "    .dataframe tbody tr th {\n",
       "        vertical-align: top;\n",
       "    }\n",
       "\n",
       "    .dataframe thead th {\n",
       "        text-align: right;\n",
       "    }\n",
       "</style>\n",
       "<table border=\"1\" class=\"dataframe\">\n",
       "  <thead>\n",
       "    <tr style=\"text-align: right;\">\n",
       "      <th></th>\n",
       "      <th>id</th>\n",
       "      <th>Length</th>\n",
       "      <th>Diameter</th>\n",
       "      <th>Height</th>\n",
       "      <th>Whole weight</th>\n",
       "      <th>Shucked weight</th>\n",
       "      <th>Viscera weight</th>\n",
       "      <th>Shell weight</th>\n",
       "      <th>Rings</th>\n",
       "    </tr>\n",
       "  </thead>\n",
       "  <tbody>\n",
       "    <tr>\n",
       "      <th>count</th>\n",
       "      <td>90615.000000</td>\n",
       "      <td>90615.000000</td>\n",
       "      <td>90615.000000</td>\n",
       "      <td>90615.000000</td>\n",
       "      <td>90615.000000</td>\n",
       "      <td>90615.000000</td>\n",
       "      <td>90615.000000</td>\n",
       "      <td>90615.000000</td>\n",
       "      <td>90615.000000</td>\n",
       "    </tr>\n",
       "    <tr>\n",
       "      <th>mean</th>\n",
       "      <td>45307.000000</td>\n",
       "      <td>0.517098</td>\n",
       "      <td>0.401679</td>\n",
       "      <td>0.135464</td>\n",
       "      <td>0.789035</td>\n",
       "      <td>0.340778</td>\n",
       "      <td>0.169422</td>\n",
       "      <td>0.225898</td>\n",
       "      <td>9.696794</td>\n",
       "    </tr>\n",
       "    <tr>\n",
       "      <th>std</th>\n",
       "      <td>26158.441658</td>\n",
       "      <td>0.118217</td>\n",
       "      <td>0.098026</td>\n",
       "      <td>0.038008</td>\n",
       "      <td>0.457671</td>\n",
       "      <td>0.204428</td>\n",
       "      <td>0.100909</td>\n",
       "      <td>0.130203</td>\n",
       "      <td>3.176221</td>\n",
       "    </tr>\n",
       "    <tr>\n",
       "      <th>min</th>\n",
       "      <td>0.000000</td>\n",
       "      <td>0.075000</td>\n",
       "      <td>0.055000</td>\n",
       "      <td>0.000000</td>\n",
       "      <td>0.002000</td>\n",
       "      <td>0.001000</td>\n",
       "      <td>0.000500</td>\n",
       "      <td>0.001500</td>\n",
       "      <td>1.000000</td>\n",
       "    </tr>\n",
       "    <tr>\n",
       "      <th>25%</th>\n",
       "      <td>22653.500000</td>\n",
       "      <td>0.445000</td>\n",
       "      <td>0.345000</td>\n",
       "      <td>0.110000</td>\n",
       "      <td>0.419000</td>\n",
       "      <td>0.177500</td>\n",
       "      <td>0.086500</td>\n",
       "      <td>0.120000</td>\n",
       "      <td>8.000000</td>\n",
       "    </tr>\n",
       "    <tr>\n",
       "      <th>50%</th>\n",
       "      <td>45307.000000</td>\n",
       "      <td>0.545000</td>\n",
       "      <td>0.425000</td>\n",
       "      <td>0.140000</td>\n",
       "      <td>0.799500</td>\n",
       "      <td>0.330000</td>\n",
       "      <td>0.166000</td>\n",
       "      <td>0.225000</td>\n",
       "      <td>9.000000</td>\n",
       "    </tr>\n",
       "    <tr>\n",
       "      <th>75%</th>\n",
       "      <td>67960.500000</td>\n",
       "      <td>0.600000</td>\n",
       "      <td>0.470000</td>\n",
       "      <td>0.160000</td>\n",
       "      <td>1.067500</td>\n",
       "      <td>0.463000</td>\n",
       "      <td>0.232500</td>\n",
       "      <td>0.305000</td>\n",
       "      <td>11.000000</td>\n",
       "    </tr>\n",
       "    <tr>\n",
       "      <th>max</th>\n",
       "      <td>90614.000000</td>\n",
       "      <td>0.815000</td>\n",
       "      <td>0.650000</td>\n",
       "      <td>1.130000</td>\n",
       "      <td>2.825500</td>\n",
       "      <td>1.488000</td>\n",
       "      <td>0.760000</td>\n",
       "      <td>1.005000</td>\n",
       "      <td>29.000000</td>\n",
       "    </tr>\n",
       "  </tbody>\n",
       "</table>\n",
       "</div>"
      ],
      "text/plain": [
       "                 id        Length      Diameter        Height  Whole weight  \\\n",
       "count  90615.000000  90615.000000  90615.000000  90615.000000  90615.000000   \n",
       "mean   45307.000000      0.517098      0.401679      0.135464      0.789035   \n",
       "std    26158.441658      0.118217      0.098026      0.038008      0.457671   \n",
       "min        0.000000      0.075000      0.055000      0.000000      0.002000   \n",
       "25%    22653.500000      0.445000      0.345000      0.110000      0.419000   \n",
       "50%    45307.000000      0.545000      0.425000      0.140000      0.799500   \n",
       "75%    67960.500000      0.600000      0.470000      0.160000      1.067500   \n",
       "max    90614.000000      0.815000      0.650000      1.130000      2.825500   \n",
       "\n",
       "       Shucked weight  Viscera weight  Shell weight         Rings  \n",
       "count    90615.000000    90615.000000  90615.000000  90615.000000  \n",
       "mean         0.340778        0.169422      0.225898      9.696794  \n",
       "std          0.204428        0.100909      0.130203      3.176221  \n",
       "min          0.001000        0.000500      0.001500      1.000000  \n",
       "25%          0.177500        0.086500      0.120000      8.000000  \n",
       "50%          0.330000        0.166000      0.225000      9.000000  \n",
       "75%          0.463000        0.232500      0.305000     11.000000  \n",
       "max          1.488000        0.760000      1.005000     29.000000  "
      ]
     },
     "execution_count": 7,
     "metadata": {},
     "output_type": "execute_result"
    }
   ],
   "source": [
    "dataTrain.describe()"
   ]
  },
  {
   "cell_type": "code",
   "execution_count": 8,
   "id": "e1ea7cef",
   "metadata": {
    "execution": {
     "iopub.execute_input": "2024-04-30T18:28:09.490797Z",
     "iopub.status.busy": "2024-04-30T18:28:09.490405Z",
     "iopub.status.idle": "2024-04-30T18:28:09.511647Z",
     "shell.execute_reply": "2024-04-30T18:28:09.510450Z"
    },
    "papermill": {
     "duration": 0.045111,
     "end_time": "2024-04-30T18:28:09.514183",
     "exception": false,
     "start_time": "2024-04-30T18:28:09.469072",
     "status": "completed"
    },
    "tags": []
   },
   "outputs": [
    {
     "data": {
      "text/plain": [
       "id                0\n",
       "Sex               0\n",
       "Length            0\n",
       "Diameter          0\n",
       "Height            0\n",
       "Whole weight      0\n",
       "Shucked weight    0\n",
       "Viscera weight    0\n",
       "Shell weight      0\n",
       "Rings             0\n",
       "dtype: int64"
      ]
     },
     "execution_count": 8,
     "metadata": {},
     "output_type": "execute_result"
    }
   ],
   "source": [
    "dataTrain.isnull().sum()"
   ]
  },
  {
   "cell_type": "code",
   "execution_count": 9,
   "id": "12269d0f",
   "metadata": {
    "execution": {
     "iopub.execute_input": "2024-04-30T18:28:09.555465Z",
     "iopub.status.busy": "2024-04-30T18:28:09.555061Z",
     "iopub.status.idle": "2024-04-30T18:28:09.597949Z",
     "shell.execute_reply": "2024-04-30T18:28:09.597056Z"
    },
    "papermill": {
     "duration": 0.066379,
     "end_time": "2024-04-30T18:28:09.600099",
     "exception": false,
     "start_time": "2024-04-30T18:28:09.533720",
     "status": "completed"
    },
    "tags": []
   },
   "outputs": [
    {
     "data": {
      "text/plain": [
       "0"
      ]
     },
     "execution_count": 9,
     "metadata": {},
     "output_type": "execute_result"
    }
   ],
   "source": [
    "dataTrain.duplicated().sum()"
   ]
  },
  {
   "cell_type": "code",
   "execution_count": 10,
   "id": "1eb5c46e",
   "metadata": {
    "execution": {
     "iopub.execute_input": "2024-04-30T18:28:09.642614Z",
     "iopub.status.busy": "2024-04-30T18:28:09.641706Z",
     "iopub.status.idle": "2024-04-30T18:28:09.648309Z",
     "shell.execute_reply": "2024-04-30T18:28:09.647114Z"
    },
    "papermill": {
     "duration": 0.030438,
     "end_time": "2024-04-30T18:28:09.650843",
     "exception": false,
     "start_time": "2024-04-30T18:28:09.620405",
     "status": "completed"
    },
    "tags": []
   },
   "outputs": [],
   "source": [
    "categoricalData = dataTrain.select_dtypes(\"object\")"
   ]
  },
  {
   "cell_type": "code",
   "execution_count": 11,
   "id": "7e902b26",
   "metadata": {
    "execution": {
     "iopub.execute_input": "2024-04-30T18:28:09.691713Z",
     "iopub.status.busy": "2024-04-30T18:28:09.691251Z",
     "iopub.status.idle": "2024-04-30T18:28:09.706548Z",
     "shell.execute_reply": "2024-04-30T18:28:09.705696Z"
    },
    "papermill": {
     "duration": 0.038283,
     "end_time": "2024-04-30T18:28:09.708747",
     "exception": false,
     "start_time": "2024-04-30T18:28:09.670464",
     "status": "completed"
    },
    "tags": []
   },
   "outputs": [
    {
     "data": {
      "text/plain": [
       "Sex    3\n",
       "dtype: int64"
      ]
     },
     "execution_count": 11,
     "metadata": {},
     "output_type": "execute_result"
    }
   ],
   "source": [
    "categoricalData.nunique()"
   ]
  },
  {
   "cell_type": "code",
   "execution_count": 12,
   "id": "7299aabd",
   "metadata": {
    "execution": {
     "iopub.execute_input": "2024-04-30T18:28:09.750451Z",
     "iopub.status.busy": "2024-04-30T18:28:09.750010Z",
     "iopub.status.idle": "2024-04-30T18:28:09.780823Z",
     "shell.execute_reply": "2024-04-30T18:28:09.779700Z"
    },
    "papermill": {
     "duration": 0.054928,
     "end_time": "2024-04-30T18:28:09.783730",
     "exception": false,
     "start_time": "2024-04-30T18:28:09.728802",
     "status": "completed"
    },
    "tags": []
   },
   "outputs": [],
   "source": [
    "dataTrain_encoded = pd.get_dummies(dataTrain, columns=['Sex'], drop_first=True)\n"
   ]
  },
  {
   "cell_type": "code",
   "execution_count": 13,
   "id": "ee316fdd",
   "metadata": {
    "execution": {
     "iopub.execute_input": "2024-04-30T18:28:09.825804Z",
     "iopub.status.busy": "2024-04-30T18:28:09.825427Z",
     "iopub.status.idle": "2024-04-30T18:28:09.842318Z",
     "shell.execute_reply": "2024-04-30T18:28:09.841177Z"
    },
    "papermill": {
     "duration": 0.04109,
     "end_time": "2024-04-30T18:28:09.844838",
     "exception": false,
     "start_time": "2024-04-30T18:28:09.803748",
     "status": "completed"
    },
    "tags": []
   },
   "outputs": [
    {
     "data": {
      "text/html": [
       "<div>\n",
       "<style scoped>\n",
       "    .dataframe tbody tr th:only-of-type {\n",
       "        vertical-align: middle;\n",
       "    }\n",
       "\n",
       "    .dataframe tbody tr th {\n",
       "        vertical-align: top;\n",
       "    }\n",
       "\n",
       "    .dataframe thead th {\n",
       "        text-align: right;\n",
       "    }\n",
       "</style>\n",
       "<table border=\"1\" class=\"dataframe\">\n",
       "  <thead>\n",
       "    <tr style=\"text-align: right;\">\n",
       "      <th></th>\n",
       "      <th>id</th>\n",
       "      <th>Sex</th>\n",
       "      <th>Length</th>\n",
       "      <th>Diameter</th>\n",
       "      <th>Height</th>\n",
       "      <th>Whole weight</th>\n",
       "      <th>Shucked weight</th>\n",
       "      <th>Viscera weight</th>\n",
       "      <th>Shell weight</th>\n",
       "    </tr>\n",
       "  </thead>\n",
       "  <tbody>\n",
       "    <tr>\n",
       "      <th>0</th>\n",
       "      <td>90615</td>\n",
       "      <td>M</td>\n",
       "      <td>0.645</td>\n",
       "      <td>0.475</td>\n",
       "      <td>0.155</td>\n",
       "      <td>1.2380</td>\n",
       "      <td>0.6185</td>\n",
       "      <td>0.3125</td>\n",
       "      <td>0.3005</td>\n",
       "    </tr>\n",
       "    <tr>\n",
       "      <th>1</th>\n",
       "      <td>90616</td>\n",
       "      <td>M</td>\n",
       "      <td>0.580</td>\n",
       "      <td>0.460</td>\n",
       "      <td>0.160</td>\n",
       "      <td>0.9830</td>\n",
       "      <td>0.4785</td>\n",
       "      <td>0.2195</td>\n",
       "      <td>0.2750</td>\n",
       "    </tr>\n",
       "    <tr>\n",
       "      <th>2</th>\n",
       "      <td>90617</td>\n",
       "      <td>M</td>\n",
       "      <td>0.560</td>\n",
       "      <td>0.420</td>\n",
       "      <td>0.140</td>\n",
       "      <td>0.8395</td>\n",
       "      <td>0.3525</td>\n",
       "      <td>0.1845</td>\n",
       "      <td>0.2405</td>\n",
       "    </tr>\n",
       "    <tr>\n",
       "      <th>3</th>\n",
       "      <td>90618</td>\n",
       "      <td>M</td>\n",
       "      <td>0.570</td>\n",
       "      <td>0.490</td>\n",
       "      <td>0.145</td>\n",
       "      <td>0.8740</td>\n",
       "      <td>0.3525</td>\n",
       "      <td>0.1865</td>\n",
       "      <td>0.2350</td>\n",
       "    </tr>\n",
       "    <tr>\n",
       "      <th>4</th>\n",
       "      <td>90619</td>\n",
       "      <td>I</td>\n",
       "      <td>0.415</td>\n",
       "      <td>0.325</td>\n",
       "      <td>0.110</td>\n",
       "      <td>0.3580</td>\n",
       "      <td>0.1575</td>\n",
       "      <td>0.0670</td>\n",
       "      <td>0.1050</td>\n",
       "    </tr>\n",
       "  </tbody>\n",
       "</table>\n",
       "</div>"
      ],
      "text/plain": [
       "      id Sex  Length  Diameter  Height  Whole weight  Shucked weight  \\\n",
       "0  90615   M   0.645     0.475   0.155        1.2380          0.6185   \n",
       "1  90616   M   0.580     0.460   0.160        0.9830          0.4785   \n",
       "2  90617   M   0.560     0.420   0.140        0.8395          0.3525   \n",
       "3  90618   M   0.570     0.490   0.145        0.8740          0.3525   \n",
       "4  90619   I   0.415     0.325   0.110        0.3580          0.1575   \n",
       "\n",
       "   Viscera weight  Shell weight  \n",
       "0          0.3125        0.3005  \n",
       "1          0.2195        0.2750  \n",
       "2          0.1845        0.2405  \n",
       "3          0.1865        0.2350  \n",
       "4          0.0670        0.1050  "
      ]
     },
     "execution_count": 13,
     "metadata": {},
     "output_type": "execute_result"
    }
   ],
   "source": [
    "dataTest.head()"
   ]
  },
  {
   "cell_type": "code",
   "execution_count": 14,
   "id": "5950fc49",
   "metadata": {
    "execution": {
     "iopub.execute_input": "2024-04-30T18:28:09.887006Z",
     "iopub.status.busy": "2024-04-30T18:28:09.886225Z",
     "iopub.status.idle": "2024-04-30T18:28:09.935116Z",
     "shell.execute_reply": "2024-04-30T18:28:09.933845Z"
    },
    "papermill": {
     "duration": 0.073222,
     "end_time": "2024-04-30T18:28:09.937759",
     "exception": false,
     "start_time": "2024-04-30T18:28:09.864537",
     "status": "completed"
    },
    "tags": []
   },
   "outputs": [],
   "source": [
    "og = pd.read_csv(\"/kaggle/input/abalone-dataset/abalone.csv\")"
   ]
  },
  {
   "cell_type": "code",
   "execution_count": 15,
   "id": "c20befdd",
   "metadata": {
    "execution": {
     "iopub.execute_input": "2024-04-30T18:28:09.979940Z",
     "iopub.status.busy": "2024-04-30T18:28:09.979554Z",
     "iopub.status.idle": "2024-04-30T18:28:10.002893Z",
     "shell.execute_reply": "2024-04-30T18:28:10.001517Z"
    },
    "papermill": {
     "duration": 0.048013,
     "end_time": "2024-04-30T18:28:10.006233",
     "exception": false,
     "start_time": "2024-04-30T18:28:09.958220",
     "status": "completed"
    },
    "tags": []
   },
   "outputs": [],
   "source": [
    "dataTest_encoded = pd.get_dummies(dataTest, columns=['Sex'], drop_first=True)\n",
    "og = pd.get_dummies(og, columns=['Sex'], drop_first=True)"
   ]
  },
  {
   "cell_type": "code",
   "execution_count": 16,
   "id": "5889de12",
   "metadata": {
    "execution": {
     "iopub.execute_input": "2024-04-30T18:28:10.047761Z",
     "iopub.status.busy": "2024-04-30T18:28:10.047391Z",
     "iopub.status.idle": "2024-04-30T18:28:10.066880Z",
     "shell.execute_reply": "2024-04-30T18:28:10.065587Z"
    },
    "papermill": {
     "duration": 0.042793,
     "end_time": "2024-04-30T18:28:10.069203",
     "exception": false,
     "start_time": "2024-04-30T18:28:10.026410",
     "status": "completed"
    },
    "tags": []
   },
   "outputs": [
    {
     "data": {
      "text/html": [
       "<div>\n",
       "<style scoped>\n",
       "    .dataframe tbody tr th:only-of-type {\n",
       "        vertical-align: middle;\n",
       "    }\n",
       "\n",
       "    .dataframe tbody tr th {\n",
       "        vertical-align: top;\n",
       "    }\n",
       "\n",
       "    .dataframe thead th {\n",
       "        text-align: right;\n",
       "    }\n",
       "</style>\n",
       "<table border=\"1\" class=\"dataframe\">\n",
       "  <thead>\n",
       "    <tr style=\"text-align: right;\">\n",
       "      <th></th>\n",
       "      <th>id</th>\n",
       "      <th>Length</th>\n",
       "      <th>Diameter</th>\n",
       "      <th>Height</th>\n",
       "      <th>Whole weight</th>\n",
       "      <th>Shucked weight</th>\n",
       "      <th>Viscera weight</th>\n",
       "      <th>Shell weight</th>\n",
       "      <th>Rings</th>\n",
       "      <th>Sex_I</th>\n",
       "      <th>Sex_M</th>\n",
       "    </tr>\n",
       "  </thead>\n",
       "  <tbody>\n",
       "    <tr>\n",
       "      <th>0</th>\n",
       "      <td>0</td>\n",
       "      <td>0.550</td>\n",
       "      <td>0.430</td>\n",
       "      <td>0.150</td>\n",
       "      <td>0.7715</td>\n",
       "      <td>0.3285</td>\n",
       "      <td>0.1465</td>\n",
       "      <td>0.2400</td>\n",
       "      <td>11</td>\n",
       "      <td>False</td>\n",
       "      <td>False</td>\n",
       "    </tr>\n",
       "    <tr>\n",
       "      <th>1</th>\n",
       "      <td>1</td>\n",
       "      <td>0.630</td>\n",
       "      <td>0.490</td>\n",
       "      <td>0.145</td>\n",
       "      <td>1.1300</td>\n",
       "      <td>0.4580</td>\n",
       "      <td>0.2765</td>\n",
       "      <td>0.3200</td>\n",
       "      <td>11</td>\n",
       "      <td>False</td>\n",
       "      <td>False</td>\n",
       "    </tr>\n",
       "    <tr>\n",
       "      <th>2</th>\n",
       "      <td>2</td>\n",
       "      <td>0.160</td>\n",
       "      <td>0.110</td>\n",
       "      <td>0.025</td>\n",
       "      <td>0.0210</td>\n",
       "      <td>0.0055</td>\n",
       "      <td>0.0030</td>\n",
       "      <td>0.0050</td>\n",
       "      <td>6</td>\n",
       "      <td>True</td>\n",
       "      <td>False</td>\n",
       "    </tr>\n",
       "    <tr>\n",
       "      <th>3</th>\n",
       "      <td>3</td>\n",
       "      <td>0.595</td>\n",
       "      <td>0.475</td>\n",
       "      <td>0.150</td>\n",
       "      <td>0.9145</td>\n",
       "      <td>0.3755</td>\n",
       "      <td>0.2055</td>\n",
       "      <td>0.2500</td>\n",
       "      <td>10</td>\n",
       "      <td>False</td>\n",
       "      <td>True</td>\n",
       "    </tr>\n",
       "    <tr>\n",
       "      <th>4</th>\n",
       "      <td>4</td>\n",
       "      <td>0.555</td>\n",
       "      <td>0.425</td>\n",
       "      <td>0.130</td>\n",
       "      <td>0.7820</td>\n",
       "      <td>0.3695</td>\n",
       "      <td>0.1600</td>\n",
       "      <td>0.1975</td>\n",
       "      <td>9</td>\n",
       "      <td>True</td>\n",
       "      <td>False</td>\n",
       "    </tr>\n",
       "  </tbody>\n",
       "</table>\n",
       "</div>"
      ],
      "text/plain": [
       "   id  Length  Diameter  Height  Whole weight  Shucked weight  Viscera weight  \\\n",
       "0   0   0.550     0.430   0.150        0.7715          0.3285          0.1465   \n",
       "1   1   0.630     0.490   0.145        1.1300          0.4580          0.2765   \n",
       "2   2   0.160     0.110   0.025        0.0210          0.0055          0.0030   \n",
       "3   3   0.595     0.475   0.150        0.9145          0.3755          0.2055   \n",
       "4   4   0.555     0.425   0.130        0.7820          0.3695          0.1600   \n",
       "\n",
       "   Shell weight  Rings  Sex_I  Sex_M  \n",
       "0        0.2400     11  False  False  \n",
       "1        0.3200     11  False  False  \n",
       "2        0.0050      6   True  False  \n",
       "3        0.2500     10  False   True  \n",
       "4        0.1975      9   True  False  "
      ]
     },
     "execution_count": 16,
     "metadata": {},
     "output_type": "execute_result"
    }
   ],
   "source": [
    "dataTrain_encoded.head()"
   ]
  },
  {
   "cell_type": "code",
   "execution_count": 17,
   "id": "41f5ee5e",
   "metadata": {
    "execution": {
     "iopub.execute_input": "2024-04-30T18:28:10.111195Z",
     "iopub.status.busy": "2024-04-30T18:28:10.110820Z",
     "iopub.status.idle": "2024-04-30T18:28:10.117156Z",
     "shell.execute_reply": "2024-04-30T18:28:10.116059Z"
    },
    "papermill": {
     "duration": 0.03021,
     "end_time": "2024-04-30T18:28:10.119490",
     "exception": false,
     "start_time": "2024-04-30T18:28:10.089280",
     "status": "completed"
    },
    "tags": []
   },
   "outputs": [],
   "source": [
    "dataTest_encoded.drop(columns = 'id', inplace = True)"
   ]
  },
  {
   "cell_type": "code",
   "execution_count": 18,
   "id": "69f8cdf5",
   "metadata": {
    "execution": {
     "iopub.execute_input": "2024-04-30T18:28:10.160985Z",
     "iopub.status.busy": "2024-04-30T18:28:10.160614Z",
     "iopub.status.idle": "2024-04-30T18:28:10.178843Z",
     "shell.execute_reply": "2024-04-30T18:28:10.177699Z"
    },
    "papermill": {
     "duration": 0.041698,
     "end_time": "2024-04-30T18:28:10.181219",
     "exception": false,
     "start_time": "2024-04-30T18:28:10.139521",
     "status": "completed"
    },
    "tags": []
   },
   "outputs": [
    {
     "data": {
      "text/html": [
       "<div>\n",
       "<style scoped>\n",
       "    .dataframe tbody tr th:only-of-type {\n",
       "        vertical-align: middle;\n",
       "    }\n",
       "\n",
       "    .dataframe tbody tr th {\n",
       "        vertical-align: top;\n",
       "    }\n",
       "\n",
       "    .dataframe thead th {\n",
       "        text-align: right;\n",
       "    }\n",
       "</style>\n",
       "<table border=\"1\" class=\"dataframe\">\n",
       "  <thead>\n",
       "    <tr style=\"text-align: right;\">\n",
       "      <th></th>\n",
       "      <th>Length</th>\n",
       "      <th>Diameter</th>\n",
       "      <th>Height</th>\n",
       "      <th>Whole weight</th>\n",
       "      <th>Shucked weight</th>\n",
       "      <th>Viscera weight</th>\n",
       "      <th>Shell weight</th>\n",
       "      <th>Sex_I</th>\n",
       "      <th>Sex_M</th>\n",
       "    </tr>\n",
       "  </thead>\n",
       "  <tbody>\n",
       "    <tr>\n",
       "      <th>0</th>\n",
       "      <td>0.645</td>\n",
       "      <td>0.475</td>\n",
       "      <td>0.155</td>\n",
       "      <td>1.2380</td>\n",
       "      <td>0.6185</td>\n",
       "      <td>0.3125</td>\n",
       "      <td>0.3005</td>\n",
       "      <td>False</td>\n",
       "      <td>True</td>\n",
       "    </tr>\n",
       "    <tr>\n",
       "      <th>1</th>\n",
       "      <td>0.580</td>\n",
       "      <td>0.460</td>\n",
       "      <td>0.160</td>\n",
       "      <td>0.9830</td>\n",
       "      <td>0.4785</td>\n",
       "      <td>0.2195</td>\n",
       "      <td>0.2750</td>\n",
       "      <td>False</td>\n",
       "      <td>True</td>\n",
       "    </tr>\n",
       "    <tr>\n",
       "      <th>2</th>\n",
       "      <td>0.560</td>\n",
       "      <td>0.420</td>\n",
       "      <td>0.140</td>\n",
       "      <td>0.8395</td>\n",
       "      <td>0.3525</td>\n",
       "      <td>0.1845</td>\n",
       "      <td>0.2405</td>\n",
       "      <td>False</td>\n",
       "      <td>True</td>\n",
       "    </tr>\n",
       "    <tr>\n",
       "      <th>3</th>\n",
       "      <td>0.570</td>\n",
       "      <td>0.490</td>\n",
       "      <td>0.145</td>\n",
       "      <td>0.8740</td>\n",
       "      <td>0.3525</td>\n",
       "      <td>0.1865</td>\n",
       "      <td>0.2350</td>\n",
       "      <td>False</td>\n",
       "      <td>True</td>\n",
       "    </tr>\n",
       "    <tr>\n",
       "      <th>4</th>\n",
       "      <td>0.415</td>\n",
       "      <td>0.325</td>\n",
       "      <td>0.110</td>\n",
       "      <td>0.3580</td>\n",
       "      <td>0.1575</td>\n",
       "      <td>0.0670</td>\n",
       "      <td>0.1050</td>\n",
       "      <td>True</td>\n",
       "      <td>False</td>\n",
       "    </tr>\n",
       "  </tbody>\n",
       "</table>\n",
       "</div>"
      ],
      "text/plain": [
       "   Length  Diameter  Height  Whole weight  Shucked weight  Viscera weight  \\\n",
       "0   0.645     0.475   0.155        1.2380          0.6185          0.3125   \n",
       "1   0.580     0.460   0.160        0.9830          0.4785          0.2195   \n",
       "2   0.560     0.420   0.140        0.8395          0.3525          0.1845   \n",
       "3   0.570     0.490   0.145        0.8740          0.3525          0.1865   \n",
       "4   0.415     0.325   0.110        0.3580          0.1575          0.0670   \n",
       "\n",
       "   Shell weight  Sex_I  Sex_M  \n",
       "0        0.3005  False   True  \n",
       "1        0.2750  False   True  \n",
       "2        0.2405  False   True  \n",
       "3        0.2350  False   True  \n",
       "4        0.1050   True  False  "
      ]
     },
     "execution_count": 18,
     "metadata": {},
     "output_type": "execute_result"
    }
   ],
   "source": [
    "dataTest_encoded.head()"
   ]
  },
  {
   "cell_type": "code",
   "execution_count": 19,
   "id": "3fecfc09",
   "metadata": {
    "execution": {
     "iopub.execute_input": "2024-04-30T18:28:10.223689Z",
     "iopub.status.busy": "2024-04-30T18:28:10.223310Z",
     "iopub.status.idle": "2024-04-30T18:28:10.241513Z",
     "shell.execute_reply": "2024-04-30T18:28:10.240325Z"
    },
    "papermill": {
     "duration": 0.042305,
     "end_time": "2024-04-30T18:28:10.243830",
     "exception": false,
     "start_time": "2024-04-30T18:28:10.201525",
     "status": "completed"
    },
    "tags": []
   },
   "outputs": [
    {
     "data": {
      "text/html": [
       "<div>\n",
       "<style scoped>\n",
       "    .dataframe tbody tr th:only-of-type {\n",
       "        vertical-align: middle;\n",
       "    }\n",
       "\n",
       "    .dataframe tbody tr th {\n",
       "        vertical-align: top;\n",
       "    }\n",
       "\n",
       "    .dataframe thead th {\n",
       "        text-align: right;\n",
       "    }\n",
       "</style>\n",
       "<table border=\"1\" class=\"dataframe\">\n",
       "  <thead>\n",
       "    <tr style=\"text-align: right;\">\n",
       "      <th></th>\n",
       "      <th>Length</th>\n",
       "      <th>Diameter</th>\n",
       "      <th>Height</th>\n",
       "      <th>Whole weight</th>\n",
       "      <th>Shucked weight</th>\n",
       "      <th>Viscera weight</th>\n",
       "      <th>Shell weight</th>\n",
       "      <th>Rings</th>\n",
       "      <th>Sex_I</th>\n",
       "      <th>Sex_M</th>\n",
       "    </tr>\n",
       "  </thead>\n",
       "  <tbody>\n",
       "    <tr>\n",
       "      <th>0</th>\n",
       "      <td>0.455</td>\n",
       "      <td>0.365</td>\n",
       "      <td>0.095</td>\n",
       "      <td>0.5140</td>\n",
       "      <td>0.2245</td>\n",
       "      <td>0.1010</td>\n",
       "      <td>0.150</td>\n",
       "      <td>15</td>\n",
       "      <td>False</td>\n",
       "      <td>True</td>\n",
       "    </tr>\n",
       "    <tr>\n",
       "      <th>1</th>\n",
       "      <td>0.350</td>\n",
       "      <td>0.265</td>\n",
       "      <td>0.090</td>\n",
       "      <td>0.2255</td>\n",
       "      <td>0.0995</td>\n",
       "      <td>0.0485</td>\n",
       "      <td>0.070</td>\n",
       "      <td>7</td>\n",
       "      <td>False</td>\n",
       "      <td>True</td>\n",
       "    </tr>\n",
       "    <tr>\n",
       "      <th>2</th>\n",
       "      <td>0.530</td>\n",
       "      <td>0.420</td>\n",
       "      <td>0.135</td>\n",
       "      <td>0.6770</td>\n",
       "      <td>0.2565</td>\n",
       "      <td>0.1415</td>\n",
       "      <td>0.210</td>\n",
       "      <td>9</td>\n",
       "      <td>False</td>\n",
       "      <td>False</td>\n",
       "    </tr>\n",
       "    <tr>\n",
       "      <th>3</th>\n",
       "      <td>0.440</td>\n",
       "      <td>0.365</td>\n",
       "      <td>0.125</td>\n",
       "      <td>0.5160</td>\n",
       "      <td>0.2155</td>\n",
       "      <td>0.1140</td>\n",
       "      <td>0.155</td>\n",
       "      <td>10</td>\n",
       "      <td>False</td>\n",
       "      <td>True</td>\n",
       "    </tr>\n",
       "    <tr>\n",
       "      <th>4</th>\n",
       "      <td>0.330</td>\n",
       "      <td>0.255</td>\n",
       "      <td>0.080</td>\n",
       "      <td>0.2050</td>\n",
       "      <td>0.0895</td>\n",
       "      <td>0.0395</td>\n",
       "      <td>0.055</td>\n",
       "      <td>7</td>\n",
       "      <td>True</td>\n",
       "      <td>False</td>\n",
       "    </tr>\n",
       "  </tbody>\n",
       "</table>\n",
       "</div>"
      ],
      "text/plain": [
       "   Length  Diameter  Height  Whole weight  Shucked weight  Viscera weight  \\\n",
       "0   0.455     0.365   0.095        0.5140          0.2245          0.1010   \n",
       "1   0.350     0.265   0.090        0.2255          0.0995          0.0485   \n",
       "2   0.530     0.420   0.135        0.6770          0.2565          0.1415   \n",
       "3   0.440     0.365   0.125        0.5160          0.2155          0.1140   \n",
       "4   0.330     0.255   0.080        0.2050          0.0895          0.0395   \n",
       "\n",
       "   Shell weight  Rings  Sex_I  Sex_M  \n",
       "0         0.150     15  False   True  \n",
       "1         0.070      7  False   True  \n",
       "2         0.210      9  False  False  \n",
       "3         0.155     10  False   True  \n",
       "4         0.055      7   True  False  "
      ]
     },
     "execution_count": 19,
     "metadata": {},
     "output_type": "execute_result"
    }
   ],
   "source": [
    "og.head()"
   ]
  },
  {
   "cell_type": "code",
   "execution_count": 20,
   "id": "d0176a0d",
   "metadata": {
    "execution": {
     "iopub.execute_input": "2024-04-30T18:28:10.287023Z",
     "iopub.status.busy": "2024-04-30T18:28:10.286604Z",
     "iopub.status.idle": "2024-04-30T18:28:10.294811Z",
     "shell.execute_reply": "2024-04-30T18:28:10.293574Z"
    },
    "papermill": {
     "duration": 0.032845,
     "end_time": "2024-04-30T18:28:10.297282",
     "exception": false,
     "start_time": "2024-04-30T18:28:10.264437",
     "status": "completed"
    },
    "tags": []
   },
   "outputs": [],
   "source": [
    "dataTrain_encoded.drop(columns=\"id\",inplace= True)"
   ]
  },
  {
   "cell_type": "code",
   "execution_count": null,
   "id": "bd2d7116",
   "metadata": {
    "papermill": {
     "duration": 0.020385,
     "end_time": "2024-04-30T18:28:10.338430",
     "exception": false,
     "start_time": "2024-04-30T18:28:10.318045",
     "status": "completed"
    },
    "tags": []
   },
   "outputs": [],
   "source": []
  },
  {
   "cell_type": "code",
   "execution_count": 21,
   "id": "17ccd6fe",
   "metadata": {
    "execution": {
     "iopub.execute_input": "2024-04-30T18:28:10.441946Z",
     "iopub.status.busy": "2024-04-30T18:28:10.440773Z",
     "iopub.status.idle": "2024-04-30T18:28:10.448177Z",
     "shell.execute_reply": "2024-04-30T18:28:10.447147Z"
    },
    "papermill": {
     "duration": 0.032269,
     "end_time": "2024-04-30T18:28:10.450803",
     "exception": false,
     "start_time": "2024-04-30T18:28:10.418534",
     "status": "completed"
    },
    "tags": []
   },
   "outputs": [],
   "source": [
    "dataTrain_encoded[\"Sex_I\"] = dataTrain_encoded[\"Sex_I\"].astype(int)\n",
    "dataTrain_encoded[\"Sex_M\"] = dataTrain_encoded[\"Sex_M\"].astype(int)"
   ]
  },
  {
   "cell_type": "code",
   "execution_count": 22,
   "id": "29cc8785",
   "metadata": {
    "execution": {
     "iopub.execute_input": "2024-04-30T18:28:10.494653Z",
     "iopub.status.busy": "2024-04-30T18:28:10.494244Z",
     "iopub.status.idle": "2024-04-30T18:28:10.501061Z",
     "shell.execute_reply": "2024-04-30T18:28:10.500037Z"
    },
    "papermill": {
     "duration": 0.031959,
     "end_time": "2024-04-30T18:28:10.503698",
     "exception": false,
     "start_time": "2024-04-30T18:28:10.471739",
     "status": "completed"
    },
    "tags": []
   },
   "outputs": [],
   "source": [
    "dataTest_encoded[\"Sex_I\"] = dataTest_encoded[\"Sex_I\"].astype(int)\n",
    "dataTest_encoded[\"Sex_M\"] = dataTest_encoded[\"Sex_M\"].astype(int)"
   ]
  },
  {
   "cell_type": "code",
   "execution_count": 23,
   "id": "06f1481d",
   "metadata": {
    "execution": {
     "iopub.execute_input": "2024-04-30T18:28:10.548597Z",
     "iopub.status.busy": "2024-04-30T18:28:10.548179Z",
     "iopub.status.idle": "2024-04-30T18:28:10.554161Z",
     "shell.execute_reply": "2024-04-30T18:28:10.553132Z"
    },
    "papermill": {
     "duration": 0.03163,
     "end_time": "2024-04-30T18:28:10.556313",
     "exception": false,
     "start_time": "2024-04-30T18:28:10.524683",
     "status": "completed"
    },
    "tags": []
   },
   "outputs": [],
   "source": [
    "og[\"Sex_I\"] = og[\"Sex_I\"].astype(int)\n",
    "og[\"Sex_M\"] = og[\"Sex_M\"].astype(int)"
   ]
  },
  {
   "cell_type": "code",
   "execution_count": 24,
   "id": "d087a9b1",
   "metadata": {
    "execution": {
     "iopub.execute_input": "2024-04-30T18:28:10.600544Z",
     "iopub.status.busy": "2024-04-30T18:28:10.600083Z",
     "iopub.status.idle": "2024-04-30T18:28:10.609192Z",
     "shell.execute_reply": "2024-04-30T18:28:10.607935Z"
    },
    "papermill": {
     "duration": 0.034104,
     "end_time": "2024-04-30T18:28:10.611730",
     "exception": false,
     "start_time": "2024-04-30T18:28:10.577626",
     "status": "completed"
    },
    "tags": []
   },
   "outputs": [
    {
     "data": {
      "text/plain": [
       "Length            float64\n",
       "Diameter          float64\n",
       "Height            float64\n",
       "Whole weight      float64\n",
       "Shucked weight    float64\n",
       "Viscera weight    float64\n",
       "Shell weight      float64\n",
       "Rings               int64\n",
       "Sex_I               int64\n",
       "Sex_M               int64\n",
       "dtype: object"
      ]
     },
     "execution_count": 24,
     "metadata": {},
     "output_type": "execute_result"
    }
   ],
   "source": [
    "dataTrain_encoded.dtypes"
   ]
  },
  {
   "cell_type": "code",
   "execution_count": 25,
   "id": "06b0effb",
   "metadata": {
    "execution": {
     "iopub.execute_input": "2024-04-30T18:28:10.655637Z",
     "iopub.status.busy": "2024-04-30T18:28:10.655095Z",
     "iopub.status.idle": "2024-04-30T18:28:12.366577Z",
     "shell.execute_reply": "2024-04-30T18:28:12.365184Z"
    },
    "papermill": {
     "duration": 1.73672,
     "end_time": "2024-04-30T18:28:12.369630",
     "exception": false,
     "start_time": "2024-04-30T18:28:10.632910",
     "status": "completed"
    },
    "tags": []
   },
   "outputs": [],
   "source": [
    "import xgboost as xgb\n",
    "from sklearn.model_selection import train_test_split, KFold, cross_val_score\n",
    "from sklearn.metrics import mean_squared_error"
   ]
  },
  {
   "cell_type": "code",
   "execution_count": 26,
   "id": "d437953c",
   "metadata": {
    "execution": {
     "iopub.execute_input": "2024-04-30T18:28:12.415795Z",
     "iopub.status.busy": "2024-04-30T18:28:12.415371Z",
     "iopub.status.idle": "2024-04-30T18:28:12.426221Z",
     "shell.execute_reply": "2024-04-30T18:28:12.425390Z"
    },
    "papermill": {
     "duration": 0.036721,
     "end_time": "2024-04-30T18:28:12.428618",
     "exception": false,
     "start_time": "2024-04-30T18:28:12.391897",
     "status": "completed"
    },
    "tags": []
   },
   "outputs": [],
   "source": [
    "X = dataTrain_encoded.drop('Rings', axis=1)\n",
    "y = dataTrain_encoded['Rings']"
   ]
  },
  {
   "cell_type": "code",
   "execution_count": 27,
   "id": "e3c420ec",
   "metadata": {
    "execution": {
     "iopub.execute_input": "2024-04-30T18:28:12.473985Z",
     "iopub.status.busy": "2024-04-30T18:28:12.472720Z",
     "iopub.status.idle": "2024-04-30T18:28:12.477966Z",
     "shell.execute_reply": "2024-04-30T18:28:12.477108Z"
    },
    "papermill": {
     "duration": 0.030128,
     "end_time": "2024-04-30T18:28:12.480335",
     "exception": false,
     "start_time": "2024-04-30T18:28:12.450207",
     "status": "completed"
    },
    "tags": []
   },
   "outputs": [],
   "source": [
    "model = xgb.XGBRegressor(objective='reg:squarederror', n_estimators=200, learning_rate=0.1, max_depth=7)"
   ]
  },
  {
   "cell_type": "code",
   "execution_count": 28,
   "id": "4e67ee39",
   "metadata": {
    "execution": {
     "iopub.execute_input": "2024-04-30T18:28:12.525138Z",
     "iopub.status.busy": "2024-04-30T18:28:12.524408Z",
     "iopub.status.idle": "2024-04-30T18:28:17.556912Z",
     "shell.execute_reply": "2024-04-30T18:28:17.555782Z"
    },
    "papermill": {
     "duration": 5.058251,
     "end_time": "2024-04-30T18:28:17.559975",
     "exception": false,
     "start_time": "2024-04-30T18:28:12.501724",
     "status": "completed"
    },
    "tags": []
   },
   "outputs": [],
   "source": [
    "kf = KFold(n_splits=5, shuffle=True, random_state=42)\n",
    "\n",
    "# Perform cross-validation and store results\n",
    "scores = cross_val_score(model, X, y, cv=kf, scoring='neg_mean_squared_error')\n",
    "rmse_scores = (-scores)**0.5  # Convert MSE to RMSE"
   ]
  },
  {
   "cell_type": "code",
   "execution_count": 29,
   "id": "ad2308b4",
   "metadata": {
    "execution": {
     "iopub.execute_input": "2024-04-30T18:28:17.615212Z",
     "iopub.status.busy": "2024-04-30T18:28:17.614705Z",
     "iopub.status.idle": "2024-04-30T18:28:17.622004Z",
     "shell.execute_reply": "2024-04-30T18:28:17.620771Z"
    },
    "papermill": {
     "duration": 0.04047,
     "end_time": "2024-04-30T18:28:17.624652",
     "exception": false,
     "start_time": "2024-04-30T18:28:17.584182",
     "status": "completed"
    },
    "tags": []
   },
   "outputs": [
    {
     "name": "stdout",
     "output_type": "stream",
     "text": [
      "RMSE scores per fold: [1.86380489 1.83770594 1.85632818 1.85317424 1.82297325]\n",
      "Average RMSE: 1.8467972997469164\n"
     ]
    }
   ],
   "source": [
    "print(\"RMSE scores per fold:\", rmse_scores)\n",
    "print(\"Average RMSE:\", rmse_scores.mean())"
   ]
  },
  {
   "cell_type": "code",
   "execution_count": 30,
   "id": "5ba148c3",
   "metadata": {
    "execution": {
     "iopub.execute_input": "2024-04-30T18:28:17.670789Z",
     "iopub.status.busy": "2024-04-30T18:28:17.670232Z",
     "iopub.status.idle": "2024-04-30T18:28:18.801769Z",
     "shell.execute_reply": "2024-04-30T18:28:18.800555Z"
    },
    "papermill": {
     "duration": 1.158441,
     "end_time": "2024-04-30T18:28:18.804988",
     "exception": false,
     "start_time": "2024-04-30T18:28:17.646547",
     "status": "completed"
    },
    "tags": []
   },
   "outputs": [
    {
     "data": {
      "text/html": [
       "<style>#sk-container-id-1 {color: black;background-color: white;}#sk-container-id-1 pre{padding: 0;}#sk-container-id-1 div.sk-toggleable {background-color: white;}#sk-container-id-1 label.sk-toggleable__label {cursor: pointer;display: block;width: 100%;margin-bottom: 0;padding: 0.3em;box-sizing: border-box;text-align: center;}#sk-container-id-1 label.sk-toggleable__label-arrow:before {content: \"▸\";float: left;margin-right: 0.25em;color: #696969;}#sk-container-id-1 label.sk-toggleable__label-arrow:hover:before {color: black;}#sk-container-id-1 div.sk-estimator:hover label.sk-toggleable__label-arrow:before {color: black;}#sk-container-id-1 div.sk-toggleable__content {max-height: 0;max-width: 0;overflow: hidden;text-align: left;background-color: #f0f8ff;}#sk-container-id-1 div.sk-toggleable__content pre {margin: 0.2em;color: black;border-radius: 0.25em;background-color: #f0f8ff;}#sk-container-id-1 input.sk-toggleable__control:checked~div.sk-toggleable__content {max-height: 200px;max-width: 100%;overflow: auto;}#sk-container-id-1 input.sk-toggleable__control:checked~label.sk-toggleable__label-arrow:before {content: \"▾\";}#sk-container-id-1 div.sk-estimator input.sk-toggleable__control:checked~label.sk-toggleable__label {background-color: #d4ebff;}#sk-container-id-1 div.sk-label input.sk-toggleable__control:checked~label.sk-toggleable__label {background-color: #d4ebff;}#sk-container-id-1 input.sk-hidden--visually {border: 0;clip: rect(1px 1px 1px 1px);clip: rect(1px, 1px, 1px, 1px);height: 1px;margin: -1px;overflow: hidden;padding: 0;position: absolute;width: 1px;}#sk-container-id-1 div.sk-estimator {font-family: monospace;background-color: #f0f8ff;border: 1px dotted black;border-radius: 0.25em;box-sizing: border-box;margin-bottom: 0.5em;}#sk-container-id-1 div.sk-estimator:hover {background-color: #d4ebff;}#sk-container-id-1 div.sk-parallel-item::after {content: \"\";width: 100%;border-bottom: 1px solid gray;flex-grow: 1;}#sk-container-id-1 div.sk-label:hover label.sk-toggleable__label {background-color: #d4ebff;}#sk-container-id-1 div.sk-serial::before {content: \"\";position: absolute;border-left: 1px solid gray;box-sizing: border-box;top: 0;bottom: 0;left: 50%;z-index: 0;}#sk-container-id-1 div.sk-serial {display: flex;flex-direction: column;align-items: center;background-color: white;padding-right: 0.2em;padding-left: 0.2em;position: relative;}#sk-container-id-1 div.sk-item {position: relative;z-index: 1;}#sk-container-id-1 div.sk-parallel {display: flex;align-items: stretch;justify-content: center;background-color: white;position: relative;}#sk-container-id-1 div.sk-item::before, #sk-container-id-1 div.sk-parallel-item::before {content: \"\";position: absolute;border-left: 1px solid gray;box-sizing: border-box;top: 0;bottom: 0;left: 50%;z-index: -1;}#sk-container-id-1 div.sk-parallel-item {display: flex;flex-direction: column;z-index: 1;position: relative;background-color: white;}#sk-container-id-1 div.sk-parallel-item:first-child::after {align-self: flex-end;width: 50%;}#sk-container-id-1 div.sk-parallel-item:last-child::after {align-self: flex-start;width: 50%;}#sk-container-id-1 div.sk-parallel-item:only-child::after {width: 0;}#sk-container-id-1 div.sk-dashed-wrapped {border: 1px dashed gray;margin: 0 0.4em 0.5em 0.4em;box-sizing: border-box;padding-bottom: 0.4em;background-color: white;}#sk-container-id-1 div.sk-label label {font-family: monospace;font-weight: bold;display: inline-block;line-height: 1.2em;}#sk-container-id-1 div.sk-label-container {text-align: center;}#sk-container-id-1 div.sk-container {/* jupyter's `normalize.less` sets `[hidden] { display: none; }` but bootstrap.min.css set `[hidden] { display: none !important; }` so we also need the `!important` here to be able to override the default hidden behavior on the sphinx rendered scikit-learn.org. See: https://github.com/scikit-learn/scikit-learn/issues/21755 */display: inline-block !important;position: relative;}#sk-container-id-1 div.sk-text-repr-fallback {display: none;}</style><div id=\"sk-container-id-1\" class=\"sk-top-container\"><div class=\"sk-text-repr-fallback\"><pre>XGBRegressor(base_score=None, booster=None, callbacks=None,\n",
       "             colsample_bylevel=None, colsample_bynode=None,\n",
       "             colsample_bytree=None, device=None, early_stopping_rounds=None,\n",
       "             enable_categorical=False, eval_metric=None, feature_types=None,\n",
       "             gamma=None, grow_policy=None, importance_type=None,\n",
       "             interaction_constraints=None, learning_rate=0.1, max_bin=None,\n",
       "             max_cat_threshold=None, max_cat_to_onehot=None,\n",
       "             max_delta_step=None, max_depth=7, max_leaves=None,\n",
       "             min_child_weight=None, missing=nan, monotone_constraints=None,\n",
       "             multi_strategy=None, n_estimators=200, n_jobs=None,\n",
       "             num_parallel_tree=None, random_state=None, ...)</pre><b>In a Jupyter environment, please rerun this cell to show the HTML representation or trust the notebook. <br />On GitHub, the HTML representation is unable to render, please try loading this page with nbviewer.org.</b></div><div class=\"sk-container\" hidden><div class=\"sk-item\"><div class=\"sk-estimator sk-toggleable\"><input class=\"sk-toggleable__control sk-hidden--visually\" id=\"sk-estimator-id-1\" type=\"checkbox\" checked><label for=\"sk-estimator-id-1\" class=\"sk-toggleable__label sk-toggleable__label-arrow\">XGBRegressor</label><div class=\"sk-toggleable__content\"><pre>XGBRegressor(base_score=None, booster=None, callbacks=None,\n",
       "             colsample_bylevel=None, colsample_bynode=None,\n",
       "             colsample_bytree=None, device=None, early_stopping_rounds=None,\n",
       "             enable_categorical=False, eval_metric=None, feature_types=None,\n",
       "             gamma=None, grow_policy=None, importance_type=None,\n",
       "             interaction_constraints=None, learning_rate=0.1, max_bin=None,\n",
       "             max_cat_threshold=None, max_cat_to_onehot=None,\n",
       "             max_delta_step=None, max_depth=7, max_leaves=None,\n",
       "             min_child_weight=None, missing=nan, monotone_constraints=None,\n",
       "             multi_strategy=None, n_estimators=200, n_jobs=None,\n",
       "             num_parallel_tree=None, random_state=None, ...)</pre></div></div></div></div></div>"
      ],
      "text/plain": [
       "XGBRegressor(base_score=None, booster=None, callbacks=None,\n",
       "             colsample_bylevel=None, colsample_bynode=None,\n",
       "             colsample_bytree=None, device=None, early_stopping_rounds=None,\n",
       "             enable_categorical=False, eval_metric=None, feature_types=None,\n",
       "             gamma=None, grow_policy=None, importance_type=None,\n",
       "             interaction_constraints=None, learning_rate=0.1, max_bin=None,\n",
       "             max_cat_threshold=None, max_cat_to_onehot=None,\n",
       "             max_delta_step=None, max_depth=7, max_leaves=None,\n",
       "             min_child_weight=None, missing=nan, monotone_constraints=None,\n",
       "             multi_strategy=None, n_estimators=200, n_jobs=None,\n",
       "             num_parallel_tree=None, random_state=None, ...)"
      ]
     },
     "execution_count": 30,
     "metadata": {},
     "output_type": "execute_result"
    }
   ],
   "source": [
    "model.fit(X, y)"
   ]
  },
  {
   "cell_type": "code",
   "execution_count": 31,
   "id": "3eb92b34",
   "metadata": {
    "execution": {
     "iopub.execute_input": "2024-04-30T18:28:18.852718Z",
     "iopub.status.busy": "2024-04-30T18:28:18.852174Z",
     "iopub.status.idle": "2024-04-30T18:28:18.861057Z",
     "shell.execute_reply": "2024-04-30T18:28:18.859817Z"
    },
    "papermill": {
     "duration": 0.036314,
     "end_time": "2024-04-30T18:28:18.864320",
     "exception": false,
     "start_time": "2024-04-30T18:28:18.828006",
     "status": "completed"
    },
    "tags": []
   },
   "outputs": [
    {
     "data": {
      "text/plain": [
       "'from sklearn.model_selection import GridSearchCV\\n\\n\\n# Define the model\\nmodel = xgb.XGBRegressor(objective=\\'reg:squarederror\\')\\n\\n# Create the parameter grid\\nparam_grid = {\\n    \\'max_depth\\': [3, 5, 7],\\n    \\'learning_rate\\': [0.01, 0.1, 0.2],\\n    \\'n_estimators\\': [100, 200, 300],\\n    \\'subsample\\': [0.7, 0.8, 0.9],\\n    \\'colsample_bytree\\': [0.7, 0.8, 0.9],\\n    \\'lambda\\': [1, 1.5],\\n    \\'alpha\\': [0, 0.5]\\n}\\n\\n# Setup the GridSearch\\ngrid_search = GridSearchCV(estimator=model, param_grid=param_grid, scoring=\\'neg_root_mean_squared_error\\', cv=5, verbose=1)\\n\\n# Fit GridSearch to the data\\ngrid_search.fit(X, y)\\n\\n# Best parameters and RMSE\\nprint(\"Best parameters found: \", grid_search.best_params_)\\nprint(\"Best RMSE: \", -grid_search.best_score_)'"
      ]
     },
     "execution_count": 31,
     "metadata": {},
     "output_type": "execute_result"
    }
   ],
   "source": [
    "'''from sklearn.model_selection import GridSearchCV\n",
    "\n",
    "\n",
    "# Define the model\n",
    "model = xgb.XGBRegressor(objective='reg:squarederror')\n",
    "\n",
    "# Create the parameter grid\n",
    "param_grid = {\n",
    "    'max_depth': [3, 5, 7],\n",
    "    'learning_rate': [0.01, 0.1, 0.2],\n",
    "    'n_estimators': [100, 200, 300],\n",
    "    'subsample': [0.7, 0.8, 0.9],\n",
    "    'colsample_bytree': [0.7, 0.8, 0.9],\n",
    "    'lambda': [1, 1.5],\n",
    "    'alpha': [0, 0.5]\n",
    "}\n",
    "\n",
    "# Setup the GridSearch\n",
    "grid_search = GridSearchCV(estimator=model, param_grid=param_grid, scoring='neg_root_mean_squared_error', cv=5, verbose=1)\n",
    "\n",
    "# Fit GridSearch to the data\n",
    "grid_search.fit(X, y)\n",
    "\n",
    "# Best parameters and RMSE\n",
    "print(\"Best parameters found: \", grid_search.best_params_)\n",
    "print(\"Best RMSE: \", -grid_search.best_score_)'''"
   ]
  },
  {
   "cell_type": "code",
   "execution_count": 32,
   "id": "c4f3b957",
   "metadata": {
    "execution": {
     "iopub.execute_input": "2024-04-30T18:28:18.912758Z",
     "iopub.status.busy": "2024-04-30T18:28:18.912234Z",
     "iopub.status.idle": "2024-04-30T18:28:18.919069Z",
     "shell.execute_reply": "2024-04-30T18:28:18.917777Z"
    },
    "papermill": {
     "duration": 0.034454,
     "end_time": "2024-04-30T18:28:18.922002",
     "exception": false,
     "start_time": "2024-04-30T18:28:18.887548",
     "status": "completed"
    },
    "tags": []
   },
   "outputs": [],
   "source": [
    "\n",
    "model = xgb.XGBRegressor(objective='reg:squarederror',alpha= 0, colsample_bytree= 0.8, reg_lambda= 1.5, learning_rate= 0.1, max_depth= 7, n_estimators= 200, subsample=0.9)                        "
   ]
  },
  {
   "cell_type": "code",
   "execution_count": 33,
   "id": "fd8cabee",
   "metadata": {
    "execution": {
     "iopub.execute_input": "2024-04-30T18:28:18.973364Z",
     "iopub.status.busy": "2024-04-30T18:28:18.972336Z",
     "iopub.status.idle": "2024-04-30T18:28:20.054625Z",
     "shell.execute_reply": "2024-04-30T18:28:20.053533Z"
    },
    "papermill": {
     "duration": 1.111412,
     "end_time": "2024-04-30T18:28:20.057373",
     "exception": false,
     "start_time": "2024-04-30T18:28:18.945961",
     "status": "completed"
    },
    "tags": []
   },
   "outputs": [
    {
     "data": {
      "text/html": [
       "<style>#sk-container-id-2 {color: black;background-color: white;}#sk-container-id-2 pre{padding: 0;}#sk-container-id-2 div.sk-toggleable {background-color: white;}#sk-container-id-2 label.sk-toggleable__label {cursor: pointer;display: block;width: 100%;margin-bottom: 0;padding: 0.3em;box-sizing: border-box;text-align: center;}#sk-container-id-2 label.sk-toggleable__label-arrow:before {content: \"▸\";float: left;margin-right: 0.25em;color: #696969;}#sk-container-id-2 label.sk-toggleable__label-arrow:hover:before {color: black;}#sk-container-id-2 div.sk-estimator:hover label.sk-toggleable__label-arrow:before {color: black;}#sk-container-id-2 div.sk-toggleable__content {max-height: 0;max-width: 0;overflow: hidden;text-align: left;background-color: #f0f8ff;}#sk-container-id-2 div.sk-toggleable__content pre {margin: 0.2em;color: black;border-radius: 0.25em;background-color: #f0f8ff;}#sk-container-id-2 input.sk-toggleable__control:checked~div.sk-toggleable__content {max-height: 200px;max-width: 100%;overflow: auto;}#sk-container-id-2 input.sk-toggleable__control:checked~label.sk-toggleable__label-arrow:before {content: \"▾\";}#sk-container-id-2 div.sk-estimator input.sk-toggleable__control:checked~label.sk-toggleable__label {background-color: #d4ebff;}#sk-container-id-2 div.sk-label input.sk-toggleable__control:checked~label.sk-toggleable__label {background-color: #d4ebff;}#sk-container-id-2 input.sk-hidden--visually {border: 0;clip: rect(1px 1px 1px 1px);clip: rect(1px, 1px, 1px, 1px);height: 1px;margin: -1px;overflow: hidden;padding: 0;position: absolute;width: 1px;}#sk-container-id-2 div.sk-estimator {font-family: monospace;background-color: #f0f8ff;border: 1px dotted black;border-radius: 0.25em;box-sizing: border-box;margin-bottom: 0.5em;}#sk-container-id-2 div.sk-estimator:hover {background-color: #d4ebff;}#sk-container-id-2 div.sk-parallel-item::after {content: \"\";width: 100%;border-bottom: 1px solid gray;flex-grow: 1;}#sk-container-id-2 div.sk-label:hover label.sk-toggleable__label {background-color: #d4ebff;}#sk-container-id-2 div.sk-serial::before {content: \"\";position: absolute;border-left: 1px solid gray;box-sizing: border-box;top: 0;bottom: 0;left: 50%;z-index: 0;}#sk-container-id-2 div.sk-serial {display: flex;flex-direction: column;align-items: center;background-color: white;padding-right: 0.2em;padding-left: 0.2em;position: relative;}#sk-container-id-2 div.sk-item {position: relative;z-index: 1;}#sk-container-id-2 div.sk-parallel {display: flex;align-items: stretch;justify-content: center;background-color: white;position: relative;}#sk-container-id-2 div.sk-item::before, #sk-container-id-2 div.sk-parallel-item::before {content: \"\";position: absolute;border-left: 1px solid gray;box-sizing: border-box;top: 0;bottom: 0;left: 50%;z-index: -1;}#sk-container-id-2 div.sk-parallel-item {display: flex;flex-direction: column;z-index: 1;position: relative;background-color: white;}#sk-container-id-2 div.sk-parallel-item:first-child::after {align-self: flex-end;width: 50%;}#sk-container-id-2 div.sk-parallel-item:last-child::after {align-self: flex-start;width: 50%;}#sk-container-id-2 div.sk-parallel-item:only-child::after {width: 0;}#sk-container-id-2 div.sk-dashed-wrapped {border: 1px dashed gray;margin: 0 0.4em 0.5em 0.4em;box-sizing: border-box;padding-bottom: 0.4em;background-color: white;}#sk-container-id-2 div.sk-label label {font-family: monospace;font-weight: bold;display: inline-block;line-height: 1.2em;}#sk-container-id-2 div.sk-label-container {text-align: center;}#sk-container-id-2 div.sk-container {/* jupyter's `normalize.less` sets `[hidden] { display: none; }` but bootstrap.min.css set `[hidden] { display: none !important; }` so we also need the `!important` here to be able to override the default hidden behavior on the sphinx rendered scikit-learn.org. See: https://github.com/scikit-learn/scikit-learn/issues/21755 */display: inline-block !important;position: relative;}#sk-container-id-2 div.sk-text-repr-fallback {display: none;}</style><div id=\"sk-container-id-2\" class=\"sk-top-container\"><div class=\"sk-text-repr-fallback\"><pre>XGBRegressor(alpha=0, base_score=None, booster=None, callbacks=None,\n",
       "             colsample_bylevel=None, colsample_bynode=None,\n",
       "             colsample_bytree=0.8, device=None, early_stopping_rounds=None,\n",
       "             enable_categorical=False, eval_metric=None, feature_types=None,\n",
       "             gamma=None, grow_policy=None, importance_type=None,\n",
       "             interaction_constraints=None, learning_rate=0.1, max_bin=None,\n",
       "             max_cat_threshold=None, max_cat_to_onehot=None,\n",
       "             max_delta_step=None, max_depth=7, max_leaves=None,\n",
       "             min_child_weight=None, missing=nan, monotone_constraints=None,\n",
       "             multi_strategy=None, n_estimators=200, n_jobs=None,\n",
       "             num_parallel_tree=None, ...)</pre><b>In a Jupyter environment, please rerun this cell to show the HTML representation or trust the notebook. <br />On GitHub, the HTML representation is unable to render, please try loading this page with nbviewer.org.</b></div><div class=\"sk-container\" hidden><div class=\"sk-item\"><div class=\"sk-estimator sk-toggleable\"><input class=\"sk-toggleable__control sk-hidden--visually\" id=\"sk-estimator-id-2\" type=\"checkbox\" checked><label for=\"sk-estimator-id-2\" class=\"sk-toggleable__label sk-toggleable__label-arrow\">XGBRegressor</label><div class=\"sk-toggleable__content\"><pre>XGBRegressor(alpha=0, base_score=None, booster=None, callbacks=None,\n",
       "             colsample_bylevel=None, colsample_bynode=None,\n",
       "             colsample_bytree=0.8, device=None, early_stopping_rounds=None,\n",
       "             enable_categorical=False, eval_metric=None, feature_types=None,\n",
       "             gamma=None, grow_policy=None, importance_type=None,\n",
       "             interaction_constraints=None, learning_rate=0.1, max_bin=None,\n",
       "             max_cat_threshold=None, max_cat_to_onehot=None,\n",
       "             max_delta_step=None, max_depth=7, max_leaves=None,\n",
       "             min_child_weight=None, missing=nan, monotone_constraints=None,\n",
       "             multi_strategy=None, n_estimators=200, n_jobs=None,\n",
       "             num_parallel_tree=None, ...)</pre></div></div></div></div></div>"
      ],
      "text/plain": [
       "XGBRegressor(alpha=0, base_score=None, booster=None, callbacks=None,\n",
       "             colsample_bylevel=None, colsample_bynode=None,\n",
       "             colsample_bytree=0.8, device=None, early_stopping_rounds=None,\n",
       "             enable_categorical=False, eval_metric=None, feature_types=None,\n",
       "             gamma=None, grow_policy=None, importance_type=None,\n",
       "             interaction_constraints=None, learning_rate=0.1, max_bin=None,\n",
       "             max_cat_threshold=None, max_cat_to_onehot=None,\n",
       "             max_delta_step=None, max_depth=7, max_leaves=None,\n",
       "             min_child_weight=None, missing=nan, monotone_constraints=None,\n",
       "             multi_strategy=None, n_estimators=200, n_jobs=None,\n",
       "             num_parallel_tree=None, ...)"
      ]
     },
     "execution_count": 33,
     "metadata": {},
     "output_type": "execute_result"
    }
   ],
   "source": [
    "model.fit(X,y)"
   ]
  },
  {
   "cell_type": "code",
   "execution_count": 34,
   "id": "123e55ee",
   "metadata": {
    "execution": {
     "iopub.execute_input": "2024-04-30T18:28:20.103348Z",
     "iopub.status.busy": "2024-04-30T18:28:20.102922Z",
     "iopub.status.idle": "2024-04-30T18:28:24.077456Z",
     "shell.execute_reply": "2024-04-30T18:28:24.076361Z"
    },
    "papermill": {
     "duration": 4.001002,
     "end_time": "2024-04-30T18:28:24.080584",
     "exception": false,
     "start_time": "2024-04-30T18:28:20.079582",
     "status": "completed"
    },
    "tags": []
   },
   "outputs": [],
   "source": [
    "kf = KFold(n_splits=4, shuffle=True, random_state=42)\n",
    "\n",
    "# Perform cross-validation and store results\n",
    "scores = cross_val_score(model, X, y, cv=kf, scoring='neg_mean_squared_error')\n",
    "rmse_scores = (-scores)**0.5  # Convert MSE to RMSE"
   ]
  },
  {
   "cell_type": "code",
   "execution_count": 35,
   "id": "6ff4cda3",
   "metadata": {
    "execution": {
     "iopub.execute_input": "2024-04-30T18:28:24.132166Z",
     "iopub.status.busy": "2024-04-30T18:28:24.131592Z",
     "iopub.status.idle": "2024-04-30T18:28:24.139019Z",
     "shell.execute_reply": "2024-04-30T18:28:24.137701Z"
    },
    "papermill": {
     "duration": 0.037062,
     "end_time": "2024-04-30T18:28:24.142290",
     "exception": false,
     "start_time": "2024-04-30T18:28:24.105228",
     "status": "completed"
    },
    "tags": []
   },
   "outputs": [
    {
     "name": "stdout",
     "output_type": "stream",
     "text": [
      "[1.86212648 1.83990135 1.83841587 1.82824647]\n"
     ]
    }
   ],
   "source": [
    "print(rmse_scores)"
   ]
  },
  {
   "cell_type": "code",
   "execution_count": 36,
   "id": "ba989c02",
   "metadata": {
    "execution": {
     "iopub.execute_input": "2024-04-30T18:28:24.192298Z",
     "iopub.status.busy": "2024-04-30T18:28:24.191712Z",
     "iopub.status.idle": "2024-04-30T18:28:24.201149Z",
     "shell.execute_reply": "2024-04-30T18:28:24.200112Z"
    },
    "papermill": {
     "duration": 0.03823,
     "end_time": "2024-04-30T18:28:24.203980",
     "exception": false,
     "start_time": "2024-04-30T18:28:24.165750",
     "status": "completed"
    },
    "tags": []
   },
   "outputs": [],
   "source": [
    "final_data =pd.concat([dataTrain_encoded, og], ignore_index=True)"
   ]
  },
  {
   "cell_type": "code",
   "execution_count": 37,
   "id": "3ccf317d",
   "metadata": {
    "execution": {
     "iopub.execute_input": "2024-04-30T18:28:24.255209Z",
     "iopub.status.busy": "2024-04-30T18:28:24.253906Z",
     "iopub.status.idle": "2024-04-30T18:28:24.263580Z",
     "shell.execute_reply": "2024-04-30T18:28:24.262614Z"
    },
    "papermill": {
     "duration": 0.037753,
     "end_time": "2024-04-30T18:28:24.265886",
     "exception": false,
     "start_time": "2024-04-30T18:28:24.228133",
     "status": "completed"
    },
    "tags": []
   },
   "outputs": [],
   "source": [
    "X = final_data.drop('Rings', axis=1)\n",
    "y = final_data['Rings']"
   ]
  },
  {
   "cell_type": "code",
   "execution_count": null,
   "id": "bb32f2f7",
   "metadata": {
    "papermill": {
     "duration": 0.021708,
     "end_time": "2024-04-30T18:28:24.309832",
     "exception": false,
     "start_time": "2024-04-30T18:28:24.288124",
     "status": "completed"
    },
    "tags": []
   },
   "outputs": [],
   "source": []
  },
  {
   "cell_type": "code",
   "execution_count": 38,
   "id": "428d49b4",
   "metadata": {
    "execution": {
     "iopub.execute_input": "2024-04-30T18:28:24.356892Z",
     "iopub.status.busy": "2024-04-30T18:28:24.355700Z",
     "iopub.status.idle": "2024-04-30T18:28:25.490851Z",
     "shell.execute_reply": "2024-04-30T18:28:25.489641Z"
    },
    "papermill": {
     "duration": 1.161877,
     "end_time": "2024-04-30T18:28:25.494063",
     "exception": false,
     "start_time": "2024-04-30T18:28:24.332186",
     "status": "completed"
    },
    "tags": []
   },
   "outputs": [
    {
     "data": {
      "text/html": [
       "<style>#sk-container-id-3 {color: black;background-color: white;}#sk-container-id-3 pre{padding: 0;}#sk-container-id-3 div.sk-toggleable {background-color: white;}#sk-container-id-3 label.sk-toggleable__label {cursor: pointer;display: block;width: 100%;margin-bottom: 0;padding: 0.3em;box-sizing: border-box;text-align: center;}#sk-container-id-3 label.sk-toggleable__label-arrow:before {content: \"▸\";float: left;margin-right: 0.25em;color: #696969;}#sk-container-id-3 label.sk-toggleable__label-arrow:hover:before {color: black;}#sk-container-id-3 div.sk-estimator:hover label.sk-toggleable__label-arrow:before {color: black;}#sk-container-id-3 div.sk-toggleable__content {max-height: 0;max-width: 0;overflow: hidden;text-align: left;background-color: #f0f8ff;}#sk-container-id-3 div.sk-toggleable__content pre {margin: 0.2em;color: black;border-radius: 0.25em;background-color: #f0f8ff;}#sk-container-id-3 input.sk-toggleable__control:checked~div.sk-toggleable__content {max-height: 200px;max-width: 100%;overflow: auto;}#sk-container-id-3 input.sk-toggleable__control:checked~label.sk-toggleable__label-arrow:before {content: \"▾\";}#sk-container-id-3 div.sk-estimator input.sk-toggleable__control:checked~label.sk-toggleable__label {background-color: #d4ebff;}#sk-container-id-3 div.sk-label input.sk-toggleable__control:checked~label.sk-toggleable__label {background-color: #d4ebff;}#sk-container-id-3 input.sk-hidden--visually {border: 0;clip: rect(1px 1px 1px 1px);clip: rect(1px, 1px, 1px, 1px);height: 1px;margin: -1px;overflow: hidden;padding: 0;position: absolute;width: 1px;}#sk-container-id-3 div.sk-estimator {font-family: monospace;background-color: #f0f8ff;border: 1px dotted black;border-radius: 0.25em;box-sizing: border-box;margin-bottom: 0.5em;}#sk-container-id-3 div.sk-estimator:hover {background-color: #d4ebff;}#sk-container-id-3 div.sk-parallel-item::after {content: \"\";width: 100%;border-bottom: 1px solid gray;flex-grow: 1;}#sk-container-id-3 div.sk-label:hover label.sk-toggleable__label {background-color: #d4ebff;}#sk-container-id-3 div.sk-serial::before {content: \"\";position: absolute;border-left: 1px solid gray;box-sizing: border-box;top: 0;bottom: 0;left: 50%;z-index: 0;}#sk-container-id-3 div.sk-serial {display: flex;flex-direction: column;align-items: center;background-color: white;padding-right: 0.2em;padding-left: 0.2em;position: relative;}#sk-container-id-3 div.sk-item {position: relative;z-index: 1;}#sk-container-id-3 div.sk-parallel {display: flex;align-items: stretch;justify-content: center;background-color: white;position: relative;}#sk-container-id-3 div.sk-item::before, #sk-container-id-3 div.sk-parallel-item::before {content: \"\";position: absolute;border-left: 1px solid gray;box-sizing: border-box;top: 0;bottom: 0;left: 50%;z-index: -1;}#sk-container-id-3 div.sk-parallel-item {display: flex;flex-direction: column;z-index: 1;position: relative;background-color: white;}#sk-container-id-3 div.sk-parallel-item:first-child::after {align-self: flex-end;width: 50%;}#sk-container-id-3 div.sk-parallel-item:last-child::after {align-self: flex-start;width: 50%;}#sk-container-id-3 div.sk-parallel-item:only-child::after {width: 0;}#sk-container-id-3 div.sk-dashed-wrapped {border: 1px dashed gray;margin: 0 0.4em 0.5em 0.4em;box-sizing: border-box;padding-bottom: 0.4em;background-color: white;}#sk-container-id-3 div.sk-label label {font-family: monospace;font-weight: bold;display: inline-block;line-height: 1.2em;}#sk-container-id-3 div.sk-label-container {text-align: center;}#sk-container-id-3 div.sk-container {/* jupyter's `normalize.less` sets `[hidden] { display: none; }` but bootstrap.min.css set `[hidden] { display: none !important; }` so we also need the `!important` here to be able to override the default hidden behavior on the sphinx rendered scikit-learn.org. See: https://github.com/scikit-learn/scikit-learn/issues/21755 */display: inline-block !important;position: relative;}#sk-container-id-3 div.sk-text-repr-fallback {display: none;}</style><div id=\"sk-container-id-3\" class=\"sk-top-container\"><div class=\"sk-text-repr-fallback\"><pre>XGBRegressor(alpha=0, base_score=None, booster=None, callbacks=None,\n",
       "             colsample_bylevel=None, colsample_bynode=None,\n",
       "             colsample_bytree=0.8, device=None, early_stopping_rounds=None,\n",
       "             enable_categorical=False, eval_metric=None, feature_types=None,\n",
       "             gamma=None, grow_policy=None, importance_type=None,\n",
       "             interaction_constraints=None, learning_rate=0.1, max_bin=None,\n",
       "             max_cat_threshold=None, max_cat_to_onehot=None,\n",
       "             max_delta_step=None, max_depth=7, max_leaves=None,\n",
       "             min_child_weight=None, missing=nan, monotone_constraints=None,\n",
       "             multi_strategy=None, n_estimators=200, n_jobs=None,\n",
       "             num_parallel_tree=None, ...)</pre><b>In a Jupyter environment, please rerun this cell to show the HTML representation or trust the notebook. <br />On GitHub, the HTML representation is unable to render, please try loading this page with nbviewer.org.</b></div><div class=\"sk-container\" hidden><div class=\"sk-item\"><div class=\"sk-estimator sk-toggleable\"><input class=\"sk-toggleable__control sk-hidden--visually\" id=\"sk-estimator-id-3\" type=\"checkbox\" checked><label for=\"sk-estimator-id-3\" class=\"sk-toggleable__label sk-toggleable__label-arrow\">XGBRegressor</label><div class=\"sk-toggleable__content\"><pre>XGBRegressor(alpha=0, base_score=None, booster=None, callbacks=None,\n",
       "             colsample_bylevel=None, colsample_bynode=None,\n",
       "             colsample_bytree=0.8, device=None, early_stopping_rounds=None,\n",
       "             enable_categorical=False, eval_metric=None, feature_types=None,\n",
       "             gamma=None, grow_policy=None, importance_type=None,\n",
       "             interaction_constraints=None, learning_rate=0.1, max_bin=None,\n",
       "             max_cat_threshold=None, max_cat_to_onehot=None,\n",
       "             max_delta_step=None, max_depth=7, max_leaves=None,\n",
       "             min_child_weight=None, missing=nan, monotone_constraints=None,\n",
       "             multi_strategy=None, n_estimators=200, n_jobs=None,\n",
       "             num_parallel_tree=None, ...)</pre></div></div></div></div></div>"
      ],
      "text/plain": [
       "XGBRegressor(alpha=0, base_score=None, booster=None, callbacks=None,\n",
       "             colsample_bylevel=None, colsample_bynode=None,\n",
       "             colsample_bytree=0.8, device=None, early_stopping_rounds=None,\n",
       "             enable_categorical=False, eval_metric=None, feature_types=None,\n",
       "             gamma=None, grow_policy=None, importance_type=None,\n",
       "             interaction_constraints=None, learning_rate=0.1, max_bin=None,\n",
       "             max_cat_threshold=None, max_cat_to_onehot=None,\n",
       "             max_delta_step=None, max_depth=7, max_leaves=None,\n",
       "             min_child_weight=None, missing=nan, monotone_constraints=None,\n",
       "             multi_strategy=None, n_estimators=200, n_jobs=None,\n",
       "             num_parallel_tree=None, ...)"
      ]
     },
     "execution_count": 38,
     "metadata": {},
     "output_type": "execute_result"
    }
   ],
   "source": [
    "model.fit(X,y)"
   ]
  },
  {
   "cell_type": "markdown",
   "id": "a8b4db8b",
   "metadata": {
    "papermill": {
     "duration": 0.022908,
     "end_time": "2024-04-30T18:28:25.540076",
     "exception": false,
     "start_time": "2024-04-30T18:28:25.517168",
     "status": "completed"
    },
    "tags": []
   },
   "source": []
  },
  {
   "cell_type": "code",
   "execution_count": 39,
   "id": "91e426a5",
   "metadata": {
    "execution": {
     "iopub.execute_input": "2024-04-30T18:28:25.589886Z",
     "iopub.status.busy": "2024-04-30T18:28:25.588834Z",
     "iopub.status.idle": "2024-04-30T18:28:25.622502Z",
     "shell.execute_reply": "2024-04-30T18:28:25.621384Z"
    },
    "papermill": {
     "duration": 0.062404,
     "end_time": "2024-04-30T18:28:25.625746",
     "exception": false,
     "start_time": "2024-04-30T18:28:25.563342",
     "status": "completed"
    },
    "tags": []
   },
   "outputs": [],
   "source": [
    "submit= pd.read_csv('/kaggle/input/playground-series-s4e4/sample_submission.csv')"
   ]
  },
  {
   "cell_type": "code",
   "execution_count": 40,
   "id": "f88cdb4e",
   "metadata": {
    "execution": {
     "iopub.execute_input": "2024-04-30T18:28:25.676089Z",
     "iopub.status.busy": "2024-04-30T18:28:25.675215Z",
     "iopub.status.idle": "2024-04-30T18:28:25.687953Z",
     "shell.execute_reply": "2024-04-30T18:28:25.686664Z"
    },
    "papermill": {
     "duration": 0.040674,
     "end_time": "2024-04-30T18:28:25.690788",
     "exception": false,
     "start_time": "2024-04-30T18:28:25.650114",
     "status": "completed"
    },
    "tags": []
   },
   "outputs": [
    {
     "data": {
      "text/html": [
       "<div>\n",
       "<style scoped>\n",
       "    .dataframe tbody tr th:only-of-type {\n",
       "        vertical-align: middle;\n",
       "    }\n",
       "\n",
       "    .dataframe tbody tr th {\n",
       "        vertical-align: top;\n",
       "    }\n",
       "\n",
       "    .dataframe thead th {\n",
       "        text-align: right;\n",
       "    }\n",
       "</style>\n",
       "<table border=\"1\" class=\"dataframe\">\n",
       "  <thead>\n",
       "    <tr style=\"text-align: right;\">\n",
       "      <th></th>\n",
       "      <th>id</th>\n",
       "      <th>Rings</th>\n",
       "    </tr>\n",
       "  </thead>\n",
       "  <tbody>\n",
       "    <tr>\n",
       "      <th>0</th>\n",
       "      <td>90615</td>\n",
       "      <td>10</td>\n",
       "    </tr>\n",
       "    <tr>\n",
       "      <th>1</th>\n",
       "      <td>90616</td>\n",
       "      <td>10</td>\n",
       "    </tr>\n",
       "    <tr>\n",
       "      <th>2</th>\n",
       "      <td>90617</td>\n",
       "      <td>10</td>\n",
       "    </tr>\n",
       "    <tr>\n",
       "      <th>3</th>\n",
       "      <td>90618</td>\n",
       "      <td>10</td>\n",
       "    </tr>\n",
       "    <tr>\n",
       "      <th>4</th>\n",
       "      <td>90619</td>\n",
       "      <td>10</td>\n",
       "    </tr>\n",
       "  </tbody>\n",
       "</table>\n",
       "</div>"
      ],
      "text/plain": [
       "      id  Rings\n",
       "0  90615     10\n",
       "1  90616     10\n",
       "2  90617     10\n",
       "3  90618     10\n",
       "4  90619     10"
      ]
     },
     "execution_count": 40,
     "metadata": {},
     "output_type": "execute_result"
    }
   ],
   "source": [
    "submit.head()"
   ]
  },
  {
   "cell_type": "code",
   "execution_count": 41,
   "id": "69ef416d",
   "metadata": {
    "execution": {
     "iopub.execute_input": "2024-04-30T18:28:25.743343Z",
     "iopub.status.busy": "2024-04-30T18:28:25.742397Z",
     "iopub.status.idle": "2024-04-30T18:28:25.761749Z",
     "shell.execute_reply": "2024-04-30T18:28:25.760369Z"
    },
    "papermill": {
     "duration": 0.049884,
     "end_time": "2024-04-30T18:28:25.764933",
     "exception": false,
     "start_time": "2024-04-30T18:28:25.715049",
     "status": "completed"
    },
    "tags": []
   },
   "outputs": [
    {
     "data": {
      "text/html": [
       "<div>\n",
       "<style scoped>\n",
       "    .dataframe tbody tr th:only-of-type {\n",
       "        vertical-align: middle;\n",
       "    }\n",
       "\n",
       "    .dataframe tbody tr th {\n",
       "        vertical-align: top;\n",
       "    }\n",
       "\n",
       "    .dataframe thead th {\n",
       "        text-align: right;\n",
       "    }\n",
       "</style>\n",
       "<table border=\"1\" class=\"dataframe\">\n",
       "  <thead>\n",
       "    <tr style=\"text-align: right;\">\n",
       "      <th></th>\n",
       "      <th>Length</th>\n",
       "      <th>Diameter</th>\n",
       "      <th>Height</th>\n",
       "      <th>Whole weight</th>\n",
       "      <th>Shucked weight</th>\n",
       "      <th>Viscera weight</th>\n",
       "      <th>Shell weight</th>\n",
       "      <th>Sex_I</th>\n",
       "      <th>Sex_M</th>\n",
       "    </tr>\n",
       "  </thead>\n",
       "  <tbody>\n",
       "    <tr>\n",
       "      <th>0</th>\n",
       "      <td>0.645</td>\n",
       "      <td>0.475</td>\n",
       "      <td>0.155</td>\n",
       "      <td>1.2380</td>\n",
       "      <td>0.6185</td>\n",
       "      <td>0.3125</td>\n",
       "      <td>0.3005</td>\n",
       "      <td>0</td>\n",
       "      <td>1</td>\n",
       "    </tr>\n",
       "    <tr>\n",
       "      <th>1</th>\n",
       "      <td>0.580</td>\n",
       "      <td>0.460</td>\n",
       "      <td>0.160</td>\n",
       "      <td>0.9830</td>\n",
       "      <td>0.4785</td>\n",
       "      <td>0.2195</td>\n",
       "      <td>0.2750</td>\n",
       "      <td>0</td>\n",
       "      <td>1</td>\n",
       "    </tr>\n",
       "    <tr>\n",
       "      <th>2</th>\n",
       "      <td>0.560</td>\n",
       "      <td>0.420</td>\n",
       "      <td>0.140</td>\n",
       "      <td>0.8395</td>\n",
       "      <td>0.3525</td>\n",
       "      <td>0.1845</td>\n",
       "      <td>0.2405</td>\n",
       "      <td>0</td>\n",
       "      <td>1</td>\n",
       "    </tr>\n",
       "    <tr>\n",
       "      <th>3</th>\n",
       "      <td>0.570</td>\n",
       "      <td>0.490</td>\n",
       "      <td>0.145</td>\n",
       "      <td>0.8740</td>\n",
       "      <td>0.3525</td>\n",
       "      <td>0.1865</td>\n",
       "      <td>0.2350</td>\n",
       "      <td>0</td>\n",
       "      <td>1</td>\n",
       "    </tr>\n",
       "    <tr>\n",
       "      <th>4</th>\n",
       "      <td>0.415</td>\n",
       "      <td>0.325</td>\n",
       "      <td>0.110</td>\n",
       "      <td>0.3580</td>\n",
       "      <td>0.1575</td>\n",
       "      <td>0.0670</td>\n",
       "      <td>0.1050</td>\n",
       "      <td>1</td>\n",
       "      <td>0</td>\n",
       "    </tr>\n",
       "  </tbody>\n",
       "</table>\n",
       "</div>"
      ],
      "text/plain": [
       "   Length  Diameter  Height  Whole weight  Shucked weight  Viscera weight  \\\n",
       "0   0.645     0.475   0.155        1.2380          0.6185          0.3125   \n",
       "1   0.580     0.460   0.160        0.9830          0.4785          0.2195   \n",
       "2   0.560     0.420   0.140        0.8395          0.3525          0.1845   \n",
       "3   0.570     0.490   0.145        0.8740          0.3525          0.1865   \n",
       "4   0.415     0.325   0.110        0.3580          0.1575          0.0670   \n",
       "\n",
       "   Shell weight  Sex_I  Sex_M  \n",
       "0        0.3005      0      1  \n",
       "1        0.2750      0      1  \n",
       "2        0.2405      0      1  \n",
       "3        0.2350      0      1  \n",
       "4        0.1050      1      0  "
      ]
     },
     "execution_count": 41,
     "metadata": {},
     "output_type": "execute_result"
    }
   ],
   "source": [
    "dataTest_encoded.head()"
   ]
  },
  {
   "cell_type": "code",
   "execution_count": null,
   "id": "f819618b",
   "metadata": {
    "papermill": {
     "duration": 0.025359,
     "end_time": "2024-04-30T18:28:25.816544",
     "exception": false,
     "start_time": "2024-04-30T18:28:25.791185",
     "status": "completed"
    },
    "tags": []
   },
   "outputs": [],
   "source": []
  },
  {
   "cell_type": "code",
   "execution_count": 42,
   "id": "a066ab80",
   "metadata": {
    "execution": {
     "iopub.execute_input": "2024-04-30T18:28:25.868547Z",
     "iopub.status.busy": "2024-04-30T18:28:25.868022Z",
     "iopub.status.idle": "2024-04-30T18:28:26.032925Z",
     "shell.execute_reply": "2024-04-30T18:28:26.031722Z"
    },
    "papermill": {
     "duration": 0.19489,
     "end_time": "2024-04-30T18:28:26.036125",
     "exception": false,
     "start_time": "2024-04-30T18:28:25.841235",
     "status": "completed"
    },
    "tags": []
   },
   "outputs": [],
   "source": [
    "pred_y = model.predict(dataTest_encoded)"
   ]
  },
  {
   "cell_type": "code",
   "execution_count": 43,
   "id": "fe7b998d",
   "metadata": {
    "execution": {
     "iopub.execute_input": "2024-04-30T18:28:26.088834Z",
     "iopub.status.busy": "2024-04-30T18:28:26.088335Z",
     "iopub.status.idle": "2024-04-30T18:28:26.096385Z",
     "shell.execute_reply": "2024-04-30T18:28:26.095197Z"
    },
    "papermill": {
     "duration": 0.037513,
     "end_time": "2024-04-30T18:28:26.099065",
     "exception": false,
     "start_time": "2024-04-30T18:28:26.061552",
     "status": "completed"
    },
    "tags": []
   },
   "outputs": [],
   "source": [
    "submit.drop(columns='Rings',inplace=True)"
   ]
  },
  {
   "cell_type": "code",
   "execution_count": 44,
   "id": "d5ecc52c",
   "metadata": {
    "execution": {
     "iopub.execute_input": "2024-04-30T18:28:26.151615Z",
     "iopub.status.busy": "2024-04-30T18:28:26.150659Z",
     "iopub.status.idle": "2024-04-30T18:28:26.158150Z",
     "shell.execute_reply": "2024-04-30T18:28:26.156740Z"
    },
    "papermill": {
     "duration": 0.039086,
     "end_time": "2024-04-30T18:28:26.162146",
     "exception": false,
     "start_time": "2024-04-30T18:28:26.123060",
     "status": "completed"
    },
    "tags": []
   },
   "outputs": [],
   "source": [
    "submit['Rings']= pred_y"
   ]
  },
  {
   "cell_type": "code",
   "execution_count": 45,
   "id": "b0ca5a99",
   "metadata": {
    "execution": {
     "iopub.execute_input": "2024-04-30T18:28:26.213311Z",
     "iopub.status.busy": "2024-04-30T18:28:26.212796Z",
     "iopub.status.idle": "2024-04-30T18:28:26.225207Z",
     "shell.execute_reply": "2024-04-30T18:28:26.223842Z"
    },
    "papermill": {
     "duration": 0.041111,
     "end_time": "2024-04-30T18:28:26.227992",
     "exception": false,
     "start_time": "2024-04-30T18:28:26.186881",
     "status": "completed"
    },
    "tags": []
   },
   "outputs": [
    {
     "data": {
      "text/html": [
       "<div>\n",
       "<style scoped>\n",
       "    .dataframe tbody tr th:only-of-type {\n",
       "        vertical-align: middle;\n",
       "    }\n",
       "\n",
       "    .dataframe tbody tr th {\n",
       "        vertical-align: top;\n",
       "    }\n",
       "\n",
       "    .dataframe thead th {\n",
       "        text-align: right;\n",
       "    }\n",
       "</style>\n",
       "<table border=\"1\" class=\"dataframe\">\n",
       "  <thead>\n",
       "    <tr style=\"text-align: right;\">\n",
       "      <th></th>\n",
       "      <th>id</th>\n",
       "      <th>Rings</th>\n",
       "    </tr>\n",
       "  </thead>\n",
       "  <tbody>\n",
       "    <tr>\n",
       "      <th>0</th>\n",
       "      <td>90615</td>\n",
       "      <td>9.828862</td>\n",
       "    </tr>\n",
       "    <tr>\n",
       "      <th>1</th>\n",
       "      <td>90616</td>\n",
       "      <td>9.674077</td>\n",
       "    </tr>\n",
       "    <tr>\n",
       "      <th>2</th>\n",
       "      <td>90617</td>\n",
       "      <td>10.133894</td>\n",
       "    </tr>\n",
       "    <tr>\n",
       "      <th>3</th>\n",
       "      <td>90618</td>\n",
       "      <td>10.369923</td>\n",
       "    </tr>\n",
       "    <tr>\n",
       "      <th>4</th>\n",
       "      <td>90619</td>\n",
       "      <td>7.598033</td>\n",
       "    </tr>\n",
       "  </tbody>\n",
       "</table>\n",
       "</div>"
      ],
      "text/plain": [
       "      id      Rings\n",
       "0  90615   9.828862\n",
       "1  90616   9.674077\n",
       "2  90617  10.133894\n",
       "3  90618  10.369923\n",
       "4  90619   7.598033"
      ]
     },
     "execution_count": 45,
     "metadata": {},
     "output_type": "execute_result"
    }
   ],
   "source": [
    "submit.head()"
   ]
  },
  {
   "cell_type": "code",
   "execution_count": 46,
   "id": "27225ce1",
   "metadata": {
    "execution": {
     "iopub.execute_input": "2024-04-30T18:28:26.279631Z",
     "iopub.status.busy": "2024-04-30T18:28:26.278098Z",
     "iopub.status.idle": "2024-04-30T18:28:26.437229Z",
     "shell.execute_reply": "2024-04-30T18:28:26.435959Z"
    },
    "papermill": {
     "duration": 0.188183,
     "end_time": "2024-04-30T18:28:26.440241",
     "exception": false,
     "start_time": "2024-04-30T18:28:26.252058",
     "status": "completed"
    },
    "tags": []
   },
   "outputs": [],
   "source": [
    "submit.to_csv('submission.csv', index=False)"
   ]
  },
  {
   "cell_type": "markdown",
   "id": "4713df18",
   "metadata": {
    "papermill": {
     "duration": 0.022828,
     "end_time": "2024-04-30T18:28:26.486840",
     "exception": false,
     "start_time": "2024-04-30T18:28:26.464012",
     "status": "completed"
    },
    "tags": []
   },
   "source": []
  },
  {
   "cell_type": "markdown",
   "id": "675a612e",
   "metadata": {
    "execution": {
     "iopub.execute_input": "2024-04-30T05:53:09.399978Z",
     "iopub.status.busy": "2024-04-30T05:53:09.399513Z",
     "iopub.status.idle": "2024-04-30T05:53:09.437367Z",
     "shell.execute_reply": "2024-04-30T05:53:09.435668Z",
     "shell.execute_reply.started": "2024-04-30T05:53:09.399947Z"
    },
    "papermill": {
     "duration": 0.022534,
     "end_time": "2024-04-30T18:28:26.532307",
     "exception": false,
     "start_time": "2024-04-30T18:28:26.509773",
     "status": "completed"
    },
    "tags": []
   },
   "source": [
    "## **Lightgbm**"
   ]
  },
  {
   "cell_type": "code",
   "execution_count": 47,
   "id": "ec88a245",
   "metadata": {
    "execution": {
     "iopub.execute_input": "2024-04-30T18:28:26.581636Z",
     "iopub.status.busy": "2024-04-30T18:28:26.580607Z",
     "iopub.status.idle": "2024-04-30T18:28:27.840115Z",
     "shell.execute_reply": "2024-04-30T18:28:27.838965Z"
    },
    "papermill": {
     "duration": 1.286653,
     "end_time": "2024-04-30T18:28:27.842932",
     "exception": false,
     "start_time": "2024-04-30T18:28:26.556279",
     "status": "completed"
    },
    "tags": []
   },
   "outputs": [],
   "source": [
    "import lightgbm as lgb\n",
    "\n",
    "model_lgbm = lgb.LGBMRegressor(verbosity= -1, \n",
    "    metric= 'rmse', \n",
    "    num_leaves= 176, \n",
    "    bagging_freq= 7, \n",
    "    boosting_type= 'gbdt', \n",
    "    min_child_samples= 91, \n",
    "    objective= 'regression', \n",
    "    random_state=42,\n",
    "    learning_rate= 0.07351805347801958, \n",
    "    bagging_fraction= 0.6502062728410578, \n",
    "    feature_fraction= 0.7058843944694884)\n"
   ]
  },
  {
   "cell_type": "code",
   "execution_count": 48,
   "id": "4990f2a3",
   "metadata": {
    "execution": {
     "iopub.execute_input": "2024-04-30T18:28:27.890763Z",
     "iopub.status.busy": "2024-04-30T18:28:27.890166Z",
     "iopub.status.idle": "2024-04-30T18:28:38.105793Z",
     "shell.execute_reply": "2024-04-30T18:28:38.104733Z"
    },
    "papermill": {
     "duration": 10.24243,
     "end_time": "2024-04-30T18:28:38.108413",
     "exception": false,
     "start_time": "2024-04-30T18:28:27.865983",
     "status": "completed"
    },
    "tags": []
   },
   "outputs": [],
   "source": [
    "kf = KFold(n_splits=4, shuffle=True, random_state=42)\n",
    "\n",
    "# Perform cross-validation and store results\n",
    "scores = cross_val_score(model_lgbm, X, y, cv=kf, scoring='neg_mean_squared_error')\n",
    "rmse_scores = (-scores)**0.5  # Convert MSE to RMSE"
   ]
  },
  {
   "cell_type": "code",
   "execution_count": 49,
   "id": "ecf28b8e",
   "metadata": {
    "execution": {
     "iopub.execute_input": "2024-04-30T18:28:38.156252Z",
     "iopub.status.busy": "2024-04-30T18:28:38.155869Z",
     "iopub.status.idle": "2024-04-30T18:28:38.161340Z",
     "shell.execute_reply": "2024-04-30T18:28:38.160547Z"
    },
    "papermill": {
     "duration": 0.032033,
     "end_time": "2024-04-30T18:28:38.163710",
     "exception": false,
     "start_time": "2024-04-30T18:28:38.131677",
     "status": "completed"
    },
    "tags": []
   },
   "outputs": [
    {
     "name": "stdout",
     "output_type": "stream",
     "text": [
      "[1.84007951 1.85342132 1.86026746 1.81106791]\n"
     ]
    }
   ],
   "source": [
    "print(rmse_scores)"
   ]
  },
  {
   "cell_type": "code",
   "execution_count": 50,
   "id": "64e01847",
   "metadata": {
    "execution": {
     "iopub.execute_input": "2024-04-30T18:28:38.211542Z",
     "iopub.status.busy": "2024-04-30T18:28:38.211140Z",
     "iopub.status.idle": "2024-04-30T18:28:40.800495Z",
     "shell.execute_reply": "2024-04-30T18:28:40.799461Z"
    },
    "papermill": {
     "duration": 2.615859,
     "end_time": "2024-04-30T18:28:40.802953",
     "exception": false,
     "start_time": "2024-04-30T18:28:38.187094",
     "status": "completed"
    },
    "tags": []
   },
   "outputs": [
    {
     "data": {
      "text/html": [
       "<style>#sk-container-id-4 {color: black;background-color: white;}#sk-container-id-4 pre{padding: 0;}#sk-container-id-4 div.sk-toggleable {background-color: white;}#sk-container-id-4 label.sk-toggleable__label {cursor: pointer;display: block;width: 100%;margin-bottom: 0;padding: 0.3em;box-sizing: border-box;text-align: center;}#sk-container-id-4 label.sk-toggleable__label-arrow:before {content: \"▸\";float: left;margin-right: 0.25em;color: #696969;}#sk-container-id-4 label.sk-toggleable__label-arrow:hover:before {color: black;}#sk-container-id-4 div.sk-estimator:hover label.sk-toggleable__label-arrow:before {color: black;}#sk-container-id-4 div.sk-toggleable__content {max-height: 0;max-width: 0;overflow: hidden;text-align: left;background-color: #f0f8ff;}#sk-container-id-4 div.sk-toggleable__content pre {margin: 0.2em;color: black;border-radius: 0.25em;background-color: #f0f8ff;}#sk-container-id-4 input.sk-toggleable__control:checked~div.sk-toggleable__content {max-height: 200px;max-width: 100%;overflow: auto;}#sk-container-id-4 input.sk-toggleable__control:checked~label.sk-toggleable__label-arrow:before {content: \"▾\";}#sk-container-id-4 div.sk-estimator input.sk-toggleable__control:checked~label.sk-toggleable__label {background-color: #d4ebff;}#sk-container-id-4 div.sk-label input.sk-toggleable__control:checked~label.sk-toggleable__label {background-color: #d4ebff;}#sk-container-id-4 input.sk-hidden--visually {border: 0;clip: rect(1px 1px 1px 1px);clip: rect(1px, 1px, 1px, 1px);height: 1px;margin: -1px;overflow: hidden;padding: 0;position: absolute;width: 1px;}#sk-container-id-4 div.sk-estimator {font-family: monospace;background-color: #f0f8ff;border: 1px dotted black;border-radius: 0.25em;box-sizing: border-box;margin-bottom: 0.5em;}#sk-container-id-4 div.sk-estimator:hover {background-color: #d4ebff;}#sk-container-id-4 div.sk-parallel-item::after {content: \"\";width: 100%;border-bottom: 1px solid gray;flex-grow: 1;}#sk-container-id-4 div.sk-label:hover label.sk-toggleable__label {background-color: #d4ebff;}#sk-container-id-4 div.sk-serial::before {content: \"\";position: absolute;border-left: 1px solid gray;box-sizing: border-box;top: 0;bottom: 0;left: 50%;z-index: 0;}#sk-container-id-4 div.sk-serial {display: flex;flex-direction: column;align-items: center;background-color: white;padding-right: 0.2em;padding-left: 0.2em;position: relative;}#sk-container-id-4 div.sk-item {position: relative;z-index: 1;}#sk-container-id-4 div.sk-parallel {display: flex;align-items: stretch;justify-content: center;background-color: white;position: relative;}#sk-container-id-4 div.sk-item::before, #sk-container-id-4 div.sk-parallel-item::before {content: \"\";position: absolute;border-left: 1px solid gray;box-sizing: border-box;top: 0;bottom: 0;left: 50%;z-index: -1;}#sk-container-id-4 div.sk-parallel-item {display: flex;flex-direction: column;z-index: 1;position: relative;background-color: white;}#sk-container-id-4 div.sk-parallel-item:first-child::after {align-self: flex-end;width: 50%;}#sk-container-id-4 div.sk-parallel-item:last-child::after {align-self: flex-start;width: 50%;}#sk-container-id-4 div.sk-parallel-item:only-child::after {width: 0;}#sk-container-id-4 div.sk-dashed-wrapped {border: 1px dashed gray;margin: 0 0.4em 0.5em 0.4em;box-sizing: border-box;padding-bottom: 0.4em;background-color: white;}#sk-container-id-4 div.sk-label label {font-family: monospace;font-weight: bold;display: inline-block;line-height: 1.2em;}#sk-container-id-4 div.sk-label-container {text-align: center;}#sk-container-id-4 div.sk-container {/* jupyter's `normalize.less` sets `[hidden] { display: none; }` but bootstrap.min.css set `[hidden] { display: none !important; }` so we also need the `!important` here to be able to override the default hidden behavior on the sphinx rendered scikit-learn.org. See: https://github.com/scikit-learn/scikit-learn/issues/21755 */display: inline-block !important;position: relative;}#sk-container-id-4 div.sk-text-repr-fallback {display: none;}</style><div id=\"sk-container-id-4\" class=\"sk-top-container\"><div class=\"sk-text-repr-fallback\"><pre>LGBMRegressor(bagging_fraction=0.6502062728410578, bagging_freq=7,\n",
       "              feature_fraction=0.7058843944694884,\n",
       "              learning_rate=0.07351805347801958, metric=&#x27;rmse&#x27;,\n",
       "              min_child_samples=91, num_leaves=176, objective=&#x27;regression&#x27;,\n",
       "              random_state=42, verbosity=-1)</pre><b>In a Jupyter environment, please rerun this cell to show the HTML representation or trust the notebook. <br />On GitHub, the HTML representation is unable to render, please try loading this page with nbviewer.org.</b></div><div class=\"sk-container\" hidden><div class=\"sk-item\"><div class=\"sk-estimator sk-toggleable\"><input class=\"sk-toggleable__control sk-hidden--visually\" id=\"sk-estimator-id-4\" type=\"checkbox\" checked><label for=\"sk-estimator-id-4\" class=\"sk-toggleable__label sk-toggleable__label-arrow\">LGBMRegressor</label><div class=\"sk-toggleable__content\"><pre>LGBMRegressor(bagging_fraction=0.6502062728410578, bagging_freq=7,\n",
       "              feature_fraction=0.7058843944694884,\n",
       "              learning_rate=0.07351805347801958, metric=&#x27;rmse&#x27;,\n",
       "              min_child_samples=91, num_leaves=176, objective=&#x27;regression&#x27;,\n",
       "              random_state=42, verbosity=-1)</pre></div></div></div></div></div>"
      ],
      "text/plain": [
       "LGBMRegressor(bagging_fraction=0.6502062728410578, bagging_freq=7,\n",
       "              feature_fraction=0.7058843944694884,\n",
       "              learning_rate=0.07351805347801958, metric='rmse',\n",
       "              min_child_samples=91, num_leaves=176, objective='regression',\n",
       "              random_state=42, verbosity=-1)"
      ]
     },
     "execution_count": 50,
     "metadata": {},
     "output_type": "execute_result"
    }
   ],
   "source": [
    "model_lgbm.fit(X,y)"
   ]
  },
  {
   "cell_type": "code",
   "execution_count": 51,
   "id": "8ecb6538",
   "metadata": {
    "execution": {
     "iopub.execute_input": "2024-04-30T18:28:40.851663Z",
     "iopub.status.busy": "2024-04-30T18:28:40.851236Z",
     "iopub.status.idle": "2024-04-30T18:28:41.617192Z",
     "shell.execute_reply": "2024-04-30T18:28:41.616146Z"
    },
    "papermill": {
     "duration": 0.793504,
     "end_time": "2024-04-30T18:28:41.619987",
     "exception": false,
     "start_time": "2024-04-30T18:28:40.826483",
     "status": "completed"
    },
    "tags": []
   },
   "outputs": [],
   "source": [
    "pred_y = model_lgbm.predict(dataTest_encoded)"
   ]
  },
  {
   "cell_type": "code",
   "execution_count": 52,
   "id": "b471e4ac",
   "metadata": {
    "execution": {
     "iopub.execute_input": "2024-04-30T18:28:41.668681Z",
     "iopub.status.busy": "2024-04-30T18:28:41.668285Z",
     "iopub.status.idle": "2024-04-30T18:28:41.674747Z",
     "shell.execute_reply": "2024-04-30T18:28:41.673749Z"
    },
    "papermill": {
     "duration": 0.033637,
     "end_time": "2024-04-30T18:28:41.677056",
     "exception": false,
     "start_time": "2024-04-30T18:28:41.643419",
     "status": "completed"
    },
    "tags": []
   },
   "outputs": [],
   "source": [
    "submit['Rings']= (submit['Rings']/2) + (pred_y/2)\n"
   ]
  },
  {
   "cell_type": "code",
   "execution_count": 53,
   "id": "5e960138",
   "metadata": {
    "execution": {
     "iopub.execute_input": "2024-04-30T18:28:41.735231Z",
     "iopub.status.busy": "2024-04-30T18:28:41.734479Z",
     "iopub.status.idle": "2024-04-30T18:28:41.748029Z",
     "shell.execute_reply": "2024-04-30T18:28:41.745802Z"
    },
    "papermill": {
     "duration": 0.048008,
     "end_time": "2024-04-30T18:28:41.750696",
     "exception": false,
     "start_time": "2024-04-30T18:28:41.702688",
     "status": "completed"
    },
    "tags": []
   },
   "outputs": [
    {
     "data": {
      "text/html": [
       "<div>\n",
       "<style scoped>\n",
       "    .dataframe tbody tr th:only-of-type {\n",
       "        vertical-align: middle;\n",
       "    }\n",
       "\n",
       "    .dataframe tbody tr th {\n",
       "        vertical-align: top;\n",
       "    }\n",
       "\n",
       "    .dataframe thead th {\n",
       "        text-align: right;\n",
       "    }\n",
       "</style>\n",
       "<table border=\"1\" class=\"dataframe\">\n",
       "  <thead>\n",
       "    <tr style=\"text-align: right;\">\n",
       "      <th></th>\n",
       "      <th>id</th>\n",
       "      <th>Rings</th>\n",
       "    </tr>\n",
       "  </thead>\n",
       "  <tbody>\n",
       "    <tr>\n",
       "      <th>0</th>\n",
       "      <td>90615</td>\n",
       "      <td>9.908821</td>\n",
       "    </tr>\n",
       "    <tr>\n",
       "      <th>1</th>\n",
       "      <td>90616</td>\n",
       "      <td>9.725426</td>\n",
       "    </tr>\n",
       "    <tr>\n",
       "      <th>2</th>\n",
       "      <td>90617</td>\n",
       "      <td>9.975771</td>\n",
       "    </tr>\n",
       "    <tr>\n",
       "      <th>3</th>\n",
       "      <td>90618</td>\n",
       "      <td>10.619260</td>\n",
       "    </tr>\n",
       "    <tr>\n",
       "      <th>4</th>\n",
       "      <td>90619</td>\n",
       "      <td>7.626248</td>\n",
       "    </tr>\n",
       "  </tbody>\n",
       "</table>\n",
       "</div>"
      ],
      "text/plain": [
       "      id      Rings\n",
       "0  90615   9.908821\n",
       "1  90616   9.725426\n",
       "2  90617   9.975771\n",
       "3  90618  10.619260\n",
       "4  90619   7.626248"
      ]
     },
     "execution_count": 53,
     "metadata": {},
     "output_type": "execute_result"
    }
   ],
   "source": [
    "submit.head()"
   ]
  },
  {
   "cell_type": "code",
   "execution_count": 54,
   "id": "104a954b",
   "metadata": {
    "execution": {
     "iopub.execute_input": "2024-04-30T18:28:41.810372Z",
     "iopub.status.busy": "2024-04-30T18:28:41.809940Z",
     "iopub.status.idle": "2024-04-30T18:28:42.012425Z",
     "shell.execute_reply": "2024-04-30T18:28:42.011562Z"
    },
    "papermill": {
     "duration": 0.231601,
     "end_time": "2024-04-30T18:28:42.015049",
     "exception": false,
     "start_time": "2024-04-30T18:28:41.783448",
     "status": "completed"
    },
    "tags": []
   },
   "outputs": [],
   "source": [
    "submit.to_csv('submission.csv', index=False)"
   ]
  },
  {
   "cell_type": "code",
   "execution_count": null,
   "id": "c5e716a1",
   "metadata": {
    "papermill": {
     "duration": 0.02327,
     "end_time": "2024-04-30T18:28:42.062013",
     "exception": false,
     "start_time": "2024-04-30T18:28:42.038743",
     "status": "completed"
    },
    "tags": []
   },
   "outputs": [],
   "source": []
  }
 ],
 "metadata": {
  "kaggle": {
   "accelerator": "none",
   "dataSources": [
    {
     "databundleVersionId": 8096274,
     "sourceId": 72489,
     "sourceType": "competition"
    },
    {
     "datasetId": 37691,
     "sourceId": 57419,
     "sourceType": "datasetVersion"
    }
   ],
   "dockerImageVersionId": 30684,
   "isGpuEnabled": false,
   "isInternetEnabled": true,
   "language": "python",
   "sourceType": "notebook"
  },
  "kernelspec": {
   "display_name": "Python 3",
   "language": "python",
   "name": "python3"
  },
  "language_info": {
   "codemirror_mode": {
    "name": "ipython",
    "version": 3
   },
   "file_extension": ".py",
   "mimetype": "text/x-python",
   "name": "python",
   "nbconvert_exporter": "python",
   "pygments_lexer": "ipython3",
   "version": "3.10.13"
  },
  "papermill": {
   "default_parameters": {},
   "duration": 38.552155,
   "end_time": "2024-04-30T18:28:42.807136",
   "environment_variables": {},
   "exception": null,
   "input_path": "__notebook__.ipynb",
   "output_path": "__notebook__.ipynb",
   "parameters": {},
   "start_time": "2024-04-30T18:28:04.254981",
   "version": "2.5.0"
  }
 },
 "nbformat": 4,
 "nbformat_minor": 5
}

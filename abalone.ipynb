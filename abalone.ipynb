{
 "cells": [
  {
   "cell_type": "code",
   "execution_count": 1,
   "id": "1afe4066",
   "metadata": {
    "_cell_guid": "b1076dfc-b9ad-4769-8c92-a6c4dae69d19",
    "_uuid": "8f2839f25d086af736a60e9eeb907d3b93b6e0e5",
    "execution": {
     "iopub.execute_input": "2024-04-21T09:25:47.371415Z",
     "iopub.status.busy": "2024-04-21T09:25:47.370978Z",
     "iopub.status.idle": "2024-04-21T09:25:48.301768Z",
     "shell.execute_reply": "2024-04-21T09:25:48.300563Z"
    },
    "papermill": {
     "duration": 0.944354,
     "end_time": "2024-04-21T09:25:48.304546",
     "exception": false,
     "start_time": "2024-04-21T09:25:47.360192",
     "status": "completed"
    },
    "tags": []
   },
   "outputs": [
    {
     "name": "stdout",
     "output_type": "stream",
     "text": [
      "/kaggle/input/playground-series-s4e4/sample_submission.csv\n",
      "/kaggle/input/playground-series-s4e4/train.csv\n",
      "/kaggle/input/playground-series-s4e4/test.csv\n"
     ]
    }
   ],
   "source": [
    "# This Python 3 environment comes with many helpful analytics libraries installed\n",
    "# It is defined by the kaggle/python Docker image: https://github.com/kaggle/docker-python\n",
    "# For example, here's several helpful packages to load\n",
    "\n",
    "import numpy as np # linear algebra\n",
    "import pandas as pd # data processing, CSV file I/O (e.g. pd.read_csv)\n",
    "\n",
    "# Input data files are available in the read-only \"../input/\" directory\n",
    "# For example, running this (by clicking run or pressing Shift+Enter) will list all files under the input directory\n",
    "\n",
    "import os\n",
    "for dirname, _, filenames in os.walk('/kaggle/input'):\n",
    "    for filename in filenames:\n",
    "        print(os.path.join(dirname, filename))\n",
    "\n",
    "# You can write up to 20GB to the current directory (/kaggle/working/) that gets preserved as output when you create a version using \"Save & Run All\" \n",
    "# You can also write temporary files to /kaggle/temp/, but they won't be saved outside of the current session"
   ]
  },
  {
   "cell_type": "code",
   "execution_count": 2,
   "id": "0c4a5b45",
   "metadata": {
    "execution": {
     "iopub.execute_input": "2024-04-21T09:25:48.324002Z",
     "iopub.status.busy": "2024-04-21T09:25:48.323307Z",
     "iopub.status.idle": "2024-04-21T09:25:48.328846Z",
     "shell.execute_reply": "2024-04-21T09:25:48.327775Z"
    },
    "papermill": {
     "duration": 0.018067,
     "end_time": "2024-04-21T09:25:48.331241",
     "exception": false,
     "start_time": "2024-04-21T09:25:48.313174",
     "status": "completed"
    },
    "tags": []
   },
   "outputs": [],
   "source": [
    "import pandas as pd, numpy as np"
   ]
  },
  {
   "cell_type": "code",
   "execution_count": 3,
   "id": "215868bf",
   "metadata": {
    "execution": {
     "iopub.execute_input": "2024-04-21T09:25:48.350177Z",
     "iopub.status.busy": "2024-04-21T09:25:48.349161Z",
     "iopub.status.idle": "2024-04-21T09:25:48.673461Z",
     "shell.execute_reply": "2024-04-21T09:25:48.672155Z"
    },
    "papermill": {
     "duration": 0.337324,
     "end_time": "2024-04-21T09:25:48.676991",
     "exception": false,
     "start_time": "2024-04-21T09:25:48.339667",
     "status": "completed"
    },
    "tags": []
   },
   "outputs": [],
   "source": [
    "dataTrain = pd.read_csv(\"/kaggle/input/playground-series-s4e4/train.csv\")\n",
    "dataTest = pd.read_csv(\"/kaggle/input/playground-series-s4e4/test.csv\")"
   ]
  },
  {
   "cell_type": "code",
   "execution_count": 4,
   "id": "9d8db502",
   "metadata": {
    "execution": {
     "iopub.execute_input": "2024-04-21T09:25:48.695588Z",
     "iopub.status.busy": "2024-04-21T09:25:48.695133Z",
     "iopub.status.idle": "2024-04-21T09:25:48.711993Z",
     "shell.execute_reply": "2024-04-21T09:25:48.710798Z"
    },
    "papermill": {
     "duration": 0.029525,
     "end_time": "2024-04-21T09:25:48.714938",
     "exception": false,
     "start_time": "2024-04-21T09:25:48.685413",
     "status": "completed"
    },
    "tags": []
   },
   "outputs": [],
   "source": [
    "dataTrain = dataTrain.rename(columns={'Whole weight.1': 'Alpha weight', 'Whole weight.2': 'Beta weight'})\n",
    "dataTest = dataTest.rename(columns={'Whole weight.1': 'Alpha weight', 'Whole weight.2': 'Beta weight'})"
   ]
  },
  {
   "cell_type": "code",
   "execution_count": 5,
   "id": "1fbee29a",
   "metadata": {
    "execution": {
     "iopub.execute_input": "2024-04-21T09:25:48.733707Z",
     "iopub.status.busy": "2024-04-21T09:25:48.732935Z",
     "iopub.status.idle": "2024-04-21T09:25:48.758453Z",
     "shell.execute_reply": "2024-04-21T09:25:48.757279Z"
    },
    "papermill": {
     "duration": 0.03802,
     "end_time": "2024-04-21T09:25:48.761116",
     "exception": false,
     "start_time": "2024-04-21T09:25:48.723096",
     "status": "completed"
    },
    "tags": []
   },
   "outputs": [
    {
     "data": {
      "text/html": [
       "<div>\n",
       "<style scoped>\n",
       "    .dataframe tbody tr th:only-of-type {\n",
       "        vertical-align: middle;\n",
       "    }\n",
       "\n",
       "    .dataframe tbody tr th {\n",
       "        vertical-align: top;\n",
       "    }\n",
       "\n",
       "    .dataframe thead th {\n",
       "        text-align: right;\n",
       "    }\n",
       "</style>\n",
       "<table border=\"1\" class=\"dataframe\">\n",
       "  <thead>\n",
       "    <tr style=\"text-align: right;\">\n",
       "      <th></th>\n",
       "      <th>id</th>\n",
       "      <th>Sex</th>\n",
       "      <th>Length</th>\n",
       "      <th>Diameter</th>\n",
       "      <th>Height</th>\n",
       "      <th>Whole weight</th>\n",
       "      <th>Alpha weight</th>\n",
       "      <th>Beta weight</th>\n",
       "      <th>Shell weight</th>\n",
       "      <th>Rings</th>\n",
       "    </tr>\n",
       "  </thead>\n",
       "  <tbody>\n",
       "    <tr>\n",
       "      <th>0</th>\n",
       "      <td>0</td>\n",
       "      <td>F</td>\n",
       "      <td>0.550</td>\n",
       "      <td>0.430</td>\n",
       "      <td>0.150</td>\n",
       "      <td>0.7715</td>\n",
       "      <td>0.3285</td>\n",
       "      <td>0.1465</td>\n",
       "      <td>0.2400</td>\n",
       "      <td>11</td>\n",
       "    </tr>\n",
       "    <tr>\n",
       "      <th>1</th>\n",
       "      <td>1</td>\n",
       "      <td>F</td>\n",
       "      <td>0.630</td>\n",
       "      <td>0.490</td>\n",
       "      <td>0.145</td>\n",
       "      <td>1.1300</td>\n",
       "      <td>0.4580</td>\n",
       "      <td>0.2765</td>\n",
       "      <td>0.3200</td>\n",
       "      <td>11</td>\n",
       "    </tr>\n",
       "    <tr>\n",
       "      <th>2</th>\n",
       "      <td>2</td>\n",
       "      <td>I</td>\n",
       "      <td>0.160</td>\n",
       "      <td>0.110</td>\n",
       "      <td>0.025</td>\n",
       "      <td>0.0210</td>\n",
       "      <td>0.0055</td>\n",
       "      <td>0.0030</td>\n",
       "      <td>0.0050</td>\n",
       "      <td>6</td>\n",
       "    </tr>\n",
       "    <tr>\n",
       "      <th>3</th>\n",
       "      <td>3</td>\n",
       "      <td>M</td>\n",
       "      <td>0.595</td>\n",
       "      <td>0.475</td>\n",
       "      <td>0.150</td>\n",
       "      <td>0.9145</td>\n",
       "      <td>0.3755</td>\n",
       "      <td>0.2055</td>\n",
       "      <td>0.2500</td>\n",
       "      <td>10</td>\n",
       "    </tr>\n",
       "    <tr>\n",
       "      <th>4</th>\n",
       "      <td>4</td>\n",
       "      <td>I</td>\n",
       "      <td>0.555</td>\n",
       "      <td>0.425</td>\n",
       "      <td>0.130</td>\n",
       "      <td>0.7820</td>\n",
       "      <td>0.3695</td>\n",
       "      <td>0.1600</td>\n",
       "      <td>0.1975</td>\n",
       "      <td>9</td>\n",
       "    </tr>\n",
       "  </tbody>\n",
       "</table>\n",
       "</div>"
      ],
      "text/plain": [
       "   id Sex  Length  Diameter  Height  Whole weight  Alpha weight  Beta weight  \\\n",
       "0   0   F   0.550     0.430   0.150        0.7715        0.3285       0.1465   \n",
       "1   1   F   0.630     0.490   0.145        1.1300        0.4580       0.2765   \n",
       "2   2   I   0.160     0.110   0.025        0.0210        0.0055       0.0030   \n",
       "3   3   M   0.595     0.475   0.150        0.9145        0.3755       0.2055   \n",
       "4   4   I   0.555     0.425   0.130        0.7820        0.3695       0.1600   \n",
       "\n",
       "   Shell weight  Rings  \n",
       "0        0.2400     11  \n",
       "1        0.3200     11  \n",
       "2        0.0050      6  \n",
       "3        0.2500     10  \n",
       "4        0.1975      9  "
      ]
     },
     "execution_count": 5,
     "metadata": {},
     "output_type": "execute_result"
    }
   ],
   "source": [
    "dataTrain.head()"
   ]
  },
  {
   "cell_type": "code",
   "execution_count": 6,
   "id": "e61d3f3c",
   "metadata": {
    "execution": {
     "iopub.execute_input": "2024-04-21T09:25:48.780176Z",
     "iopub.status.busy": "2024-04-21T09:25:48.779380Z",
     "iopub.status.idle": "2024-04-21T09:25:48.862044Z",
     "shell.execute_reply": "2024-04-21T09:25:48.860827Z"
    },
    "papermill": {
     "duration": 0.095404,
     "end_time": "2024-04-21T09:25:48.864782",
     "exception": false,
     "start_time": "2024-04-21T09:25:48.769378",
     "status": "completed"
    },
    "tags": []
   },
   "outputs": [
    {
     "data": {
      "text/html": [
       "<div>\n",
       "<style scoped>\n",
       "    .dataframe tbody tr th:only-of-type {\n",
       "        vertical-align: middle;\n",
       "    }\n",
       "\n",
       "    .dataframe tbody tr th {\n",
       "        vertical-align: top;\n",
       "    }\n",
       "\n",
       "    .dataframe thead th {\n",
       "        text-align: right;\n",
       "    }\n",
       "</style>\n",
       "<table border=\"1\" class=\"dataframe\">\n",
       "  <thead>\n",
       "    <tr style=\"text-align: right;\">\n",
       "      <th></th>\n",
       "      <th>id</th>\n",
       "      <th>Length</th>\n",
       "      <th>Diameter</th>\n",
       "      <th>Height</th>\n",
       "      <th>Whole weight</th>\n",
       "      <th>Alpha weight</th>\n",
       "      <th>Beta weight</th>\n",
       "      <th>Shell weight</th>\n",
       "      <th>Rings</th>\n",
       "    </tr>\n",
       "  </thead>\n",
       "  <tbody>\n",
       "    <tr>\n",
       "      <th>count</th>\n",
       "      <td>90615.000000</td>\n",
       "      <td>90615.000000</td>\n",
       "      <td>90615.000000</td>\n",
       "      <td>90615.000000</td>\n",
       "      <td>90615.000000</td>\n",
       "      <td>90615.000000</td>\n",
       "      <td>90615.000000</td>\n",
       "      <td>90615.000000</td>\n",
       "      <td>90615.000000</td>\n",
       "    </tr>\n",
       "    <tr>\n",
       "      <th>mean</th>\n",
       "      <td>45307.000000</td>\n",
       "      <td>0.517098</td>\n",
       "      <td>0.401679</td>\n",
       "      <td>0.135464</td>\n",
       "      <td>0.789035</td>\n",
       "      <td>0.340778</td>\n",
       "      <td>0.169422</td>\n",
       "      <td>0.225898</td>\n",
       "      <td>9.696794</td>\n",
       "    </tr>\n",
       "    <tr>\n",
       "      <th>std</th>\n",
       "      <td>26158.441658</td>\n",
       "      <td>0.118217</td>\n",
       "      <td>0.098026</td>\n",
       "      <td>0.038008</td>\n",
       "      <td>0.457671</td>\n",
       "      <td>0.204428</td>\n",
       "      <td>0.100909</td>\n",
       "      <td>0.130203</td>\n",
       "      <td>3.176221</td>\n",
       "    </tr>\n",
       "    <tr>\n",
       "      <th>min</th>\n",
       "      <td>0.000000</td>\n",
       "      <td>0.075000</td>\n",
       "      <td>0.055000</td>\n",
       "      <td>0.000000</td>\n",
       "      <td>0.002000</td>\n",
       "      <td>0.001000</td>\n",
       "      <td>0.000500</td>\n",
       "      <td>0.001500</td>\n",
       "      <td>1.000000</td>\n",
       "    </tr>\n",
       "    <tr>\n",
       "      <th>25%</th>\n",
       "      <td>22653.500000</td>\n",
       "      <td>0.445000</td>\n",
       "      <td>0.345000</td>\n",
       "      <td>0.110000</td>\n",
       "      <td>0.419000</td>\n",
       "      <td>0.177500</td>\n",
       "      <td>0.086500</td>\n",
       "      <td>0.120000</td>\n",
       "      <td>8.000000</td>\n",
       "    </tr>\n",
       "    <tr>\n",
       "      <th>50%</th>\n",
       "      <td>45307.000000</td>\n",
       "      <td>0.545000</td>\n",
       "      <td>0.425000</td>\n",
       "      <td>0.140000</td>\n",
       "      <td>0.799500</td>\n",
       "      <td>0.330000</td>\n",
       "      <td>0.166000</td>\n",
       "      <td>0.225000</td>\n",
       "      <td>9.000000</td>\n",
       "    </tr>\n",
       "    <tr>\n",
       "      <th>75%</th>\n",
       "      <td>67960.500000</td>\n",
       "      <td>0.600000</td>\n",
       "      <td>0.470000</td>\n",
       "      <td>0.160000</td>\n",
       "      <td>1.067500</td>\n",
       "      <td>0.463000</td>\n",
       "      <td>0.232500</td>\n",
       "      <td>0.305000</td>\n",
       "      <td>11.000000</td>\n",
       "    </tr>\n",
       "    <tr>\n",
       "      <th>max</th>\n",
       "      <td>90614.000000</td>\n",
       "      <td>0.815000</td>\n",
       "      <td>0.650000</td>\n",
       "      <td>1.130000</td>\n",
       "      <td>2.825500</td>\n",
       "      <td>1.488000</td>\n",
       "      <td>0.760000</td>\n",
       "      <td>1.005000</td>\n",
       "      <td>29.000000</td>\n",
       "    </tr>\n",
       "  </tbody>\n",
       "</table>\n",
       "</div>"
      ],
      "text/plain": [
       "                 id        Length      Diameter        Height  Whole weight  \\\n",
       "count  90615.000000  90615.000000  90615.000000  90615.000000  90615.000000   \n",
       "mean   45307.000000      0.517098      0.401679      0.135464      0.789035   \n",
       "std    26158.441658      0.118217      0.098026      0.038008      0.457671   \n",
       "min        0.000000      0.075000      0.055000      0.000000      0.002000   \n",
       "25%    22653.500000      0.445000      0.345000      0.110000      0.419000   \n",
       "50%    45307.000000      0.545000      0.425000      0.140000      0.799500   \n",
       "75%    67960.500000      0.600000      0.470000      0.160000      1.067500   \n",
       "max    90614.000000      0.815000      0.650000      1.130000      2.825500   \n",
       "\n",
       "       Alpha weight   Beta weight  Shell weight         Rings  \n",
       "count  90615.000000  90615.000000  90615.000000  90615.000000  \n",
       "mean       0.340778      0.169422      0.225898      9.696794  \n",
       "std        0.204428      0.100909      0.130203      3.176221  \n",
       "min        0.001000      0.000500      0.001500      1.000000  \n",
       "25%        0.177500      0.086500      0.120000      8.000000  \n",
       "50%        0.330000      0.166000      0.225000      9.000000  \n",
       "75%        0.463000      0.232500      0.305000     11.000000  \n",
       "max        1.488000      0.760000      1.005000     29.000000  "
      ]
     },
     "execution_count": 6,
     "metadata": {},
     "output_type": "execute_result"
    }
   ],
   "source": [
    "dataTrain.describe()"
   ]
  },
  {
   "cell_type": "code",
   "execution_count": 7,
   "id": "9cc0b29a",
   "metadata": {
    "execution": {
     "iopub.execute_input": "2024-04-21T09:25:48.885148Z",
     "iopub.status.busy": "2024-04-21T09:25:48.884313Z",
     "iopub.status.idle": "2024-04-21T09:25:48.906280Z",
     "shell.execute_reply": "2024-04-21T09:25:48.904982Z"
    },
    "papermill": {
     "duration": 0.035288,
     "end_time": "2024-04-21T09:25:48.908886",
     "exception": false,
     "start_time": "2024-04-21T09:25:48.873598",
     "status": "completed"
    },
    "tags": []
   },
   "outputs": [
    {
     "data": {
      "text/plain": [
       "id              0\n",
       "Sex             0\n",
       "Length          0\n",
       "Diameter        0\n",
       "Height          0\n",
       "Whole weight    0\n",
       "Alpha weight    0\n",
       "Beta weight     0\n",
       "Shell weight    0\n",
       "Rings           0\n",
       "dtype: int64"
      ]
     },
     "execution_count": 7,
     "metadata": {},
     "output_type": "execute_result"
    }
   ],
   "source": [
    "dataTrain.isnull().sum()"
   ]
  },
  {
   "cell_type": "code",
   "execution_count": 8,
   "id": "b73c267a",
   "metadata": {
    "execution": {
     "iopub.execute_input": "2024-04-21T09:25:48.929449Z",
     "iopub.status.busy": "2024-04-21T09:25:48.928993Z",
     "iopub.status.idle": "2024-04-21T09:25:48.972273Z",
     "shell.execute_reply": "2024-04-21T09:25:48.971039Z"
    },
    "papermill": {
     "duration": 0.056855,
     "end_time": "2024-04-21T09:25:48.974983",
     "exception": false,
     "start_time": "2024-04-21T09:25:48.918128",
     "status": "completed"
    },
    "tags": []
   },
   "outputs": [
    {
     "data": {
      "text/plain": [
       "0"
      ]
     },
     "execution_count": 8,
     "metadata": {},
     "output_type": "execute_result"
    }
   ],
   "source": [
    "dataTrain.duplicated().sum()"
   ]
  },
  {
   "cell_type": "code",
   "execution_count": 9,
   "id": "f32d7bc7",
   "metadata": {
    "execution": {
     "iopub.execute_input": "2024-04-21T09:25:48.995832Z",
     "iopub.status.busy": "2024-04-21T09:25:48.994954Z",
     "iopub.status.idle": "2024-04-21T09:25:49.000721Z",
     "shell.execute_reply": "2024-04-21T09:25:48.999921Z"
    },
    "papermill": {
     "duration": 0.01873,
     "end_time": "2024-04-21T09:25:49.002974",
     "exception": false,
     "start_time": "2024-04-21T09:25:48.984244",
     "status": "completed"
    },
    "tags": []
   },
   "outputs": [],
   "source": [
    "categoricalData = dataTrain.select_dtypes(\"object\")"
   ]
  },
  {
   "cell_type": "code",
   "execution_count": 10,
   "id": "19102fc4",
   "metadata": {
    "execution": {
     "iopub.execute_input": "2024-04-21T09:25:49.025648Z",
     "iopub.status.busy": "2024-04-21T09:25:49.024602Z",
     "iopub.status.idle": "2024-04-21T09:25:49.040784Z",
     "shell.execute_reply": "2024-04-21T09:25:49.039586Z"
    },
    "papermill": {
     "duration": 0.029975,
     "end_time": "2024-04-21T09:25:49.043608",
     "exception": false,
     "start_time": "2024-04-21T09:25:49.013633",
     "status": "completed"
    },
    "tags": []
   },
   "outputs": [
    {
     "data": {
      "text/plain": [
       "Sex    3\n",
       "dtype: int64"
      ]
     },
     "execution_count": 10,
     "metadata": {},
     "output_type": "execute_result"
    }
   ],
   "source": [
    "categoricalData.nunique()"
   ]
  },
  {
   "cell_type": "code",
   "execution_count": 11,
   "id": "06d086e5",
   "metadata": {
    "execution": {
     "iopub.execute_input": "2024-04-21T09:25:49.064916Z",
     "iopub.status.busy": "2024-04-21T09:25:49.064412Z",
     "iopub.status.idle": "2024-04-21T09:25:49.095846Z",
     "shell.execute_reply": "2024-04-21T09:25:49.094803Z"
    },
    "papermill": {
     "duration": 0.045519,
     "end_time": "2024-04-21T09:25:49.098792",
     "exception": false,
     "start_time": "2024-04-21T09:25:49.053273",
     "status": "completed"
    },
    "tags": []
   },
   "outputs": [],
   "source": [
    "dataTrain_encoded = pd.get_dummies(dataTrain, columns=['Sex'], drop_first=True)\n"
   ]
  },
  {
   "cell_type": "code",
   "execution_count": 12,
   "id": "00cc2e31",
   "metadata": {
    "execution": {
     "iopub.execute_input": "2024-04-21T09:25:49.119749Z",
     "iopub.status.busy": "2024-04-21T09:25:49.118902Z",
     "iopub.status.idle": "2024-04-21T09:25:49.137900Z",
     "shell.execute_reply": "2024-04-21T09:25:49.137005Z"
    },
    "papermill": {
     "duration": 0.032115,
     "end_time": "2024-04-21T09:25:49.140187",
     "exception": false,
     "start_time": "2024-04-21T09:25:49.108072",
     "status": "completed"
    },
    "tags": []
   },
   "outputs": [
    {
     "data": {
      "text/html": [
       "<div>\n",
       "<style scoped>\n",
       "    .dataframe tbody tr th:only-of-type {\n",
       "        vertical-align: middle;\n",
       "    }\n",
       "\n",
       "    .dataframe tbody tr th {\n",
       "        vertical-align: top;\n",
       "    }\n",
       "\n",
       "    .dataframe thead th {\n",
       "        text-align: right;\n",
       "    }\n",
       "</style>\n",
       "<table border=\"1\" class=\"dataframe\">\n",
       "  <thead>\n",
       "    <tr style=\"text-align: right;\">\n",
       "      <th></th>\n",
       "      <th>id</th>\n",
       "      <th>Length</th>\n",
       "      <th>Diameter</th>\n",
       "      <th>Height</th>\n",
       "      <th>Whole weight</th>\n",
       "      <th>Alpha weight</th>\n",
       "      <th>Beta weight</th>\n",
       "      <th>Shell weight</th>\n",
       "      <th>Rings</th>\n",
       "      <th>Sex_I</th>\n",
       "      <th>Sex_M</th>\n",
       "    </tr>\n",
       "  </thead>\n",
       "  <tbody>\n",
       "    <tr>\n",
       "      <th>0</th>\n",
       "      <td>0</td>\n",
       "      <td>0.550</td>\n",
       "      <td>0.430</td>\n",
       "      <td>0.150</td>\n",
       "      <td>0.7715</td>\n",
       "      <td>0.3285</td>\n",
       "      <td>0.1465</td>\n",
       "      <td>0.2400</td>\n",
       "      <td>11</td>\n",
       "      <td>False</td>\n",
       "      <td>False</td>\n",
       "    </tr>\n",
       "    <tr>\n",
       "      <th>1</th>\n",
       "      <td>1</td>\n",
       "      <td>0.630</td>\n",
       "      <td>0.490</td>\n",
       "      <td>0.145</td>\n",
       "      <td>1.1300</td>\n",
       "      <td>0.4580</td>\n",
       "      <td>0.2765</td>\n",
       "      <td>0.3200</td>\n",
       "      <td>11</td>\n",
       "      <td>False</td>\n",
       "      <td>False</td>\n",
       "    </tr>\n",
       "    <tr>\n",
       "      <th>2</th>\n",
       "      <td>2</td>\n",
       "      <td>0.160</td>\n",
       "      <td>0.110</td>\n",
       "      <td>0.025</td>\n",
       "      <td>0.0210</td>\n",
       "      <td>0.0055</td>\n",
       "      <td>0.0030</td>\n",
       "      <td>0.0050</td>\n",
       "      <td>6</td>\n",
       "      <td>True</td>\n",
       "      <td>False</td>\n",
       "    </tr>\n",
       "    <tr>\n",
       "      <th>3</th>\n",
       "      <td>3</td>\n",
       "      <td>0.595</td>\n",
       "      <td>0.475</td>\n",
       "      <td>0.150</td>\n",
       "      <td>0.9145</td>\n",
       "      <td>0.3755</td>\n",
       "      <td>0.2055</td>\n",
       "      <td>0.2500</td>\n",
       "      <td>10</td>\n",
       "      <td>False</td>\n",
       "      <td>True</td>\n",
       "    </tr>\n",
       "    <tr>\n",
       "      <th>4</th>\n",
       "      <td>4</td>\n",
       "      <td>0.555</td>\n",
       "      <td>0.425</td>\n",
       "      <td>0.130</td>\n",
       "      <td>0.7820</td>\n",
       "      <td>0.3695</td>\n",
       "      <td>0.1600</td>\n",
       "      <td>0.1975</td>\n",
       "      <td>9</td>\n",
       "      <td>True</td>\n",
       "      <td>False</td>\n",
       "    </tr>\n",
       "  </tbody>\n",
       "</table>\n",
       "</div>"
      ],
      "text/plain": [
       "   id  Length  Diameter  Height  Whole weight  Alpha weight  Beta weight  \\\n",
       "0   0   0.550     0.430   0.150        0.7715        0.3285       0.1465   \n",
       "1   1   0.630     0.490   0.145        1.1300        0.4580       0.2765   \n",
       "2   2   0.160     0.110   0.025        0.0210        0.0055       0.0030   \n",
       "3   3   0.595     0.475   0.150        0.9145        0.3755       0.2055   \n",
       "4   4   0.555     0.425   0.130        0.7820        0.3695       0.1600   \n",
       "\n",
       "   Shell weight  Rings  Sex_I  Sex_M  \n",
       "0        0.2400     11  False  False  \n",
       "1        0.3200     11  False  False  \n",
       "2        0.0050      6   True  False  \n",
       "3        0.2500     10  False   True  \n",
       "4        0.1975      9   True  False  "
      ]
     },
     "execution_count": 12,
     "metadata": {},
     "output_type": "execute_result"
    }
   ],
   "source": [
    "dataTrain_encoded.head()"
   ]
  },
  {
   "cell_type": "code",
   "execution_count": 13,
   "id": "8f0cacee",
   "metadata": {
    "execution": {
     "iopub.execute_input": "2024-04-21T09:25:49.161741Z",
     "iopub.status.busy": "2024-04-21T09:25:49.160923Z",
     "iopub.status.idle": "2024-04-21T09:25:49.169344Z",
     "shell.execute_reply": "2024-04-21T09:25:49.168138Z"
    },
    "papermill": {
     "duration": 0.022385,
     "end_time": "2024-04-21T09:25:49.172170",
     "exception": false,
     "start_time": "2024-04-21T09:25:49.149785",
     "status": "completed"
    },
    "tags": []
   },
   "outputs": [],
   "source": [
    "dataTrain_encoded.drop(columns=\"id\",inplace= True)"
   ]
  },
  {
   "cell_type": "code",
   "execution_count": 14,
   "id": "ffc1de3d",
   "metadata": {
    "execution": {
     "iopub.execute_input": "2024-04-21T09:25:49.194609Z",
     "iopub.status.busy": "2024-04-21T09:25:49.193393Z",
     "iopub.status.idle": "2024-04-21T09:25:49.200764Z",
     "shell.execute_reply": "2024-04-21T09:25:49.199930Z"
    },
    "papermill": {
     "duration": 0.021322,
     "end_time": "2024-04-21T09:25:49.203164",
     "exception": false,
     "start_time": "2024-04-21T09:25:49.181842",
     "status": "completed"
    },
    "tags": []
   },
   "outputs": [],
   "source": [
    "dataTrain_encoded[\"Sex_I\"] = dataTrain_encoded[\"Sex_I\"].astype(int)\n",
    "dataTrain_encoded[\"Sex_M\"] = dataTrain_encoded[\"Sex_M\"].astype(int)"
   ]
  },
  {
   "cell_type": "code",
   "execution_count": 15,
   "id": "880e55e7",
   "metadata": {
    "execution": {
     "iopub.execute_input": "2024-04-21T09:25:49.224986Z",
     "iopub.status.busy": "2024-04-21T09:25:49.224146Z",
     "iopub.status.idle": "2024-04-21T09:25:49.232165Z",
     "shell.execute_reply": "2024-04-21T09:25:49.231265Z"
    },
    "papermill": {
     "duration": 0.021356,
     "end_time": "2024-04-21T09:25:49.234313",
     "exception": false,
     "start_time": "2024-04-21T09:25:49.212957",
     "status": "completed"
    },
    "tags": []
   },
   "outputs": [
    {
     "data": {
      "text/plain": [
       "Length          float64\n",
       "Diameter        float64\n",
       "Height          float64\n",
       "Whole weight    float64\n",
       "Alpha weight    float64\n",
       "Beta weight     float64\n",
       "Shell weight    float64\n",
       "Rings             int64\n",
       "Sex_I             int64\n",
       "Sex_M             int64\n",
       "dtype: object"
      ]
     },
     "execution_count": 15,
     "metadata": {},
     "output_type": "execute_result"
    }
   ],
   "source": [
    "dataTrain_encoded.dtypes"
   ]
  },
  {
   "cell_type": "code",
   "execution_count": 16,
   "id": "0aeeb7c1",
   "metadata": {
    "execution": {
     "iopub.execute_input": "2024-04-21T09:25:49.256673Z",
     "iopub.status.busy": "2024-04-21T09:25:49.255796Z",
     "iopub.status.idle": "2024-04-21T09:25:50.684338Z",
     "shell.execute_reply": "2024-04-21T09:25:50.682978Z"
    },
    "papermill": {
     "duration": 1.443206,
     "end_time": "2024-04-21T09:25:50.687472",
     "exception": false,
     "start_time": "2024-04-21T09:25:49.244266",
     "status": "completed"
    },
    "tags": []
   },
   "outputs": [],
   "source": [
    "import xgboost as xgb\n",
    "from sklearn.model_selection import train_test_split, KFold, cross_val_score\n",
    "from sklearn.metrics import mean_squared_error"
   ]
  },
  {
   "cell_type": "code",
   "execution_count": 17,
   "id": "8743b8dd",
   "metadata": {
    "execution": {
     "iopub.execute_input": "2024-04-21T09:25:50.709821Z",
     "iopub.status.busy": "2024-04-21T09:25:50.709273Z",
     "iopub.status.idle": "2024-04-21T09:25:50.731247Z",
     "shell.execute_reply": "2024-04-21T09:25:50.729825Z"
    },
    "papermill": {
     "duration": 0.03756,
     "end_time": "2024-04-21T09:25:50.735024",
     "exception": false,
     "start_time": "2024-04-21T09:25:50.697464",
     "status": "completed"
    },
    "tags": []
   },
   "outputs": [],
   "source": [
    "X = dataTrain_encoded.drop('Rings', axis=1)\n",
    "y = dataTrain_encoded['Rings']"
   ]
  },
  {
   "cell_type": "code",
   "execution_count": 18,
   "id": "66df8d0a",
   "metadata": {
    "execution": {
     "iopub.execute_input": "2024-04-21T09:25:50.762366Z",
     "iopub.status.busy": "2024-04-21T09:25:50.761387Z",
     "iopub.status.idle": "2024-04-21T09:25:50.767235Z",
     "shell.execute_reply": "2024-04-21T09:25:50.766414Z"
    },
    "papermill": {
     "duration": 0.020605,
     "end_time": "2024-04-21T09:25:50.769983",
     "exception": false,
     "start_time": "2024-04-21T09:25:50.749378",
     "status": "completed"
    },
    "tags": []
   },
   "outputs": [],
   "source": [
    "model = xgb.XGBRegressor(objective='reg:squarederror', n_estimators=200, learning_rate=0.1, max_depth=7)"
   ]
  },
  {
   "cell_type": "code",
   "execution_count": 19,
   "id": "46e87728",
   "metadata": {
    "execution": {
     "iopub.execute_input": "2024-04-21T09:25:50.792464Z",
     "iopub.status.busy": "2024-04-21T09:25:50.791508Z",
     "iopub.status.idle": "2024-04-21T09:25:56.853804Z",
     "shell.execute_reply": "2024-04-21T09:25:56.852711Z"
    },
    "papermill": {
     "duration": 6.076938,
     "end_time": "2024-04-21T09:25:56.856774",
     "exception": false,
     "start_time": "2024-04-21T09:25:50.779836",
     "status": "completed"
    },
    "tags": []
   },
   "outputs": [],
   "source": [
    "kf = KFold(n_splits=5, shuffle=True, random_state=42)\n",
    "\n",
    "# Perform cross-validation and store results\n",
    "scores = cross_val_score(model, X, y, cv=kf, scoring='neg_mean_squared_error')\n",
    "rmse_scores = (-scores)**0.5  # Convert MSE to RMSE"
   ]
  },
  {
   "cell_type": "code",
   "execution_count": 20,
   "id": "832ac22d",
   "metadata": {
    "execution": {
     "iopub.execute_input": "2024-04-21T09:25:56.882344Z",
     "iopub.status.busy": "2024-04-21T09:25:56.881838Z",
     "iopub.status.idle": "2024-04-21T09:25:56.888898Z",
     "shell.execute_reply": "2024-04-21T09:25:56.887642Z"
    },
    "papermill": {
     "duration": 0.022226,
     "end_time": "2024-04-21T09:25:56.892473",
     "exception": false,
     "start_time": "2024-04-21T09:25:56.870247",
     "status": "completed"
    },
    "tags": []
   },
   "outputs": [
    {
     "name": "stdout",
     "output_type": "stream",
     "text": [
      "RMSE scores per fold: [1.86380489 1.83770594 1.85632818 1.85317424 1.82297325]\n",
      "Average RMSE: 1.8467972997469164\n"
     ]
    }
   ],
   "source": [
    "print(\"RMSE scores per fold:\", rmse_scores)\n",
    "print(\"Average RMSE:\", rmse_scores.mean())"
   ]
  },
  {
   "cell_type": "code",
   "execution_count": 21,
   "id": "85d821a8",
   "metadata": {
    "execution": {
     "iopub.execute_input": "2024-04-21T09:25:56.914978Z",
     "iopub.status.busy": "2024-04-21T09:25:56.914136Z",
     "iopub.status.idle": "2024-04-21T09:25:57.974028Z",
     "shell.execute_reply": "2024-04-21T09:25:57.972883Z"
    },
    "papermill": {
     "duration": 1.074554,
     "end_time": "2024-04-21T09:25:57.976824",
     "exception": false,
     "start_time": "2024-04-21T09:25:56.902270",
     "status": "completed"
    },
    "tags": []
   },
   "outputs": [
    {
     "data": {
      "text/html": [
       "<style>#sk-container-id-1 {color: black;background-color: white;}#sk-container-id-1 pre{padding: 0;}#sk-container-id-1 div.sk-toggleable {background-color: white;}#sk-container-id-1 label.sk-toggleable__label {cursor: pointer;display: block;width: 100%;margin-bottom: 0;padding: 0.3em;box-sizing: border-box;text-align: center;}#sk-container-id-1 label.sk-toggleable__label-arrow:before {content: \"▸\";float: left;margin-right: 0.25em;color: #696969;}#sk-container-id-1 label.sk-toggleable__label-arrow:hover:before {color: black;}#sk-container-id-1 div.sk-estimator:hover label.sk-toggleable__label-arrow:before {color: black;}#sk-container-id-1 div.sk-toggleable__content {max-height: 0;max-width: 0;overflow: hidden;text-align: left;background-color: #f0f8ff;}#sk-container-id-1 div.sk-toggleable__content pre {margin: 0.2em;color: black;border-radius: 0.25em;background-color: #f0f8ff;}#sk-container-id-1 input.sk-toggleable__control:checked~div.sk-toggleable__content {max-height: 200px;max-width: 100%;overflow: auto;}#sk-container-id-1 input.sk-toggleable__control:checked~label.sk-toggleable__label-arrow:before {content: \"▾\";}#sk-container-id-1 div.sk-estimator input.sk-toggleable__control:checked~label.sk-toggleable__label {background-color: #d4ebff;}#sk-container-id-1 div.sk-label input.sk-toggleable__control:checked~label.sk-toggleable__label {background-color: #d4ebff;}#sk-container-id-1 input.sk-hidden--visually {border: 0;clip: rect(1px 1px 1px 1px);clip: rect(1px, 1px, 1px, 1px);height: 1px;margin: -1px;overflow: hidden;padding: 0;position: absolute;width: 1px;}#sk-container-id-1 div.sk-estimator {font-family: monospace;background-color: #f0f8ff;border: 1px dotted black;border-radius: 0.25em;box-sizing: border-box;margin-bottom: 0.5em;}#sk-container-id-1 div.sk-estimator:hover {background-color: #d4ebff;}#sk-container-id-1 div.sk-parallel-item::after {content: \"\";width: 100%;border-bottom: 1px solid gray;flex-grow: 1;}#sk-container-id-1 div.sk-label:hover label.sk-toggleable__label {background-color: #d4ebff;}#sk-container-id-1 div.sk-serial::before {content: \"\";position: absolute;border-left: 1px solid gray;box-sizing: border-box;top: 0;bottom: 0;left: 50%;z-index: 0;}#sk-container-id-1 div.sk-serial {display: flex;flex-direction: column;align-items: center;background-color: white;padding-right: 0.2em;padding-left: 0.2em;position: relative;}#sk-container-id-1 div.sk-item {position: relative;z-index: 1;}#sk-container-id-1 div.sk-parallel {display: flex;align-items: stretch;justify-content: center;background-color: white;position: relative;}#sk-container-id-1 div.sk-item::before, #sk-container-id-1 div.sk-parallel-item::before {content: \"\";position: absolute;border-left: 1px solid gray;box-sizing: border-box;top: 0;bottom: 0;left: 50%;z-index: -1;}#sk-container-id-1 div.sk-parallel-item {display: flex;flex-direction: column;z-index: 1;position: relative;background-color: white;}#sk-container-id-1 div.sk-parallel-item:first-child::after {align-self: flex-end;width: 50%;}#sk-container-id-1 div.sk-parallel-item:last-child::after {align-self: flex-start;width: 50%;}#sk-container-id-1 div.sk-parallel-item:only-child::after {width: 0;}#sk-container-id-1 div.sk-dashed-wrapped {border: 1px dashed gray;margin: 0 0.4em 0.5em 0.4em;box-sizing: border-box;padding-bottom: 0.4em;background-color: white;}#sk-container-id-1 div.sk-label label {font-family: monospace;font-weight: bold;display: inline-block;line-height: 1.2em;}#sk-container-id-1 div.sk-label-container {text-align: center;}#sk-container-id-1 div.sk-container {/* jupyter's `normalize.less` sets `[hidden] { display: none; }` but bootstrap.min.css set `[hidden] { display: none !important; }` so we also need the `!important` here to be able to override the default hidden behavior on the sphinx rendered scikit-learn.org. See: https://github.com/scikit-learn/scikit-learn/issues/21755 */display: inline-block !important;position: relative;}#sk-container-id-1 div.sk-text-repr-fallback {display: none;}</style><div id=\"sk-container-id-1\" class=\"sk-top-container\"><div class=\"sk-text-repr-fallback\"><pre>XGBRegressor(base_score=None, booster=None, callbacks=None,\n",
       "             colsample_bylevel=None, colsample_bynode=None,\n",
       "             colsample_bytree=None, device=None, early_stopping_rounds=None,\n",
       "             enable_categorical=False, eval_metric=None, feature_types=None,\n",
       "             gamma=None, grow_policy=None, importance_type=None,\n",
       "             interaction_constraints=None, learning_rate=0.1, max_bin=None,\n",
       "             max_cat_threshold=None, max_cat_to_onehot=None,\n",
       "             max_delta_step=None, max_depth=7, max_leaves=None,\n",
       "             min_child_weight=None, missing=nan, monotone_constraints=None,\n",
       "             multi_strategy=None, n_estimators=200, n_jobs=None,\n",
       "             num_parallel_tree=None, random_state=None, ...)</pre><b>In a Jupyter environment, please rerun this cell to show the HTML representation or trust the notebook. <br />On GitHub, the HTML representation is unable to render, please try loading this page with nbviewer.org.</b></div><div class=\"sk-container\" hidden><div class=\"sk-item\"><div class=\"sk-estimator sk-toggleable\"><input class=\"sk-toggleable__control sk-hidden--visually\" id=\"sk-estimator-id-1\" type=\"checkbox\" checked><label for=\"sk-estimator-id-1\" class=\"sk-toggleable__label sk-toggleable__label-arrow\">XGBRegressor</label><div class=\"sk-toggleable__content\"><pre>XGBRegressor(base_score=None, booster=None, callbacks=None,\n",
       "             colsample_bylevel=None, colsample_bynode=None,\n",
       "             colsample_bytree=None, device=None, early_stopping_rounds=None,\n",
       "             enable_categorical=False, eval_metric=None, feature_types=None,\n",
       "             gamma=None, grow_policy=None, importance_type=None,\n",
       "             interaction_constraints=None, learning_rate=0.1, max_bin=None,\n",
       "             max_cat_threshold=None, max_cat_to_onehot=None,\n",
       "             max_delta_step=None, max_depth=7, max_leaves=None,\n",
       "             min_child_weight=None, missing=nan, monotone_constraints=None,\n",
       "             multi_strategy=None, n_estimators=200, n_jobs=None,\n",
       "             num_parallel_tree=None, random_state=None, ...)</pre></div></div></div></div></div>"
      ],
      "text/plain": [
       "XGBRegressor(base_score=None, booster=None, callbacks=None,\n",
       "             colsample_bylevel=None, colsample_bynode=None,\n",
       "             colsample_bytree=None, device=None, early_stopping_rounds=None,\n",
       "             enable_categorical=False, eval_metric=None, feature_types=None,\n",
       "             gamma=None, grow_policy=None, importance_type=None,\n",
       "             interaction_constraints=None, learning_rate=0.1, max_bin=None,\n",
       "             max_cat_threshold=None, max_cat_to_onehot=None,\n",
       "             max_delta_step=None, max_depth=7, max_leaves=None,\n",
       "             min_child_weight=None, missing=nan, monotone_constraints=None,\n",
       "             multi_strategy=None, n_estimators=200, n_jobs=None,\n",
       "             num_parallel_tree=None, random_state=None, ...)"
      ]
     },
     "execution_count": 21,
     "metadata": {},
     "output_type": "execute_result"
    }
   ],
   "source": [
    "model.fit(X, y)"
   ]
  },
  {
   "cell_type": "code",
   "execution_count": 22,
   "id": "dcffff98",
   "metadata": {
    "execution": {
     "iopub.execute_input": "2024-04-21T09:25:57.999576Z",
     "iopub.status.busy": "2024-04-21T09:25:57.999075Z",
     "iopub.status.idle": "2024-04-21T10:34:02.636246Z",
     "shell.execute_reply": "2024-04-21T10:34:02.634961Z"
    },
    "papermill": {
     "duration": 4084.658517,
     "end_time": "2024-04-21T10:34:02.645797",
     "exception": false,
     "start_time": "2024-04-21T09:25:57.987280",
     "status": "completed"
    },
    "tags": []
   },
   "outputs": [
    {
     "name": "stdout",
     "output_type": "stream",
     "text": [
      "Fitting 5 folds for each of 972 candidates, totalling 4860 fits\n",
      "Best parameters found:  {'alpha': 0, 'colsample_bytree': 0.8, 'lambda': 1.5, 'learning_rate': 0.1, 'max_depth': 7, 'n_estimators': 200, 'subsample': 0.9}\n",
      "Best RMSE:  1.8348639354682166\n"
     ]
    }
   ],
   "source": [
    "from sklearn.model_selection import GridSearchCV\n",
    "\n",
    "\n",
    "# Define the model\n",
    "model = xgb.XGBRegressor(objective='reg:squarederror')\n",
    "\n",
    "# Create the parameter grid\n",
    "param_grid = {\n",
    "    'max_depth': [3, 5, 7],\n",
    "    'learning_rate': [0.01, 0.1, 0.2],\n",
    "    'n_estimators': [100, 200, 300],\n",
    "    'subsample': [0.7, 0.8, 0.9],\n",
    "    'colsample_bytree': [0.7, 0.8, 0.9],\n",
    "    'lambda': [1, 1.5],\n",
    "    'alpha': [0, 0.5]\n",
    "}\n",
    "\n",
    "# Setup the GridSearch\n",
    "grid_search = GridSearchCV(estimator=model, param_grid=param_grid, scoring='neg_root_mean_squared_error', cv=5, verbose=1)\n",
    "\n",
    "# Fit GridSearch to the data\n",
    "grid_search.fit(X, y)\n",
    "\n",
    "# Best parameters and RMSE\n",
    "print(\"Best parameters found: \", grid_search.best_params_)\n",
    "print(\"Best RMSE: \", -grid_search.best_score_)"
   ]
  },
  {
   "cell_type": "code",
   "execution_count": null,
   "id": "9b978d36",
   "metadata": {
    "papermill": {
     "duration": 0.010103,
     "end_time": "2024-04-21T10:34:02.666293",
     "exception": false,
     "start_time": "2024-04-21T10:34:02.656190",
     "status": "completed"
    },
    "tags": []
   },
   "outputs": [],
   "source": []
  }
 ],
 "metadata": {
  "kaggle": {
   "accelerator": "none",
   "dataSources": [
    {
     "databundleVersionId": 8096274,
     "sourceId": 72489,
     "sourceType": "competition"
    }
   ],
   "dockerImageVersionId": 30684,
   "isGpuEnabled": false,
   "isInternetEnabled": true,
   "language": "python",
   "sourceType": "notebook"
  },
  "kernelspec": {
   "display_name": "Python 3",
   "language": "python",
   "name": "python3"
  },
  "language_info": {
   "codemirror_mode": {
    "name": "ipython",
    "version": 3
   },
   "file_extension": ".py",
   "mimetype": "text/x-python",
   "name": "python",
   "nbconvert_exporter": "python",
   "pygments_lexer": "ipython3",
   "version": "3.10.13"
  },
  "papermill": {
   "default_parameters": {},
   "duration": 4099.352268,
   "end_time": "2024-04-21T10:34:03.512485",
   "environment_variables": {},
   "exception": null,
   "input_path": "__notebook__.ipynb",
   "output_path": "__notebook__.ipynb",
   "parameters": {},
   "start_time": "2024-04-21T09:25:44.160217",
   "version": "2.5.0"
  }
 },
 "nbformat": 4,
 "nbformat_minor": 5
}

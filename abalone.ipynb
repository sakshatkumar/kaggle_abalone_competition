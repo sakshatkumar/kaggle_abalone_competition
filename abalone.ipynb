{
 "cells": [
  {
   "cell_type": "code",
   "execution_count": 1,
   "id": "75f463d0",
   "metadata": {
    "_cell_guid": "b1076dfc-b9ad-4769-8c92-a6c4dae69d19",
    "_uuid": "8f2839f25d086af736a60e9eeb907d3b93b6e0e5",
    "execution": {
     "iopub.execute_input": "2024-04-28T06:55:33.779015Z",
     "iopub.status.busy": "2024-04-28T06:55:33.778459Z",
     "iopub.status.idle": "2024-04-28T06:55:34.885298Z",
     "shell.execute_reply": "2024-04-28T06:55:34.883984Z"
    },
    "papermill": {
     "duration": 1.126832,
     "end_time": "2024-04-28T06:55:34.888042",
     "exception": false,
     "start_time": "2024-04-28T06:55:33.761210",
     "status": "completed"
    },
    "tags": []
   },
   "outputs": [
    {
     "name": "stdout",
     "output_type": "stream",
     "text": [
      "/kaggle/input/playground-series-s4e4/sample_submission.csv\n",
      "/kaggle/input/playground-series-s4e4/train.csv\n",
      "/kaggle/input/playground-series-s4e4/test.csv\n"
     ]
    }
   ],
   "source": [
    "# This Python 3 environment comes with many helpful analytics libraries installed\n",
    "# It is defined by the kaggle/python Docker image: https://github.com/kaggle/docker-python\n",
    "# For example, here's several helpful packages to load\n",
    "\n",
    "import numpy as np # linear algebra\n",
    "import pandas as pd # data processing, CSV file I/O (e.g. pd.read_csv)\n",
    "\n",
    "# Input data files are available in the read-only \"../input/\" directory\n",
    "# For example, running this (by clicking run or pressing Shift+Enter) will list all files under the input directory\n",
    "\n",
    "import os\n",
    "for dirname, _, filenames in os.walk('/kaggle/input'):\n",
    "    for filename in filenames:\n",
    "        print(os.path.join(dirname, filename))\n",
    "\n",
    "# You can write up to 20GB to the current directory (/kaggle/working/) that gets preserved as output when you create a version using \"Save & Run All\" \n",
    "# You can also write temporary files to /kaggle/temp/, but they won't be saved outside of the current session"
   ]
  },
  {
   "cell_type": "code",
   "execution_count": 2,
   "id": "fc2d81ce",
   "metadata": {
    "execution": {
     "iopub.execute_input": "2024-04-28T06:55:34.921122Z",
     "iopub.status.busy": "2024-04-28T06:55:34.920229Z",
     "iopub.status.idle": "2024-04-28T06:55:34.927241Z",
     "shell.execute_reply": "2024-04-28T06:55:34.925886Z"
    },
    "papermill": {
     "duration": 0.026666,
     "end_time": "2024-04-28T06:55:34.929779",
     "exception": false,
     "start_time": "2024-04-28T06:55:34.903113",
     "status": "completed"
    },
    "tags": []
   },
   "outputs": [],
   "source": [
    "import pandas as pd, numpy as np"
   ]
  },
  {
   "cell_type": "code",
   "execution_count": 3,
   "id": "2f90ef0e",
   "metadata": {
    "execution": {
     "iopub.execute_input": "2024-04-28T06:55:34.959973Z",
     "iopub.status.busy": "2024-04-28T06:55:34.959466Z",
     "iopub.status.idle": "2024-04-28T06:55:35.318822Z",
     "shell.execute_reply": "2024-04-28T06:55:35.317723Z"
    },
    "papermill": {
     "duration": 0.377979,
     "end_time": "2024-04-28T06:55:35.321940",
     "exception": false,
     "start_time": "2024-04-28T06:55:34.943961",
     "status": "completed"
    },
    "tags": []
   },
   "outputs": [],
   "source": [
    "dataTrain = pd.read_csv(\"/kaggle/input/playground-series-s4e4/train.csv\")\n",
    "dataTest = pd.read_csv(\"/kaggle/input/playground-series-s4e4/test.csv\")"
   ]
  },
  {
   "cell_type": "code",
   "execution_count": 4,
   "id": "207681c7",
   "metadata": {
    "execution": {
     "iopub.execute_input": "2024-04-28T06:55:35.355134Z",
     "iopub.status.busy": "2024-04-28T06:55:35.354366Z",
     "iopub.status.idle": "2024-04-28T06:55:35.374329Z",
     "shell.execute_reply": "2024-04-28T06:55:35.373140Z"
    },
    "papermill": {
     "duration": 0.040353,
     "end_time": "2024-04-28T06:55:35.377370",
     "exception": false,
     "start_time": "2024-04-28T06:55:35.337017",
     "status": "completed"
    },
    "tags": []
   },
   "outputs": [],
   "source": [
    "dataTrain = dataTrain.rename(columns={'Whole weight.1': 'Alpha weight', 'Whole weight.2': 'Beta weight'})\n",
    "dataTest = dataTest.rename(columns={'Whole weight.1': 'Alpha weight', 'Whole weight.2': 'Beta weight'})"
   ]
  },
  {
   "cell_type": "code",
   "execution_count": 5,
   "id": "94127ca3",
   "metadata": {
    "execution": {
     "iopub.execute_input": "2024-04-28T06:55:35.410965Z",
     "iopub.status.busy": "2024-04-28T06:55:35.410069Z",
     "iopub.status.idle": "2024-04-28T06:55:35.437394Z",
     "shell.execute_reply": "2024-04-28T06:55:35.436089Z"
    },
    "papermill": {
     "duration": 0.048344,
     "end_time": "2024-04-28T06:55:35.440436",
     "exception": false,
     "start_time": "2024-04-28T06:55:35.392092",
     "status": "completed"
    },
    "tags": []
   },
   "outputs": [
    {
     "data": {
      "text/html": [
       "<div>\n",
       "<style scoped>\n",
       "    .dataframe tbody tr th:only-of-type {\n",
       "        vertical-align: middle;\n",
       "    }\n",
       "\n",
       "    .dataframe tbody tr th {\n",
       "        vertical-align: top;\n",
       "    }\n",
       "\n",
       "    .dataframe thead th {\n",
       "        text-align: right;\n",
       "    }\n",
       "</style>\n",
       "<table border=\"1\" class=\"dataframe\">\n",
       "  <thead>\n",
       "    <tr style=\"text-align: right;\">\n",
       "      <th></th>\n",
       "      <th>id</th>\n",
       "      <th>Sex</th>\n",
       "      <th>Length</th>\n",
       "      <th>Diameter</th>\n",
       "      <th>Height</th>\n",
       "      <th>Whole weight</th>\n",
       "      <th>Alpha weight</th>\n",
       "      <th>Beta weight</th>\n",
       "      <th>Shell weight</th>\n",
       "    </tr>\n",
       "  </thead>\n",
       "  <tbody>\n",
       "    <tr>\n",
       "      <th>0</th>\n",
       "      <td>90615</td>\n",
       "      <td>M</td>\n",
       "      <td>0.645</td>\n",
       "      <td>0.475</td>\n",
       "      <td>0.155</td>\n",
       "      <td>1.2380</td>\n",
       "      <td>0.6185</td>\n",
       "      <td>0.3125</td>\n",
       "      <td>0.3005</td>\n",
       "    </tr>\n",
       "    <tr>\n",
       "      <th>1</th>\n",
       "      <td>90616</td>\n",
       "      <td>M</td>\n",
       "      <td>0.580</td>\n",
       "      <td>0.460</td>\n",
       "      <td>0.160</td>\n",
       "      <td>0.9830</td>\n",
       "      <td>0.4785</td>\n",
       "      <td>0.2195</td>\n",
       "      <td>0.2750</td>\n",
       "    </tr>\n",
       "    <tr>\n",
       "      <th>2</th>\n",
       "      <td>90617</td>\n",
       "      <td>M</td>\n",
       "      <td>0.560</td>\n",
       "      <td>0.420</td>\n",
       "      <td>0.140</td>\n",
       "      <td>0.8395</td>\n",
       "      <td>0.3525</td>\n",
       "      <td>0.1845</td>\n",
       "      <td>0.2405</td>\n",
       "    </tr>\n",
       "    <tr>\n",
       "      <th>3</th>\n",
       "      <td>90618</td>\n",
       "      <td>M</td>\n",
       "      <td>0.570</td>\n",
       "      <td>0.490</td>\n",
       "      <td>0.145</td>\n",
       "      <td>0.8740</td>\n",
       "      <td>0.3525</td>\n",
       "      <td>0.1865</td>\n",
       "      <td>0.2350</td>\n",
       "    </tr>\n",
       "    <tr>\n",
       "      <th>4</th>\n",
       "      <td>90619</td>\n",
       "      <td>I</td>\n",
       "      <td>0.415</td>\n",
       "      <td>0.325</td>\n",
       "      <td>0.110</td>\n",
       "      <td>0.3580</td>\n",
       "      <td>0.1575</td>\n",
       "      <td>0.0670</td>\n",
       "      <td>0.1050</td>\n",
       "    </tr>\n",
       "  </tbody>\n",
       "</table>\n",
       "</div>"
      ],
      "text/plain": [
       "      id Sex  Length  Diameter  Height  Whole weight  Alpha weight  \\\n",
       "0  90615   M   0.645     0.475   0.155        1.2380        0.6185   \n",
       "1  90616   M   0.580     0.460   0.160        0.9830        0.4785   \n",
       "2  90617   M   0.560     0.420   0.140        0.8395        0.3525   \n",
       "3  90618   M   0.570     0.490   0.145        0.8740        0.3525   \n",
       "4  90619   I   0.415     0.325   0.110        0.3580        0.1575   \n",
       "\n",
       "   Beta weight  Shell weight  \n",
       "0       0.3125        0.3005  \n",
       "1       0.2195        0.2750  \n",
       "2       0.1845        0.2405  \n",
       "3       0.1865        0.2350  \n",
       "4       0.0670        0.1050  "
      ]
     },
     "execution_count": 5,
     "metadata": {},
     "output_type": "execute_result"
    }
   ],
   "source": [
    "dataTest.head()"
   ]
  },
  {
   "cell_type": "code",
   "execution_count": 6,
   "id": "af0eb8c5",
   "metadata": {
    "execution": {
     "iopub.execute_input": "2024-04-28T06:55:35.471767Z",
     "iopub.status.busy": "2024-04-28T06:55:35.470682Z",
     "iopub.status.idle": "2024-04-28T06:55:35.490640Z",
     "shell.execute_reply": "2024-04-28T06:55:35.489396Z"
    },
    "papermill": {
     "duration": 0.039723,
     "end_time": "2024-04-28T06:55:35.494458",
     "exception": false,
     "start_time": "2024-04-28T06:55:35.454735",
     "status": "completed"
    },
    "tags": []
   },
   "outputs": [
    {
     "data": {
      "text/html": [
       "<div>\n",
       "<style scoped>\n",
       "    .dataframe tbody tr th:only-of-type {\n",
       "        vertical-align: middle;\n",
       "    }\n",
       "\n",
       "    .dataframe tbody tr th {\n",
       "        vertical-align: top;\n",
       "    }\n",
       "\n",
       "    .dataframe thead th {\n",
       "        text-align: right;\n",
       "    }\n",
       "</style>\n",
       "<table border=\"1\" class=\"dataframe\">\n",
       "  <thead>\n",
       "    <tr style=\"text-align: right;\">\n",
       "      <th></th>\n",
       "      <th>id</th>\n",
       "      <th>Sex</th>\n",
       "      <th>Length</th>\n",
       "      <th>Diameter</th>\n",
       "      <th>Height</th>\n",
       "      <th>Whole weight</th>\n",
       "      <th>Alpha weight</th>\n",
       "      <th>Beta weight</th>\n",
       "      <th>Shell weight</th>\n",
       "      <th>Rings</th>\n",
       "    </tr>\n",
       "  </thead>\n",
       "  <tbody>\n",
       "    <tr>\n",
       "      <th>0</th>\n",
       "      <td>0</td>\n",
       "      <td>F</td>\n",
       "      <td>0.550</td>\n",
       "      <td>0.430</td>\n",
       "      <td>0.150</td>\n",
       "      <td>0.7715</td>\n",
       "      <td>0.3285</td>\n",
       "      <td>0.1465</td>\n",
       "      <td>0.2400</td>\n",
       "      <td>11</td>\n",
       "    </tr>\n",
       "    <tr>\n",
       "      <th>1</th>\n",
       "      <td>1</td>\n",
       "      <td>F</td>\n",
       "      <td>0.630</td>\n",
       "      <td>0.490</td>\n",
       "      <td>0.145</td>\n",
       "      <td>1.1300</td>\n",
       "      <td>0.4580</td>\n",
       "      <td>0.2765</td>\n",
       "      <td>0.3200</td>\n",
       "      <td>11</td>\n",
       "    </tr>\n",
       "    <tr>\n",
       "      <th>2</th>\n",
       "      <td>2</td>\n",
       "      <td>I</td>\n",
       "      <td>0.160</td>\n",
       "      <td>0.110</td>\n",
       "      <td>0.025</td>\n",
       "      <td>0.0210</td>\n",
       "      <td>0.0055</td>\n",
       "      <td>0.0030</td>\n",
       "      <td>0.0050</td>\n",
       "      <td>6</td>\n",
       "    </tr>\n",
       "    <tr>\n",
       "      <th>3</th>\n",
       "      <td>3</td>\n",
       "      <td>M</td>\n",
       "      <td>0.595</td>\n",
       "      <td>0.475</td>\n",
       "      <td>0.150</td>\n",
       "      <td>0.9145</td>\n",
       "      <td>0.3755</td>\n",
       "      <td>0.2055</td>\n",
       "      <td>0.2500</td>\n",
       "      <td>10</td>\n",
       "    </tr>\n",
       "    <tr>\n",
       "      <th>4</th>\n",
       "      <td>4</td>\n",
       "      <td>I</td>\n",
       "      <td>0.555</td>\n",
       "      <td>0.425</td>\n",
       "      <td>0.130</td>\n",
       "      <td>0.7820</td>\n",
       "      <td>0.3695</td>\n",
       "      <td>0.1600</td>\n",
       "      <td>0.1975</td>\n",
       "      <td>9</td>\n",
       "    </tr>\n",
       "  </tbody>\n",
       "</table>\n",
       "</div>"
      ],
      "text/plain": [
       "   id Sex  Length  Diameter  Height  Whole weight  Alpha weight  Beta weight  \\\n",
       "0   0   F   0.550     0.430   0.150        0.7715        0.3285       0.1465   \n",
       "1   1   F   0.630     0.490   0.145        1.1300        0.4580       0.2765   \n",
       "2   2   I   0.160     0.110   0.025        0.0210        0.0055       0.0030   \n",
       "3   3   M   0.595     0.475   0.150        0.9145        0.3755       0.2055   \n",
       "4   4   I   0.555     0.425   0.130        0.7820        0.3695       0.1600   \n",
       "\n",
       "   Shell weight  Rings  \n",
       "0        0.2400     11  \n",
       "1        0.3200     11  \n",
       "2        0.0050      6  \n",
       "3        0.2500     10  \n",
       "4        0.1975      9  "
      ]
     },
     "execution_count": 6,
     "metadata": {},
     "output_type": "execute_result"
    }
   ],
   "source": [
    "dataTrain.head()"
   ]
  },
  {
   "cell_type": "code",
   "execution_count": 7,
   "id": "da710a3f",
   "metadata": {
    "execution": {
     "iopub.execute_input": "2024-04-28T06:55:35.528580Z",
     "iopub.status.busy": "2024-04-28T06:55:35.527663Z",
     "iopub.status.idle": "2024-04-28T06:55:35.619636Z",
     "shell.execute_reply": "2024-04-28T06:55:35.618188Z"
    },
    "papermill": {
     "duration": 0.112423,
     "end_time": "2024-04-28T06:55:35.623032",
     "exception": false,
     "start_time": "2024-04-28T06:55:35.510609",
     "status": "completed"
    },
    "tags": []
   },
   "outputs": [
    {
     "data": {
      "text/html": [
       "<div>\n",
       "<style scoped>\n",
       "    .dataframe tbody tr th:only-of-type {\n",
       "        vertical-align: middle;\n",
       "    }\n",
       "\n",
       "    .dataframe tbody tr th {\n",
       "        vertical-align: top;\n",
       "    }\n",
       "\n",
       "    .dataframe thead th {\n",
       "        text-align: right;\n",
       "    }\n",
       "</style>\n",
       "<table border=\"1\" class=\"dataframe\">\n",
       "  <thead>\n",
       "    <tr style=\"text-align: right;\">\n",
       "      <th></th>\n",
       "      <th>id</th>\n",
       "      <th>Length</th>\n",
       "      <th>Diameter</th>\n",
       "      <th>Height</th>\n",
       "      <th>Whole weight</th>\n",
       "      <th>Alpha weight</th>\n",
       "      <th>Beta weight</th>\n",
       "      <th>Shell weight</th>\n",
       "      <th>Rings</th>\n",
       "    </tr>\n",
       "  </thead>\n",
       "  <tbody>\n",
       "    <tr>\n",
       "      <th>count</th>\n",
       "      <td>90615.000000</td>\n",
       "      <td>90615.000000</td>\n",
       "      <td>90615.000000</td>\n",
       "      <td>90615.000000</td>\n",
       "      <td>90615.000000</td>\n",
       "      <td>90615.000000</td>\n",
       "      <td>90615.000000</td>\n",
       "      <td>90615.000000</td>\n",
       "      <td>90615.000000</td>\n",
       "    </tr>\n",
       "    <tr>\n",
       "      <th>mean</th>\n",
       "      <td>45307.000000</td>\n",
       "      <td>0.517098</td>\n",
       "      <td>0.401679</td>\n",
       "      <td>0.135464</td>\n",
       "      <td>0.789035</td>\n",
       "      <td>0.340778</td>\n",
       "      <td>0.169422</td>\n",
       "      <td>0.225898</td>\n",
       "      <td>9.696794</td>\n",
       "    </tr>\n",
       "    <tr>\n",
       "      <th>std</th>\n",
       "      <td>26158.441658</td>\n",
       "      <td>0.118217</td>\n",
       "      <td>0.098026</td>\n",
       "      <td>0.038008</td>\n",
       "      <td>0.457671</td>\n",
       "      <td>0.204428</td>\n",
       "      <td>0.100909</td>\n",
       "      <td>0.130203</td>\n",
       "      <td>3.176221</td>\n",
       "    </tr>\n",
       "    <tr>\n",
       "      <th>min</th>\n",
       "      <td>0.000000</td>\n",
       "      <td>0.075000</td>\n",
       "      <td>0.055000</td>\n",
       "      <td>0.000000</td>\n",
       "      <td>0.002000</td>\n",
       "      <td>0.001000</td>\n",
       "      <td>0.000500</td>\n",
       "      <td>0.001500</td>\n",
       "      <td>1.000000</td>\n",
       "    </tr>\n",
       "    <tr>\n",
       "      <th>25%</th>\n",
       "      <td>22653.500000</td>\n",
       "      <td>0.445000</td>\n",
       "      <td>0.345000</td>\n",
       "      <td>0.110000</td>\n",
       "      <td>0.419000</td>\n",
       "      <td>0.177500</td>\n",
       "      <td>0.086500</td>\n",
       "      <td>0.120000</td>\n",
       "      <td>8.000000</td>\n",
       "    </tr>\n",
       "    <tr>\n",
       "      <th>50%</th>\n",
       "      <td>45307.000000</td>\n",
       "      <td>0.545000</td>\n",
       "      <td>0.425000</td>\n",
       "      <td>0.140000</td>\n",
       "      <td>0.799500</td>\n",
       "      <td>0.330000</td>\n",
       "      <td>0.166000</td>\n",
       "      <td>0.225000</td>\n",
       "      <td>9.000000</td>\n",
       "    </tr>\n",
       "    <tr>\n",
       "      <th>75%</th>\n",
       "      <td>67960.500000</td>\n",
       "      <td>0.600000</td>\n",
       "      <td>0.470000</td>\n",
       "      <td>0.160000</td>\n",
       "      <td>1.067500</td>\n",
       "      <td>0.463000</td>\n",
       "      <td>0.232500</td>\n",
       "      <td>0.305000</td>\n",
       "      <td>11.000000</td>\n",
       "    </tr>\n",
       "    <tr>\n",
       "      <th>max</th>\n",
       "      <td>90614.000000</td>\n",
       "      <td>0.815000</td>\n",
       "      <td>0.650000</td>\n",
       "      <td>1.130000</td>\n",
       "      <td>2.825500</td>\n",
       "      <td>1.488000</td>\n",
       "      <td>0.760000</td>\n",
       "      <td>1.005000</td>\n",
       "      <td>29.000000</td>\n",
       "    </tr>\n",
       "  </tbody>\n",
       "</table>\n",
       "</div>"
      ],
      "text/plain": [
       "                 id        Length      Diameter        Height  Whole weight  \\\n",
       "count  90615.000000  90615.000000  90615.000000  90615.000000  90615.000000   \n",
       "mean   45307.000000      0.517098      0.401679      0.135464      0.789035   \n",
       "std    26158.441658      0.118217      0.098026      0.038008      0.457671   \n",
       "min        0.000000      0.075000      0.055000      0.000000      0.002000   \n",
       "25%    22653.500000      0.445000      0.345000      0.110000      0.419000   \n",
       "50%    45307.000000      0.545000      0.425000      0.140000      0.799500   \n",
       "75%    67960.500000      0.600000      0.470000      0.160000      1.067500   \n",
       "max    90614.000000      0.815000      0.650000      1.130000      2.825500   \n",
       "\n",
       "       Alpha weight   Beta weight  Shell weight         Rings  \n",
       "count  90615.000000  90615.000000  90615.000000  90615.000000  \n",
       "mean       0.340778      0.169422      0.225898      9.696794  \n",
       "std        0.204428      0.100909      0.130203      3.176221  \n",
       "min        0.001000      0.000500      0.001500      1.000000  \n",
       "25%        0.177500      0.086500      0.120000      8.000000  \n",
       "50%        0.330000      0.166000      0.225000      9.000000  \n",
       "75%        0.463000      0.232500      0.305000     11.000000  \n",
       "max        1.488000      0.760000      1.005000     29.000000  "
      ]
     },
     "execution_count": 7,
     "metadata": {},
     "output_type": "execute_result"
    }
   ],
   "source": [
    "dataTrain.describe()"
   ]
  },
  {
   "cell_type": "code",
   "execution_count": 8,
   "id": "e738c308",
   "metadata": {
    "execution": {
     "iopub.execute_input": "2024-04-28T06:55:35.655929Z",
     "iopub.status.busy": "2024-04-28T06:55:35.655455Z",
     "iopub.status.idle": "2024-04-28T06:55:35.677737Z",
     "shell.execute_reply": "2024-04-28T06:55:35.676552Z"
    },
    "papermill": {
     "duration": 0.041782,
     "end_time": "2024-04-28T06:55:35.680572",
     "exception": false,
     "start_time": "2024-04-28T06:55:35.638790",
     "status": "completed"
    },
    "tags": []
   },
   "outputs": [
    {
     "data": {
      "text/plain": [
       "id              0\n",
       "Sex             0\n",
       "Length          0\n",
       "Diameter        0\n",
       "Height          0\n",
       "Whole weight    0\n",
       "Alpha weight    0\n",
       "Beta weight     0\n",
       "Shell weight    0\n",
       "Rings           0\n",
       "dtype: int64"
      ]
     },
     "execution_count": 8,
     "metadata": {},
     "output_type": "execute_result"
    }
   ],
   "source": [
    "dataTrain.isnull().sum()"
   ]
  },
  {
   "cell_type": "code",
   "execution_count": 9,
   "id": "ae4e685f",
   "metadata": {
    "execution": {
     "iopub.execute_input": "2024-04-28T06:55:35.714439Z",
     "iopub.status.busy": "2024-04-28T06:55:35.714011Z",
     "iopub.status.idle": "2024-04-28T06:55:35.760444Z",
     "shell.execute_reply": "2024-04-28T06:55:35.759474Z"
    },
    "papermill": {
     "duration": 0.067529,
     "end_time": "2024-04-28T06:55:35.763240",
     "exception": false,
     "start_time": "2024-04-28T06:55:35.695711",
     "status": "completed"
    },
    "tags": []
   },
   "outputs": [
    {
     "data": {
      "text/plain": [
       "0"
      ]
     },
     "execution_count": 9,
     "metadata": {},
     "output_type": "execute_result"
    }
   ],
   "source": [
    "dataTrain.duplicated().sum()"
   ]
  },
  {
   "cell_type": "code",
   "execution_count": 10,
   "id": "e9e4106c",
   "metadata": {
    "execution": {
     "iopub.execute_input": "2024-04-28T06:55:35.796166Z",
     "iopub.status.busy": "2024-04-28T06:55:35.795644Z",
     "iopub.status.idle": "2024-04-28T06:55:35.803352Z",
     "shell.execute_reply": "2024-04-28T06:55:35.802300Z"
    },
    "papermill": {
     "duration": 0.027469,
     "end_time": "2024-04-28T06:55:35.806059",
     "exception": false,
     "start_time": "2024-04-28T06:55:35.778590",
     "status": "completed"
    },
    "tags": []
   },
   "outputs": [],
   "source": [
    "categoricalData = dataTrain.select_dtypes(\"object\")"
   ]
  },
  {
   "cell_type": "code",
   "execution_count": 11,
   "id": "938ce31a",
   "metadata": {
    "execution": {
     "iopub.execute_input": "2024-04-28T06:55:35.840114Z",
     "iopub.status.busy": "2024-04-28T06:55:35.839288Z",
     "iopub.status.idle": "2024-04-28T06:55:35.855492Z",
     "shell.execute_reply": "2024-04-28T06:55:35.854259Z"
    },
    "papermill": {
     "duration": 0.035972,
     "end_time": "2024-04-28T06:55:35.858100",
     "exception": false,
     "start_time": "2024-04-28T06:55:35.822128",
     "status": "completed"
    },
    "tags": []
   },
   "outputs": [
    {
     "data": {
      "text/plain": [
       "Sex    3\n",
       "dtype: int64"
      ]
     },
     "execution_count": 11,
     "metadata": {},
     "output_type": "execute_result"
    }
   ],
   "source": [
    "categoricalData.nunique()"
   ]
  },
  {
   "cell_type": "code",
   "execution_count": 12,
   "id": "71dd06f3",
   "metadata": {
    "execution": {
     "iopub.execute_input": "2024-04-28T06:55:35.892227Z",
     "iopub.status.busy": "2024-04-28T06:55:35.891541Z",
     "iopub.status.idle": "2024-04-28T06:55:35.927592Z",
     "shell.execute_reply": "2024-04-28T06:55:35.926102Z"
    },
    "papermill": {
     "duration": 0.056413,
     "end_time": "2024-04-28T06:55:35.930672",
     "exception": false,
     "start_time": "2024-04-28T06:55:35.874259",
     "status": "completed"
    },
    "tags": []
   },
   "outputs": [],
   "source": [
    "dataTrain_encoded = pd.get_dummies(dataTrain, columns=['Sex'], drop_first=True)\n"
   ]
  },
  {
   "cell_type": "code",
   "execution_count": 13,
   "id": "c9db93ed",
   "metadata": {
    "execution": {
     "iopub.execute_input": "2024-04-28T06:55:35.964689Z",
     "iopub.status.busy": "2024-04-28T06:55:35.964200Z",
     "iopub.status.idle": "2024-04-28T06:55:35.984676Z",
     "shell.execute_reply": "2024-04-28T06:55:35.983386Z"
    },
    "papermill": {
     "duration": 0.040213,
     "end_time": "2024-04-28T06:55:35.987370",
     "exception": false,
     "start_time": "2024-04-28T06:55:35.947157",
     "status": "completed"
    },
    "tags": []
   },
   "outputs": [
    {
     "data": {
      "text/html": [
       "<div>\n",
       "<style scoped>\n",
       "    .dataframe tbody tr th:only-of-type {\n",
       "        vertical-align: middle;\n",
       "    }\n",
       "\n",
       "    .dataframe tbody tr th {\n",
       "        vertical-align: top;\n",
       "    }\n",
       "\n",
       "    .dataframe thead th {\n",
       "        text-align: right;\n",
       "    }\n",
       "</style>\n",
       "<table border=\"1\" class=\"dataframe\">\n",
       "  <thead>\n",
       "    <tr style=\"text-align: right;\">\n",
       "      <th></th>\n",
       "      <th>id</th>\n",
       "      <th>Sex</th>\n",
       "      <th>Length</th>\n",
       "      <th>Diameter</th>\n",
       "      <th>Height</th>\n",
       "      <th>Whole weight</th>\n",
       "      <th>Alpha weight</th>\n",
       "      <th>Beta weight</th>\n",
       "      <th>Shell weight</th>\n",
       "    </tr>\n",
       "  </thead>\n",
       "  <tbody>\n",
       "    <tr>\n",
       "      <th>0</th>\n",
       "      <td>90615</td>\n",
       "      <td>M</td>\n",
       "      <td>0.645</td>\n",
       "      <td>0.475</td>\n",
       "      <td>0.155</td>\n",
       "      <td>1.2380</td>\n",
       "      <td>0.6185</td>\n",
       "      <td>0.3125</td>\n",
       "      <td>0.3005</td>\n",
       "    </tr>\n",
       "    <tr>\n",
       "      <th>1</th>\n",
       "      <td>90616</td>\n",
       "      <td>M</td>\n",
       "      <td>0.580</td>\n",
       "      <td>0.460</td>\n",
       "      <td>0.160</td>\n",
       "      <td>0.9830</td>\n",
       "      <td>0.4785</td>\n",
       "      <td>0.2195</td>\n",
       "      <td>0.2750</td>\n",
       "    </tr>\n",
       "    <tr>\n",
       "      <th>2</th>\n",
       "      <td>90617</td>\n",
       "      <td>M</td>\n",
       "      <td>0.560</td>\n",
       "      <td>0.420</td>\n",
       "      <td>0.140</td>\n",
       "      <td>0.8395</td>\n",
       "      <td>0.3525</td>\n",
       "      <td>0.1845</td>\n",
       "      <td>0.2405</td>\n",
       "    </tr>\n",
       "    <tr>\n",
       "      <th>3</th>\n",
       "      <td>90618</td>\n",
       "      <td>M</td>\n",
       "      <td>0.570</td>\n",
       "      <td>0.490</td>\n",
       "      <td>0.145</td>\n",
       "      <td>0.8740</td>\n",
       "      <td>0.3525</td>\n",
       "      <td>0.1865</td>\n",
       "      <td>0.2350</td>\n",
       "    </tr>\n",
       "    <tr>\n",
       "      <th>4</th>\n",
       "      <td>90619</td>\n",
       "      <td>I</td>\n",
       "      <td>0.415</td>\n",
       "      <td>0.325</td>\n",
       "      <td>0.110</td>\n",
       "      <td>0.3580</td>\n",
       "      <td>0.1575</td>\n",
       "      <td>0.0670</td>\n",
       "      <td>0.1050</td>\n",
       "    </tr>\n",
       "  </tbody>\n",
       "</table>\n",
       "</div>"
      ],
      "text/plain": [
       "      id Sex  Length  Diameter  Height  Whole weight  Alpha weight  \\\n",
       "0  90615   M   0.645     0.475   0.155        1.2380        0.6185   \n",
       "1  90616   M   0.580     0.460   0.160        0.9830        0.4785   \n",
       "2  90617   M   0.560     0.420   0.140        0.8395        0.3525   \n",
       "3  90618   M   0.570     0.490   0.145        0.8740        0.3525   \n",
       "4  90619   I   0.415     0.325   0.110        0.3580        0.1575   \n",
       "\n",
       "   Beta weight  Shell weight  \n",
       "0       0.3125        0.3005  \n",
       "1       0.2195        0.2750  \n",
       "2       0.1845        0.2405  \n",
       "3       0.1865        0.2350  \n",
       "4       0.0670        0.1050  "
      ]
     },
     "execution_count": 13,
     "metadata": {},
     "output_type": "execute_result"
    }
   ],
   "source": [
    "dataTest.head()"
   ]
  },
  {
   "cell_type": "code",
   "execution_count": 14,
   "id": "1e05a8cc",
   "metadata": {
    "execution": {
     "iopub.execute_input": "2024-04-28T06:55:36.022759Z",
     "iopub.status.busy": "2024-04-28T06:55:36.022023Z",
     "iopub.status.idle": "2024-04-28T06:55:36.043387Z",
     "shell.execute_reply": "2024-04-28T06:55:36.042452Z"
    },
    "papermill": {
     "duration": 0.04269,
     "end_time": "2024-04-28T06:55:36.046284",
     "exception": false,
     "start_time": "2024-04-28T06:55:36.003594",
     "status": "completed"
    },
    "tags": []
   },
   "outputs": [],
   "source": [
    "dataTest_encoded = pd.get_dummies(dataTest, columns=['Sex'], drop_first=True)"
   ]
  },
  {
   "cell_type": "code",
   "execution_count": 15,
   "id": "9ee4871c",
   "metadata": {
    "execution": {
     "iopub.execute_input": "2024-04-28T06:55:36.081689Z",
     "iopub.status.busy": "2024-04-28T06:55:36.080688Z",
     "iopub.status.idle": "2024-04-28T06:55:36.102708Z",
     "shell.execute_reply": "2024-04-28T06:55:36.101296Z"
    },
    "papermill": {
     "duration": 0.043402,
     "end_time": "2024-04-28T06:55:36.105564",
     "exception": false,
     "start_time": "2024-04-28T06:55:36.062162",
     "status": "completed"
    },
    "tags": []
   },
   "outputs": [
    {
     "data": {
      "text/html": [
       "<div>\n",
       "<style scoped>\n",
       "    .dataframe tbody tr th:only-of-type {\n",
       "        vertical-align: middle;\n",
       "    }\n",
       "\n",
       "    .dataframe tbody tr th {\n",
       "        vertical-align: top;\n",
       "    }\n",
       "\n",
       "    .dataframe thead th {\n",
       "        text-align: right;\n",
       "    }\n",
       "</style>\n",
       "<table border=\"1\" class=\"dataframe\">\n",
       "  <thead>\n",
       "    <tr style=\"text-align: right;\">\n",
       "      <th></th>\n",
       "      <th>id</th>\n",
       "      <th>Length</th>\n",
       "      <th>Diameter</th>\n",
       "      <th>Height</th>\n",
       "      <th>Whole weight</th>\n",
       "      <th>Alpha weight</th>\n",
       "      <th>Beta weight</th>\n",
       "      <th>Shell weight</th>\n",
       "      <th>Rings</th>\n",
       "      <th>Sex_I</th>\n",
       "      <th>Sex_M</th>\n",
       "    </tr>\n",
       "  </thead>\n",
       "  <tbody>\n",
       "    <tr>\n",
       "      <th>0</th>\n",
       "      <td>0</td>\n",
       "      <td>0.550</td>\n",
       "      <td>0.430</td>\n",
       "      <td>0.150</td>\n",
       "      <td>0.7715</td>\n",
       "      <td>0.3285</td>\n",
       "      <td>0.1465</td>\n",
       "      <td>0.2400</td>\n",
       "      <td>11</td>\n",
       "      <td>False</td>\n",
       "      <td>False</td>\n",
       "    </tr>\n",
       "    <tr>\n",
       "      <th>1</th>\n",
       "      <td>1</td>\n",
       "      <td>0.630</td>\n",
       "      <td>0.490</td>\n",
       "      <td>0.145</td>\n",
       "      <td>1.1300</td>\n",
       "      <td>0.4580</td>\n",
       "      <td>0.2765</td>\n",
       "      <td>0.3200</td>\n",
       "      <td>11</td>\n",
       "      <td>False</td>\n",
       "      <td>False</td>\n",
       "    </tr>\n",
       "    <tr>\n",
       "      <th>2</th>\n",
       "      <td>2</td>\n",
       "      <td>0.160</td>\n",
       "      <td>0.110</td>\n",
       "      <td>0.025</td>\n",
       "      <td>0.0210</td>\n",
       "      <td>0.0055</td>\n",
       "      <td>0.0030</td>\n",
       "      <td>0.0050</td>\n",
       "      <td>6</td>\n",
       "      <td>True</td>\n",
       "      <td>False</td>\n",
       "    </tr>\n",
       "    <tr>\n",
       "      <th>3</th>\n",
       "      <td>3</td>\n",
       "      <td>0.595</td>\n",
       "      <td>0.475</td>\n",
       "      <td>0.150</td>\n",
       "      <td>0.9145</td>\n",
       "      <td>0.3755</td>\n",
       "      <td>0.2055</td>\n",
       "      <td>0.2500</td>\n",
       "      <td>10</td>\n",
       "      <td>False</td>\n",
       "      <td>True</td>\n",
       "    </tr>\n",
       "    <tr>\n",
       "      <th>4</th>\n",
       "      <td>4</td>\n",
       "      <td>0.555</td>\n",
       "      <td>0.425</td>\n",
       "      <td>0.130</td>\n",
       "      <td>0.7820</td>\n",
       "      <td>0.3695</td>\n",
       "      <td>0.1600</td>\n",
       "      <td>0.1975</td>\n",
       "      <td>9</td>\n",
       "      <td>True</td>\n",
       "      <td>False</td>\n",
       "    </tr>\n",
       "  </tbody>\n",
       "</table>\n",
       "</div>"
      ],
      "text/plain": [
       "   id  Length  Diameter  Height  Whole weight  Alpha weight  Beta weight  \\\n",
       "0   0   0.550     0.430   0.150        0.7715        0.3285       0.1465   \n",
       "1   1   0.630     0.490   0.145        1.1300        0.4580       0.2765   \n",
       "2   2   0.160     0.110   0.025        0.0210        0.0055       0.0030   \n",
       "3   3   0.595     0.475   0.150        0.9145        0.3755       0.2055   \n",
       "4   4   0.555     0.425   0.130        0.7820        0.3695       0.1600   \n",
       "\n",
       "   Shell weight  Rings  Sex_I  Sex_M  \n",
       "0        0.2400     11  False  False  \n",
       "1        0.3200     11  False  False  \n",
       "2        0.0050      6   True  False  \n",
       "3        0.2500     10  False   True  \n",
       "4        0.1975      9   True  False  "
      ]
     },
     "execution_count": 15,
     "metadata": {},
     "output_type": "execute_result"
    }
   ],
   "source": [
    "dataTrain_encoded.head()"
   ]
  },
  {
   "cell_type": "code",
   "execution_count": 16,
   "id": "0a0b09ce",
   "metadata": {
    "execution": {
     "iopub.execute_input": "2024-04-28T06:55:36.141916Z",
     "iopub.status.busy": "2024-04-28T06:55:36.140800Z",
     "iopub.status.idle": "2024-04-28T06:55:36.148495Z",
     "shell.execute_reply": "2024-04-28T06:55:36.147309Z"
    },
    "papermill": {
     "duration": 0.029155,
     "end_time": "2024-04-28T06:55:36.151554",
     "exception": false,
     "start_time": "2024-04-28T06:55:36.122399",
     "status": "completed"
    },
    "tags": []
   },
   "outputs": [],
   "source": [
    "dataTest_encoded.drop(columns = 'id', inplace = True)"
   ]
  },
  {
   "cell_type": "code",
   "execution_count": 17,
   "id": "2562d576",
   "metadata": {
    "execution": {
     "iopub.execute_input": "2024-04-28T06:55:36.190621Z",
     "iopub.status.busy": "2024-04-28T06:55:36.190160Z",
     "iopub.status.idle": "2024-04-28T06:55:36.211549Z",
     "shell.execute_reply": "2024-04-28T06:55:36.210594Z"
    },
    "papermill": {
     "duration": 0.045308,
     "end_time": "2024-04-28T06:55:36.214041",
     "exception": false,
     "start_time": "2024-04-28T06:55:36.168733",
     "status": "completed"
    },
    "tags": []
   },
   "outputs": [
    {
     "data": {
      "text/html": [
       "<div>\n",
       "<style scoped>\n",
       "    .dataframe tbody tr th:only-of-type {\n",
       "        vertical-align: middle;\n",
       "    }\n",
       "\n",
       "    .dataframe tbody tr th {\n",
       "        vertical-align: top;\n",
       "    }\n",
       "\n",
       "    .dataframe thead th {\n",
       "        text-align: right;\n",
       "    }\n",
       "</style>\n",
       "<table border=\"1\" class=\"dataframe\">\n",
       "  <thead>\n",
       "    <tr style=\"text-align: right;\">\n",
       "      <th></th>\n",
       "      <th>Length</th>\n",
       "      <th>Diameter</th>\n",
       "      <th>Height</th>\n",
       "      <th>Whole weight</th>\n",
       "      <th>Alpha weight</th>\n",
       "      <th>Beta weight</th>\n",
       "      <th>Shell weight</th>\n",
       "      <th>Sex_I</th>\n",
       "      <th>Sex_M</th>\n",
       "    </tr>\n",
       "  </thead>\n",
       "  <tbody>\n",
       "    <tr>\n",
       "      <th>0</th>\n",
       "      <td>0.645</td>\n",
       "      <td>0.475</td>\n",
       "      <td>0.155</td>\n",
       "      <td>1.2380</td>\n",
       "      <td>0.6185</td>\n",
       "      <td>0.3125</td>\n",
       "      <td>0.3005</td>\n",
       "      <td>False</td>\n",
       "      <td>True</td>\n",
       "    </tr>\n",
       "    <tr>\n",
       "      <th>1</th>\n",
       "      <td>0.580</td>\n",
       "      <td>0.460</td>\n",
       "      <td>0.160</td>\n",
       "      <td>0.9830</td>\n",
       "      <td>0.4785</td>\n",
       "      <td>0.2195</td>\n",
       "      <td>0.2750</td>\n",
       "      <td>False</td>\n",
       "      <td>True</td>\n",
       "    </tr>\n",
       "    <tr>\n",
       "      <th>2</th>\n",
       "      <td>0.560</td>\n",
       "      <td>0.420</td>\n",
       "      <td>0.140</td>\n",
       "      <td>0.8395</td>\n",
       "      <td>0.3525</td>\n",
       "      <td>0.1845</td>\n",
       "      <td>0.2405</td>\n",
       "      <td>False</td>\n",
       "      <td>True</td>\n",
       "    </tr>\n",
       "    <tr>\n",
       "      <th>3</th>\n",
       "      <td>0.570</td>\n",
       "      <td>0.490</td>\n",
       "      <td>0.145</td>\n",
       "      <td>0.8740</td>\n",
       "      <td>0.3525</td>\n",
       "      <td>0.1865</td>\n",
       "      <td>0.2350</td>\n",
       "      <td>False</td>\n",
       "      <td>True</td>\n",
       "    </tr>\n",
       "    <tr>\n",
       "      <th>4</th>\n",
       "      <td>0.415</td>\n",
       "      <td>0.325</td>\n",
       "      <td>0.110</td>\n",
       "      <td>0.3580</td>\n",
       "      <td>0.1575</td>\n",
       "      <td>0.0670</td>\n",
       "      <td>0.1050</td>\n",
       "      <td>True</td>\n",
       "      <td>False</td>\n",
       "    </tr>\n",
       "  </tbody>\n",
       "</table>\n",
       "</div>"
      ],
      "text/plain": [
       "   Length  Diameter  Height  Whole weight  Alpha weight  Beta weight  \\\n",
       "0   0.645     0.475   0.155        1.2380        0.6185       0.3125   \n",
       "1   0.580     0.460   0.160        0.9830        0.4785       0.2195   \n",
       "2   0.560     0.420   0.140        0.8395        0.3525       0.1845   \n",
       "3   0.570     0.490   0.145        0.8740        0.3525       0.1865   \n",
       "4   0.415     0.325   0.110        0.3580        0.1575       0.0670   \n",
       "\n",
       "   Shell weight  Sex_I  Sex_M  \n",
       "0        0.3005  False   True  \n",
       "1        0.2750  False   True  \n",
       "2        0.2405  False   True  \n",
       "3        0.2350  False   True  \n",
       "4        0.1050   True  False  "
      ]
     },
     "execution_count": 17,
     "metadata": {},
     "output_type": "execute_result"
    }
   ],
   "source": [
    "dataTest_encoded.head()"
   ]
  },
  {
   "cell_type": "code",
   "execution_count": 18,
   "id": "f14c6bc2",
   "metadata": {
    "execution": {
     "iopub.execute_input": "2024-04-28T06:55:36.249593Z",
     "iopub.status.busy": "2024-04-28T06:55:36.249095Z",
     "iopub.status.idle": "2024-04-28T06:55:36.260297Z",
     "shell.execute_reply": "2024-04-28T06:55:36.259039Z"
    },
    "papermill": {
     "duration": 0.032087,
     "end_time": "2024-04-28T06:55:36.263277",
     "exception": false,
     "start_time": "2024-04-28T06:55:36.231190",
     "status": "completed"
    },
    "tags": []
   },
   "outputs": [],
   "source": [
    "dataTrain_encoded.drop(columns=\"id\",inplace= True)"
   ]
  },
  {
   "cell_type": "code",
   "execution_count": 19,
   "id": "3c528d3f",
   "metadata": {
    "execution": {
     "iopub.execute_input": "2024-04-28T06:55:36.298585Z",
     "iopub.status.busy": "2024-04-28T06:55:36.298091Z",
     "iopub.status.idle": "2024-04-28T06:55:36.307121Z",
     "shell.execute_reply": "2024-04-28T06:55:36.305718Z"
    },
    "papermill": {
     "duration": 0.029988,
     "end_time": "2024-04-28T06:55:36.309528",
     "exception": false,
     "start_time": "2024-04-28T06:55:36.279540",
     "status": "completed"
    },
    "tags": []
   },
   "outputs": [],
   "source": [
    "dataTrain_encoded[\"Sex_I\"] = dataTrain_encoded[\"Sex_I\"].astype(int)\n",
    "dataTrain_encoded[\"Sex_M\"] = dataTrain_encoded[\"Sex_M\"].astype(int)"
   ]
  },
  {
   "cell_type": "code",
   "execution_count": 20,
   "id": "0cc7086e",
   "metadata": {
    "execution": {
     "iopub.execute_input": "2024-04-28T06:55:36.344927Z",
     "iopub.status.busy": "2024-04-28T06:55:36.344416Z",
     "iopub.status.idle": "2024-04-28T06:55:36.352734Z",
     "shell.execute_reply": "2024-04-28T06:55:36.351385Z"
    },
    "papermill": {
     "duration": 0.029021,
     "end_time": "2024-04-28T06:55:36.355517",
     "exception": false,
     "start_time": "2024-04-28T06:55:36.326496",
     "status": "completed"
    },
    "tags": []
   },
   "outputs": [],
   "source": [
    "dataTest_encoded[\"Sex_I\"] = dataTest_encoded[\"Sex_I\"].astype(int)\n",
    "dataTest_encoded[\"Sex_M\"] = dataTest_encoded[\"Sex_M\"].astype(int)"
   ]
  },
  {
   "cell_type": "code",
   "execution_count": 21,
   "id": "e736de42",
   "metadata": {
    "execution": {
     "iopub.execute_input": "2024-04-28T06:55:36.391931Z",
     "iopub.status.busy": "2024-04-28T06:55:36.390556Z",
     "iopub.status.idle": "2024-04-28T06:55:36.400907Z",
     "shell.execute_reply": "2024-04-28T06:55:36.399684Z"
    },
    "papermill": {
     "duration": 0.03136,
     "end_time": "2024-04-28T06:55:36.404077",
     "exception": false,
     "start_time": "2024-04-28T06:55:36.372717",
     "status": "completed"
    },
    "tags": []
   },
   "outputs": [
    {
     "data": {
      "text/plain": [
       "Length          float64\n",
       "Diameter        float64\n",
       "Height          float64\n",
       "Whole weight    float64\n",
       "Alpha weight    float64\n",
       "Beta weight     float64\n",
       "Shell weight    float64\n",
       "Rings             int64\n",
       "Sex_I             int64\n",
       "Sex_M             int64\n",
       "dtype: object"
      ]
     },
     "execution_count": 21,
     "metadata": {},
     "output_type": "execute_result"
    }
   ],
   "source": [
    "dataTrain_encoded.dtypes"
   ]
  },
  {
   "cell_type": "code",
   "execution_count": 22,
   "id": "76cc1b49",
   "metadata": {
    "execution": {
     "iopub.execute_input": "2024-04-28T06:55:36.443092Z",
     "iopub.status.busy": "2024-04-28T06:55:36.441797Z",
     "iopub.status.idle": "2024-04-28T06:55:38.225182Z",
     "shell.execute_reply": "2024-04-28T06:55:38.223022Z"
    },
    "papermill": {
     "duration": 1.806218,
     "end_time": "2024-04-28T06:55:38.228234",
     "exception": false,
     "start_time": "2024-04-28T06:55:36.422016",
     "status": "completed"
    },
    "tags": []
   },
   "outputs": [],
   "source": [
    "import xgboost as xgb\n",
    "from sklearn.model_selection import train_test_split, KFold, cross_val_score\n",
    "from sklearn.metrics import mean_squared_error"
   ]
  },
  {
   "cell_type": "code",
   "execution_count": 23,
   "id": "545eef7f",
   "metadata": {
    "execution": {
     "iopub.execute_input": "2024-04-28T06:55:38.266725Z",
     "iopub.status.busy": "2024-04-28T06:55:38.266140Z",
     "iopub.status.idle": "2024-04-28T06:55:38.281808Z",
     "shell.execute_reply": "2024-04-28T06:55:38.280419Z"
    },
    "papermill": {
     "duration": 0.03769,
     "end_time": "2024-04-28T06:55:38.284696",
     "exception": false,
     "start_time": "2024-04-28T06:55:38.247006",
     "status": "completed"
    },
    "tags": []
   },
   "outputs": [],
   "source": [
    "X = dataTrain_encoded.drop('Rings', axis=1)\n",
    "y = dataTrain_encoded['Rings']"
   ]
  },
  {
   "cell_type": "code",
   "execution_count": 24,
   "id": "ad13ba71",
   "metadata": {
    "execution": {
     "iopub.execute_input": "2024-04-28T06:55:38.324463Z",
     "iopub.status.busy": "2024-04-28T06:55:38.323967Z",
     "iopub.status.idle": "2024-04-28T06:55:38.329754Z",
     "shell.execute_reply": "2024-04-28T06:55:38.328401Z"
    },
    "papermill": {
     "duration": 0.030883,
     "end_time": "2024-04-28T06:55:38.332616",
     "exception": false,
     "start_time": "2024-04-28T06:55:38.301733",
     "status": "completed"
    },
    "tags": []
   },
   "outputs": [],
   "source": [
    "model = xgb.XGBRegressor(objective='reg:squarederror', n_estimators=200, learning_rate=0.1, max_depth=7)"
   ]
  },
  {
   "cell_type": "code",
   "execution_count": 25,
   "id": "6f708ee9",
   "metadata": {
    "execution": {
     "iopub.execute_input": "2024-04-28T06:55:38.368735Z",
     "iopub.status.busy": "2024-04-28T06:55:38.367893Z",
     "iopub.status.idle": "2024-04-28T06:55:43.605874Z",
     "shell.execute_reply": "2024-04-28T06:55:43.604754Z"
    },
    "papermill": {
     "duration": 5.259237,
     "end_time": "2024-04-28T06:55:43.608688",
     "exception": false,
     "start_time": "2024-04-28T06:55:38.349451",
     "status": "completed"
    },
    "tags": []
   },
   "outputs": [],
   "source": [
    "kf = KFold(n_splits=5, shuffle=True, random_state=42)\n",
    "\n",
    "# Perform cross-validation and store results\n",
    "scores = cross_val_score(model, X, y, cv=kf, scoring='neg_mean_squared_error')\n",
    "rmse_scores = (-scores)**0.5  # Convert MSE to RMSE"
   ]
  },
  {
   "cell_type": "code",
   "execution_count": 26,
   "id": "00503ef6",
   "metadata": {
    "execution": {
     "iopub.execute_input": "2024-04-28T06:55:43.735787Z",
     "iopub.status.busy": "2024-04-28T06:55:43.734471Z",
     "iopub.status.idle": "2024-04-28T06:55:43.742045Z",
     "shell.execute_reply": "2024-04-28T06:55:43.740651Z"
    },
    "papermill": {
     "duration": 0.11783,
     "end_time": "2024-04-28T06:55:43.744867",
     "exception": false,
     "start_time": "2024-04-28T06:55:43.627037",
     "status": "completed"
    },
    "tags": []
   },
   "outputs": [
    {
     "name": "stdout",
     "output_type": "stream",
     "text": [
      "RMSE scores per fold: [1.86380489 1.83770594 1.85632818 1.85317424 1.82297325]\n",
      "Average RMSE: 1.8467972997469164\n"
     ]
    }
   ],
   "source": [
    "print(\"RMSE scores per fold:\", rmse_scores)\n",
    "print(\"Average RMSE:\", rmse_scores.mean())"
   ]
  },
  {
   "cell_type": "code",
   "execution_count": 27,
   "id": "a8f178c0",
   "metadata": {
    "execution": {
     "iopub.execute_input": "2024-04-28T06:55:43.782524Z",
     "iopub.status.busy": "2024-04-28T06:55:43.781740Z",
     "iopub.status.idle": "2024-04-28T06:55:44.933122Z",
     "shell.execute_reply": "2024-04-28T06:55:44.932030Z"
    },
    "papermill": {
     "duration": 1.17429,
     "end_time": "2024-04-28T06:55:44.935973",
     "exception": false,
     "start_time": "2024-04-28T06:55:43.761683",
     "status": "completed"
    },
    "tags": []
   },
   "outputs": [
    {
     "data": {
      "text/html": [
       "<style>#sk-container-id-1 {color: black;background-color: white;}#sk-container-id-1 pre{padding: 0;}#sk-container-id-1 div.sk-toggleable {background-color: white;}#sk-container-id-1 label.sk-toggleable__label {cursor: pointer;display: block;width: 100%;margin-bottom: 0;padding: 0.3em;box-sizing: border-box;text-align: center;}#sk-container-id-1 label.sk-toggleable__label-arrow:before {content: \"▸\";float: left;margin-right: 0.25em;color: #696969;}#sk-container-id-1 label.sk-toggleable__label-arrow:hover:before {color: black;}#sk-container-id-1 div.sk-estimator:hover label.sk-toggleable__label-arrow:before {color: black;}#sk-container-id-1 div.sk-toggleable__content {max-height: 0;max-width: 0;overflow: hidden;text-align: left;background-color: #f0f8ff;}#sk-container-id-1 div.sk-toggleable__content pre {margin: 0.2em;color: black;border-radius: 0.25em;background-color: #f0f8ff;}#sk-container-id-1 input.sk-toggleable__control:checked~div.sk-toggleable__content {max-height: 200px;max-width: 100%;overflow: auto;}#sk-container-id-1 input.sk-toggleable__control:checked~label.sk-toggleable__label-arrow:before {content: \"▾\";}#sk-container-id-1 div.sk-estimator input.sk-toggleable__control:checked~label.sk-toggleable__label {background-color: #d4ebff;}#sk-container-id-1 div.sk-label input.sk-toggleable__control:checked~label.sk-toggleable__label {background-color: #d4ebff;}#sk-container-id-1 input.sk-hidden--visually {border: 0;clip: rect(1px 1px 1px 1px);clip: rect(1px, 1px, 1px, 1px);height: 1px;margin: -1px;overflow: hidden;padding: 0;position: absolute;width: 1px;}#sk-container-id-1 div.sk-estimator {font-family: monospace;background-color: #f0f8ff;border: 1px dotted black;border-radius: 0.25em;box-sizing: border-box;margin-bottom: 0.5em;}#sk-container-id-1 div.sk-estimator:hover {background-color: #d4ebff;}#sk-container-id-1 div.sk-parallel-item::after {content: \"\";width: 100%;border-bottom: 1px solid gray;flex-grow: 1;}#sk-container-id-1 div.sk-label:hover label.sk-toggleable__label {background-color: #d4ebff;}#sk-container-id-1 div.sk-serial::before {content: \"\";position: absolute;border-left: 1px solid gray;box-sizing: border-box;top: 0;bottom: 0;left: 50%;z-index: 0;}#sk-container-id-1 div.sk-serial {display: flex;flex-direction: column;align-items: center;background-color: white;padding-right: 0.2em;padding-left: 0.2em;position: relative;}#sk-container-id-1 div.sk-item {position: relative;z-index: 1;}#sk-container-id-1 div.sk-parallel {display: flex;align-items: stretch;justify-content: center;background-color: white;position: relative;}#sk-container-id-1 div.sk-item::before, #sk-container-id-1 div.sk-parallel-item::before {content: \"\";position: absolute;border-left: 1px solid gray;box-sizing: border-box;top: 0;bottom: 0;left: 50%;z-index: -1;}#sk-container-id-1 div.sk-parallel-item {display: flex;flex-direction: column;z-index: 1;position: relative;background-color: white;}#sk-container-id-1 div.sk-parallel-item:first-child::after {align-self: flex-end;width: 50%;}#sk-container-id-1 div.sk-parallel-item:last-child::after {align-self: flex-start;width: 50%;}#sk-container-id-1 div.sk-parallel-item:only-child::after {width: 0;}#sk-container-id-1 div.sk-dashed-wrapped {border: 1px dashed gray;margin: 0 0.4em 0.5em 0.4em;box-sizing: border-box;padding-bottom: 0.4em;background-color: white;}#sk-container-id-1 div.sk-label label {font-family: monospace;font-weight: bold;display: inline-block;line-height: 1.2em;}#sk-container-id-1 div.sk-label-container {text-align: center;}#sk-container-id-1 div.sk-container {/* jupyter's `normalize.less` sets `[hidden] { display: none; }` but bootstrap.min.css set `[hidden] { display: none !important; }` so we also need the `!important` here to be able to override the default hidden behavior on the sphinx rendered scikit-learn.org. See: https://github.com/scikit-learn/scikit-learn/issues/21755 */display: inline-block !important;position: relative;}#sk-container-id-1 div.sk-text-repr-fallback {display: none;}</style><div id=\"sk-container-id-1\" class=\"sk-top-container\"><div class=\"sk-text-repr-fallback\"><pre>XGBRegressor(base_score=None, booster=None, callbacks=None,\n",
       "             colsample_bylevel=None, colsample_bynode=None,\n",
       "             colsample_bytree=None, device=None, early_stopping_rounds=None,\n",
       "             enable_categorical=False, eval_metric=None, feature_types=None,\n",
       "             gamma=None, grow_policy=None, importance_type=None,\n",
       "             interaction_constraints=None, learning_rate=0.1, max_bin=None,\n",
       "             max_cat_threshold=None, max_cat_to_onehot=None,\n",
       "             max_delta_step=None, max_depth=7, max_leaves=None,\n",
       "             min_child_weight=None, missing=nan, monotone_constraints=None,\n",
       "             multi_strategy=None, n_estimators=200, n_jobs=None,\n",
       "             num_parallel_tree=None, random_state=None, ...)</pre><b>In a Jupyter environment, please rerun this cell to show the HTML representation or trust the notebook. <br />On GitHub, the HTML representation is unable to render, please try loading this page with nbviewer.org.</b></div><div class=\"sk-container\" hidden><div class=\"sk-item\"><div class=\"sk-estimator sk-toggleable\"><input class=\"sk-toggleable__control sk-hidden--visually\" id=\"sk-estimator-id-1\" type=\"checkbox\" checked><label for=\"sk-estimator-id-1\" class=\"sk-toggleable__label sk-toggleable__label-arrow\">XGBRegressor</label><div class=\"sk-toggleable__content\"><pre>XGBRegressor(base_score=None, booster=None, callbacks=None,\n",
       "             colsample_bylevel=None, colsample_bynode=None,\n",
       "             colsample_bytree=None, device=None, early_stopping_rounds=None,\n",
       "             enable_categorical=False, eval_metric=None, feature_types=None,\n",
       "             gamma=None, grow_policy=None, importance_type=None,\n",
       "             interaction_constraints=None, learning_rate=0.1, max_bin=None,\n",
       "             max_cat_threshold=None, max_cat_to_onehot=None,\n",
       "             max_delta_step=None, max_depth=7, max_leaves=None,\n",
       "             min_child_weight=None, missing=nan, monotone_constraints=None,\n",
       "             multi_strategy=None, n_estimators=200, n_jobs=None,\n",
       "             num_parallel_tree=None, random_state=None, ...)</pre></div></div></div></div></div>"
      ],
      "text/plain": [
       "XGBRegressor(base_score=None, booster=None, callbacks=None,\n",
       "             colsample_bylevel=None, colsample_bynode=None,\n",
       "             colsample_bytree=None, device=None, early_stopping_rounds=None,\n",
       "             enable_categorical=False, eval_metric=None, feature_types=None,\n",
       "             gamma=None, grow_policy=None, importance_type=None,\n",
       "             interaction_constraints=None, learning_rate=0.1, max_bin=None,\n",
       "             max_cat_threshold=None, max_cat_to_onehot=None,\n",
       "             max_delta_step=None, max_depth=7, max_leaves=None,\n",
       "             min_child_weight=None, missing=nan, monotone_constraints=None,\n",
       "             multi_strategy=None, n_estimators=200, n_jobs=None,\n",
       "             num_parallel_tree=None, random_state=None, ...)"
      ]
     },
     "execution_count": 27,
     "metadata": {},
     "output_type": "execute_result"
    }
   ],
   "source": [
    "model.fit(X, y)"
   ]
  },
  {
   "cell_type": "code",
   "execution_count": 28,
   "id": "f64cca13",
   "metadata": {
    "execution": {
     "iopub.execute_input": "2024-04-28T06:55:44.973805Z",
     "iopub.status.busy": "2024-04-28T06:55:44.973333Z",
     "iopub.status.idle": "2024-04-28T06:55:44.982817Z",
     "shell.execute_reply": "2024-04-28T06:55:44.981505Z"
    },
    "papermill": {
     "duration": 0.032609,
     "end_time": "2024-04-28T06:55:44.985702",
     "exception": false,
     "start_time": "2024-04-28T06:55:44.953093",
     "status": "completed"
    },
    "tags": []
   },
   "outputs": [
    {
     "data": {
      "text/plain": [
       "'from sklearn.model_selection import GridSearchCV\\n\\n\\n# Define the model\\nmodel = xgb.XGBRegressor(objective=\\'reg:squarederror\\')\\n\\n# Create the parameter grid\\nparam_grid = {\\n    \\'max_depth\\': [3, 5, 7],\\n    \\'learning_rate\\': [0.01, 0.1, 0.2],\\n    \\'n_estimators\\': [100, 200, 300],\\n    \\'subsample\\': [0.7, 0.8, 0.9],\\n    \\'colsample_bytree\\': [0.7, 0.8, 0.9],\\n    \\'lambda\\': [1, 1.5],\\n    \\'alpha\\': [0, 0.5]\\n}\\n\\n# Setup the GridSearch\\ngrid_search = GridSearchCV(estimator=model, param_grid=param_grid, scoring=\\'neg_root_mean_squared_error\\', cv=5, verbose=1)\\n\\n# Fit GridSearch to the data\\ngrid_search.fit(X, y)\\n\\n# Best parameters and RMSE\\nprint(\"Best parameters found: \", grid_search.best_params_)\\nprint(\"Best RMSE: \", -grid_search.best_score_)'"
      ]
     },
     "execution_count": 28,
     "metadata": {},
     "output_type": "execute_result"
    }
   ],
   "source": [
    "'''from sklearn.model_selection import GridSearchCV\n",
    "\n",
    "\n",
    "# Define the model\n",
    "model = xgb.XGBRegressor(objective='reg:squarederror')\n",
    "\n",
    "# Create the parameter grid\n",
    "param_grid = {\n",
    "    'max_depth': [3, 5, 7],\n",
    "    'learning_rate': [0.01, 0.1, 0.2],\n",
    "    'n_estimators': [100, 200, 300],\n",
    "    'subsample': [0.7, 0.8, 0.9],\n",
    "    'colsample_bytree': [0.7, 0.8, 0.9],\n",
    "    'lambda': [1, 1.5],\n",
    "    'alpha': [0, 0.5]\n",
    "}\n",
    "\n",
    "# Setup the GridSearch\n",
    "grid_search = GridSearchCV(estimator=model, param_grid=param_grid, scoring='neg_root_mean_squared_error', cv=5, verbose=1)\n",
    "\n",
    "# Fit GridSearch to the data\n",
    "grid_search.fit(X, y)\n",
    "\n",
    "# Best parameters and RMSE\n",
    "print(\"Best parameters found: \", grid_search.best_params_)\n",
    "print(\"Best RMSE: \", -grid_search.best_score_)'''"
   ]
  },
  {
   "cell_type": "code",
   "execution_count": 29,
   "id": "ac345d28",
   "metadata": {
    "execution": {
     "iopub.execute_input": "2024-04-28T06:55:45.026497Z",
     "iopub.status.busy": "2024-04-28T06:55:45.025267Z",
     "iopub.status.idle": "2024-04-28T06:55:45.031336Z",
     "shell.execute_reply": "2024-04-28T06:55:45.030373Z"
    },
    "papermill": {
     "duration": 0.030488,
     "end_time": "2024-04-28T06:55:45.034127",
     "exception": false,
     "start_time": "2024-04-28T06:55:45.003639",
     "status": "completed"
    },
    "tags": []
   },
   "outputs": [],
   "source": [
    "\n",
    "model = xgb.XGBRegressor(objective='reg:squarederror',alpha= 0, colsample_bytree= 0.8, reg_lambda= 1.5, learning_rate= 0.1, max_depth= 7, n_estimators= 200, subsample=0.9)                        "
   ]
  },
  {
   "cell_type": "code",
   "execution_count": 30,
   "id": "71460128",
   "metadata": {
    "execution": {
     "iopub.execute_input": "2024-04-28T06:55:45.071276Z",
     "iopub.status.busy": "2024-04-28T06:55:45.070744Z",
     "iopub.status.idle": "2024-04-28T06:55:46.261248Z",
     "shell.execute_reply": "2024-04-28T06:55:46.260039Z"
    },
    "papermill": {
     "duration": 1.213229,
     "end_time": "2024-04-28T06:55:46.264804",
     "exception": false,
     "start_time": "2024-04-28T06:55:45.051575",
     "status": "completed"
    },
    "tags": []
   },
   "outputs": [
    {
     "data": {
      "text/html": [
       "<style>#sk-container-id-2 {color: black;background-color: white;}#sk-container-id-2 pre{padding: 0;}#sk-container-id-2 div.sk-toggleable {background-color: white;}#sk-container-id-2 label.sk-toggleable__label {cursor: pointer;display: block;width: 100%;margin-bottom: 0;padding: 0.3em;box-sizing: border-box;text-align: center;}#sk-container-id-2 label.sk-toggleable__label-arrow:before {content: \"▸\";float: left;margin-right: 0.25em;color: #696969;}#sk-container-id-2 label.sk-toggleable__label-arrow:hover:before {color: black;}#sk-container-id-2 div.sk-estimator:hover label.sk-toggleable__label-arrow:before {color: black;}#sk-container-id-2 div.sk-toggleable__content {max-height: 0;max-width: 0;overflow: hidden;text-align: left;background-color: #f0f8ff;}#sk-container-id-2 div.sk-toggleable__content pre {margin: 0.2em;color: black;border-radius: 0.25em;background-color: #f0f8ff;}#sk-container-id-2 input.sk-toggleable__control:checked~div.sk-toggleable__content {max-height: 200px;max-width: 100%;overflow: auto;}#sk-container-id-2 input.sk-toggleable__control:checked~label.sk-toggleable__label-arrow:before {content: \"▾\";}#sk-container-id-2 div.sk-estimator input.sk-toggleable__control:checked~label.sk-toggleable__label {background-color: #d4ebff;}#sk-container-id-2 div.sk-label input.sk-toggleable__control:checked~label.sk-toggleable__label {background-color: #d4ebff;}#sk-container-id-2 input.sk-hidden--visually {border: 0;clip: rect(1px 1px 1px 1px);clip: rect(1px, 1px, 1px, 1px);height: 1px;margin: -1px;overflow: hidden;padding: 0;position: absolute;width: 1px;}#sk-container-id-2 div.sk-estimator {font-family: monospace;background-color: #f0f8ff;border: 1px dotted black;border-radius: 0.25em;box-sizing: border-box;margin-bottom: 0.5em;}#sk-container-id-2 div.sk-estimator:hover {background-color: #d4ebff;}#sk-container-id-2 div.sk-parallel-item::after {content: \"\";width: 100%;border-bottom: 1px solid gray;flex-grow: 1;}#sk-container-id-2 div.sk-label:hover label.sk-toggleable__label {background-color: #d4ebff;}#sk-container-id-2 div.sk-serial::before {content: \"\";position: absolute;border-left: 1px solid gray;box-sizing: border-box;top: 0;bottom: 0;left: 50%;z-index: 0;}#sk-container-id-2 div.sk-serial {display: flex;flex-direction: column;align-items: center;background-color: white;padding-right: 0.2em;padding-left: 0.2em;position: relative;}#sk-container-id-2 div.sk-item {position: relative;z-index: 1;}#sk-container-id-2 div.sk-parallel {display: flex;align-items: stretch;justify-content: center;background-color: white;position: relative;}#sk-container-id-2 div.sk-item::before, #sk-container-id-2 div.sk-parallel-item::before {content: \"\";position: absolute;border-left: 1px solid gray;box-sizing: border-box;top: 0;bottom: 0;left: 50%;z-index: -1;}#sk-container-id-2 div.sk-parallel-item {display: flex;flex-direction: column;z-index: 1;position: relative;background-color: white;}#sk-container-id-2 div.sk-parallel-item:first-child::after {align-self: flex-end;width: 50%;}#sk-container-id-2 div.sk-parallel-item:last-child::after {align-self: flex-start;width: 50%;}#sk-container-id-2 div.sk-parallel-item:only-child::after {width: 0;}#sk-container-id-2 div.sk-dashed-wrapped {border: 1px dashed gray;margin: 0 0.4em 0.5em 0.4em;box-sizing: border-box;padding-bottom: 0.4em;background-color: white;}#sk-container-id-2 div.sk-label label {font-family: monospace;font-weight: bold;display: inline-block;line-height: 1.2em;}#sk-container-id-2 div.sk-label-container {text-align: center;}#sk-container-id-2 div.sk-container {/* jupyter's `normalize.less` sets `[hidden] { display: none; }` but bootstrap.min.css set `[hidden] { display: none !important; }` so we also need the `!important` here to be able to override the default hidden behavior on the sphinx rendered scikit-learn.org. See: https://github.com/scikit-learn/scikit-learn/issues/21755 */display: inline-block !important;position: relative;}#sk-container-id-2 div.sk-text-repr-fallback {display: none;}</style><div id=\"sk-container-id-2\" class=\"sk-top-container\"><div class=\"sk-text-repr-fallback\"><pre>XGBRegressor(alpha=0, base_score=None, booster=None, callbacks=None,\n",
       "             colsample_bylevel=None, colsample_bynode=None,\n",
       "             colsample_bytree=0.8, device=None, early_stopping_rounds=None,\n",
       "             enable_categorical=False, eval_metric=None, feature_types=None,\n",
       "             gamma=None, grow_policy=None, importance_type=None,\n",
       "             interaction_constraints=None, learning_rate=0.1, max_bin=None,\n",
       "             max_cat_threshold=None, max_cat_to_onehot=None,\n",
       "             max_delta_step=None, max_depth=7, max_leaves=None,\n",
       "             min_child_weight=None, missing=nan, monotone_constraints=None,\n",
       "             multi_strategy=None, n_estimators=200, n_jobs=None,\n",
       "             num_parallel_tree=None, ...)</pre><b>In a Jupyter environment, please rerun this cell to show the HTML representation or trust the notebook. <br />On GitHub, the HTML representation is unable to render, please try loading this page with nbviewer.org.</b></div><div class=\"sk-container\" hidden><div class=\"sk-item\"><div class=\"sk-estimator sk-toggleable\"><input class=\"sk-toggleable__control sk-hidden--visually\" id=\"sk-estimator-id-2\" type=\"checkbox\" checked><label for=\"sk-estimator-id-2\" class=\"sk-toggleable__label sk-toggleable__label-arrow\">XGBRegressor</label><div class=\"sk-toggleable__content\"><pre>XGBRegressor(alpha=0, base_score=None, booster=None, callbacks=None,\n",
       "             colsample_bylevel=None, colsample_bynode=None,\n",
       "             colsample_bytree=0.8, device=None, early_stopping_rounds=None,\n",
       "             enable_categorical=False, eval_metric=None, feature_types=None,\n",
       "             gamma=None, grow_policy=None, importance_type=None,\n",
       "             interaction_constraints=None, learning_rate=0.1, max_bin=None,\n",
       "             max_cat_threshold=None, max_cat_to_onehot=None,\n",
       "             max_delta_step=None, max_depth=7, max_leaves=None,\n",
       "             min_child_weight=None, missing=nan, monotone_constraints=None,\n",
       "             multi_strategy=None, n_estimators=200, n_jobs=None,\n",
       "             num_parallel_tree=None, ...)</pre></div></div></div></div></div>"
      ],
      "text/plain": [
       "XGBRegressor(alpha=0, base_score=None, booster=None, callbacks=None,\n",
       "             colsample_bylevel=None, colsample_bynode=None,\n",
       "             colsample_bytree=0.8, device=None, early_stopping_rounds=None,\n",
       "             enable_categorical=False, eval_metric=None, feature_types=None,\n",
       "             gamma=None, grow_policy=None, importance_type=None,\n",
       "             interaction_constraints=None, learning_rate=0.1, max_bin=None,\n",
       "             max_cat_threshold=None, max_cat_to_onehot=None,\n",
       "             max_delta_step=None, max_depth=7, max_leaves=None,\n",
       "             min_child_weight=None, missing=nan, monotone_constraints=None,\n",
       "             multi_strategy=None, n_estimators=200, n_jobs=None,\n",
       "             num_parallel_tree=None, ...)"
      ]
     },
     "execution_count": 30,
     "metadata": {},
     "output_type": "execute_result"
    }
   ],
   "source": [
    "model.fit(X,y)"
   ]
  },
  {
   "cell_type": "code",
   "execution_count": 31,
   "id": "e91127a5",
   "metadata": {
    "execution": {
     "iopub.execute_input": "2024-04-28T06:55:46.302793Z",
     "iopub.status.busy": "2024-04-28T06:55:46.302252Z",
     "iopub.status.idle": "2024-04-28T06:55:50.529879Z",
     "shell.execute_reply": "2024-04-28T06:55:50.528786Z"
    },
    "papermill": {
     "duration": 4.250412,
     "end_time": "2024-04-28T06:55:50.533001",
     "exception": false,
     "start_time": "2024-04-28T06:55:46.282589",
     "status": "completed"
    },
    "tags": []
   },
   "outputs": [],
   "source": [
    "kf = KFold(n_splits=4, shuffle=True, random_state=42)\n",
    "\n",
    "# Perform cross-validation and store results\n",
    "scores = cross_val_score(model, X, y, cv=kf, scoring='neg_mean_squared_error')\n",
    "rmse_scores = (-scores)**0.5  # Convert MSE to RMSE"
   ]
  },
  {
   "cell_type": "code",
   "execution_count": 32,
   "id": "7979afa1",
   "metadata": {
    "execution": {
     "iopub.execute_input": "2024-04-28T06:55:50.571679Z",
     "iopub.status.busy": "2024-04-28T06:55:50.571210Z",
     "iopub.status.idle": "2024-04-28T06:55:50.578093Z",
     "shell.execute_reply": "2024-04-28T06:55:50.576794Z"
    },
    "papermill": {
     "duration": 0.029641,
     "end_time": "2024-04-28T06:55:50.581595",
     "exception": false,
     "start_time": "2024-04-28T06:55:50.551954",
     "status": "completed"
    },
    "tags": []
   },
   "outputs": [
    {
     "name": "stdout",
     "output_type": "stream",
     "text": [
      "[1.86212648 1.83990135 1.83841587 1.82824647]\n"
     ]
    }
   ],
   "source": [
    "print(rmse_scores)"
   ]
  },
  {
   "cell_type": "code",
   "execution_count": 33,
   "id": "768a4faf",
   "metadata": {
    "execution": {
     "iopub.execute_input": "2024-04-28T06:55:50.620475Z",
     "iopub.status.busy": "2024-04-28T06:55:50.620021Z",
     "iopub.status.idle": "2024-04-28T06:55:51.806256Z",
     "shell.execute_reply": "2024-04-28T06:55:51.805186Z"
    },
    "papermill": {
     "duration": 1.209791,
     "end_time": "2024-04-28T06:55:51.809328",
     "exception": false,
     "start_time": "2024-04-28T06:55:50.599537",
     "status": "completed"
    },
    "tags": []
   },
   "outputs": [
    {
     "data": {
      "text/html": [
       "<style>#sk-container-id-3 {color: black;background-color: white;}#sk-container-id-3 pre{padding: 0;}#sk-container-id-3 div.sk-toggleable {background-color: white;}#sk-container-id-3 label.sk-toggleable__label {cursor: pointer;display: block;width: 100%;margin-bottom: 0;padding: 0.3em;box-sizing: border-box;text-align: center;}#sk-container-id-3 label.sk-toggleable__label-arrow:before {content: \"▸\";float: left;margin-right: 0.25em;color: #696969;}#sk-container-id-3 label.sk-toggleable__label-arrow:hover:before {color: black;}#sk-container-id-3 div.sk-estimator:hover label.sk-toggleable__label-arrow:before {color: black;}#sk-container-id-3 div.sk-toggleable__content {max-height: 0;max-width: 0;overflow: hidden;text-align: left;background-color: #f0f8ff;}#sk-container-id-3 div.sk-toggleable__content pre {margin: 0.2em;color: black;border-radius: 0.25em;background-color: #f0f8ff;}#sk-container-id-3 input.sk-toggleable__control:checked~div.sk-toggleable__content {max-height: 200px;max-width: 100%;overflow: auto;}#sk-container-id-3 input.sk-toggleable__control:checked~label.sk-toggleable__label-arrow:before {content: \"▾\";}#sk-container-id-3 div.sk-estimator input.sk-toggleable__control:checked~label.sk-toggleable__label {background-color: #d4ebff;}#sk-container-id-3 div.sk-label input.sk-toggleable__control:checked~label.sk-toggleable__label {background-color: #d4ebff;}#sk-container-id-3 input.sk-hidden--visually {border: 0;clip: rect(1px 1px 1px 1px);clip: rect(1px, 1px, 1px, 1px);height: 1px;margin: -1px;overflow: hidden;padding: 0;position: absolute;width: 1px;}#sk-container-id-3 div.sk-estimator {font-family: monospace;background-color: #f0f8ff;border: 1px dotted black;border-radius: 0.25em;box-sizing: border-box;margin-bottom: 0.5em;}#sk-container-id-3 div.sk-estimator:hover {background-color: #d4ebff;}#sk-container-id-3 div.sk-parallel-item::after {content: \"\";width: 100%;border-bottom: 1px solid gray;flex-grow: 1;}#sk-container-id-3 div.sk-label:hover label.sk-toggleable__label {background-color: #d4ebff;}#sk-container-id-3 div.sk-serial::before {content: \"\";position: absolute;border-left: 1px solid gray;box-sizing: border-box;top: 0;bottom: 0;left: 50%;z-index: 0;}#sk-container-id-3 div.sk-serial {display: flex;flex-direction: column;align-items: center;background-color: white;padding-right: 0.2em;padding-left: 0.2em;position: relative;}#sk-container-id-3 div.sk-item {position: relative;z-index: 1;}#sk-container-id-3 div.sk-parallel {display: flex;align-items: stretch;justify-content: center;background-color: white;position: relative;}#sk-container-id-3 div.sk-item::before, #sk-container-id-3 div.sk-parallel-item::before {content: \"\";position: absolute;border-left: 1px solid gray;box-sizing: border-box;top: 0;bottom: 0;left: 50%;z-index: -1;}#sk-container-id-3 div.sk-parallel-item {display: flex;flex-direction: column;z-index: 1;position: relative;background-color: white;}#sk-container-id-3 div.sk-parallel-item:first-child::after {align-self: flex-end;width: 50%;}#sk-container-id-3 div.sk-parallel-item:last-child::after {align-self: flex-start;width: 50%;}#sk-container-id-3 div.sk-parallel-item:only-child::after {width: 0;}#sk-container-id-3 div.sk-dashed-wrapped {border: 1px dashed gray;margin: 0 0.4em 0.5em 0.4em;box-sizing: border-box;padding-bottom: 0.4em;background-color: white;}#sk-container-id-3 div.sk-label label {font-family: monospace;font-weight: bold;display: inline-block;line-height: 1.2em;}#sk-container-id-3 div.sk-label-container {text-align: center;}#sk-container-id-3 div.sk-container {/* jupyter's `normalize.less` sets `[hidden] { display: none; }` but bootstrap.min.css set `[hidden] { display: none !important; }` so we also need the `!important` here to be able to override the default hidden behavior on the sphinx rendered scikit-learn.org. See: https://github.com/scikit-learn/scikit-learn/issues/21755 */display: inline-block !important;position: relative;}#sk-container-id-3 div.sk-text-repr-fallback {display: none;}</style><div id=\"sk-container-id-3\" class=\"sk-top-container\"><div class=\"sk-text-repr-fallback\"><pre>XGBRegressor(alpha=0, base_score=None, booster=None, callbacks=None,\n",
       "             colsample_bylevel=None, colsample_bynode=None,\n",
       "             colsample_bytree=0.8, device=None, early_stopping_rounds=None,\n",
       "             enable_categorical=False, eval_metric=None, feature_types=None,\n",
       "             gamma=None, grow_policy=None, importance_type=None,\n",
       "             interaction_constraints=None, learning_rate=0.1, max_bin=None,\n",
       "             max_cat_threshold=None, max_cat_to_onehot=None,\n",
       "             max_delta_step=None, max_depth=7, max_leaves=None,\n",
       "             min_child_weight=None, missing=nan, monotone_constraints=None,\n",
       "             multi_strategy=None, n_estimators=200, n_jobs=None,\n",
       "             num_parallel_tree=None, ...)</pre><b>In a Jupyter environment, please rerun this cell to show the HTML representation or trust the notebook. <br />On GitHub, the HTML representation is unable to render, please try loading this page with nbviewer.org.</b></div><div class=\"sk-container\" hidden><div class=\"sk-item\"><div class=\"sk-estimator sk-toggleable\"><input class=\"sk-toggleable__control sk-hidden--visually\" id=\"sk-estimator-id-3\" type=\"checkbox\" checked><label for=\"sk-estimator-id-3\" class=\"sk-toggleable__label sk-toggleable__label-arrow\">XGBRegressor</label><div class=\"sk-toggleable__content\"><pre>XGBRegressor(alpha=0, base_score=None, booster=None, callbacks=None,\n",
       "             colsample_bylevel=None, colsample_bynode=None,\n",
       "             colsample_bytree=0.8, device=None, early_stopping_rounds=None,\n",
       "             enable_categorical=False, eval_metric=None, feature_types=None,\n",
       "             gamma=None, grow_policy=None, importance_type=None,\n",
       "             interaction_constraints=None, learning_rate=0.1, max_bin=None,\n",
       "             max_cat_threshold=None, max_cat_to_onehot=None,\n",
       "             max_delta_step=None, max_depth=7, max_leaves=None,\n",
       "             min_child_weight=None, missing=nan, monotone_constraints=None,\n",
       "             multi_strategy=None, n_estimators=200, n_jobs=None,\n",
       "             num_parallel_tree=None, ...)</pre></div></div></div></div></div>"
      ],
      "text/plain": [
       "XGBRegressor(alpha=0, base_score=None, booster=None, callbacks=None,\n",
       "             colsample_bylevel=None, colsample_bynode=None,\n",
       "             colsample_bytree=0.8, device=None, early_stopping_rounds=None,\n",
       "             enable_categorical=False, eval_metric=None, feature_types=None,\n",
       "             gamma=None, grow_policy=None, importance_type=None,\n",
       "             interaction_constraints=None, learning_rate=0.1, max_bin=None,\n",
       "             max_cat_threshold=None, max_cat_to_onehot=None,\n",
       "             max_delta_step=None, max_depth=7, max_leaves=None,\n",
       "             min_child_weight=None, missing=nan, monotone_constraints=None,\n",
       "             multi_strategy=None, n_estimators=200, n_jobs=None,\n",
       "             num_parallel_tree=None, ...)"
      ]
     },
     "execution_count": 33,
     "metadata": {},
     "output_type": "execute_result"
    }
   ],
   "source": [
    "model.fit(X,y)"
   ]
  },
  {
   "cell_type": "markdown",
   "id": "514ca23e",
   "metadata": {
    "papermill": {
     "duration": 0.019064,
     "end_time": "2024-04-28T06:55:51.848573",
     "exception": false,
     "start_time": "2024-04-28T06:55:51.829509",
     "status": "completed"
    },
    "tags": []
   },
   "source": []
  },
  {
   "cell_type": "code",
   "execution_count": 34,
   "id": "4c93f80b",
   "metadata": {
    "execution": {
     "iopub.execute_input": "2024-04-28T06:55:51.888277Z",
     "iopub.status.busy": "2024-04-28T06:55:51.887752Z",
     "iopub.status.idle": "2024-04-28T06:55:51.922670Z",
     "shell.execute_reply": "2024-04-28T06:55:51.921253Z"
    },
    "papermill": {
     "duration": 0.059043,
     "end_time": "2024-04-28T06:55:51.925657",
     "exception": false,
     "start_time": "2024-04-28T06:55:51.866614",
     "status": "completed"
    },
    "tags": []
   },
   "outputs": [],
   "source": [
    "submit= pd.read_csv('/kaggle/input/playground-series-s4e4/sample_submission.csv')"
   ]
  },
  {
   "cell_type": "code",
   "execution_count": 35,
   "id": "577b5a6d",
   "metadata": {
    "execution": {
     "iopub.execute_input": "2024-04-28T06:55:51.965522Z",
     "iopub.status.busy": "2024-04-28T06:55:51.965044Z",
     "iopub.status.idle": "2024-04-28T06:55:51.976107Z",
     "shell.execute_reply": "2024-04-28T06:55:51.975119Z"
    },
    "papermill": {
     "duration": 0.03399,
     "end_time": "2024-04-28T06:55:51.978530",
     "exception": false,
     "start_time": "2024-04-28T06:55:51.944540",
     "status": "completed"
    },
    "tags": []
   },
   "outputs": [
    {
     "data": {
      "text/html": [
       "<div>\n",
       "<style scoped>\n",
       "    .dataframe tbody tr th:only-of-type {\n",
       "        vertical-align: middle;\n",
       "    }\n",
       "\n",
       "    .dataframe tbody tr th {\n",
       "        vertical-align: top;\n",
       "    }\n",
       "\n",
       "    .dataframe thead th {\n",
       "        text-align: right;\n",
       "    }\n",
       "</style>\n",
       "<table border=\"1\" class=\"dataframe\">\n",
       "  <thead>\n",
       "    <tr style=\"text-align: right;\">\n",
       "      <th></th>\n",
       "      <th>id</th>\n",
       "      <th>Rings</th>\n",
       "    </tr>\n",
       "  </thead>\n",
       "  <tbody>\n",
       "    <tr>\n",
       "      <th>0</th>\n",
       "      <td>90615</td>\n",
       "      <td>10</td>\n",
       "    </tr>\n",
       "    <tr>\n",
       "      <th>1</th>\n",
       "      <td>90616</td>\n",
       "      <td>10</td>\n",
       "    </tr>\n",
       "    <tr>\n",
       "      <th>2</th>\n",
       "      <td>90617</td>\n",
       "      <td>10</td>\n",
       "    </tr>\n",
       "    <tr>\n",
       "      <th>3</th>\n",
       "      <td>90618</td>\n",
       "      <td>10</td>\n",
       "    </tr>\n",
       "    <tr>\n",
       "      <th>4</th>\n",
       "      <td>90619</td>\n",
       "      <td>10</td>\n",
       "    </tr>\n",
       "  </tbody>\n",
       "</table>\n",
       "</div>"
      ],
      "text/plain": [
       "      id  Rings\n",
       "0  90615     10\n",
       "1  90616     10\n",
       "2  90617     10\n",
       "3  90618     10\n",
       "4  90619     10"
      ]
     },
     "execution_count": 35,
     "metadata": {},
     "output_type": "execute_result"
    }
   ],
   "source": [
    "submit.head()"
   ]
  },
  {
   "cell_type": "code",
   "execution_count": 36,
   "id": "7e29eea0",
   "metadata": {
    "execution": {
     "iopub.execute_input": "2024-04-28T06:55:52.021029Z",
     "iopub.status.busy": "2024-04-28T06:55:52.020084Z",
     "iopub.status.idle": "2024-04-28T06:55:52.040013Z",
     "shell.execute_reply": "2024-04-28T06:55:52.038498Z"
    },
    "papermill": {
     "duration": 0.044324,
     "end_time": "2024-04-28T06:55:52.043026",
     "exception": false,
     "start_time": "2024-04-28T06:55:51.998702",
     "status": "completed"
    },
    "tags": []
   },
   "outputs": [
    {
     "data": {
      "text/html": [
       "<div>\n",
       "<style scoped>\n",
       "    .dataframe tbody tr th:only-of-type {\n",
       "        vertical-align: middle;\n",
       "    }\n",
       "\n",
       "    .dataframe tbody tr th {\n",
       "        vertical-align: top;\n",
       "    }\n",
       "\n",
       "    .dataframe thead th {\n",
       "        text-align: right;\n",
       "    }\n",
       "</style>\n",
       "<table border=\"1\" class=\"dataframe\">\n",
       "  <thead>\n",
       "    <tr style=\"text-align: right;\">\n",
       "      <th></th>\n",
       "      <th>Length</th>\n",
       "      <th>Diameter</th>\n",
       "      <th>Height</th>\n",
       "      <th>Whole weight</th>\n",
       "      <th>Alpha weight</th>\n",
       "      <th>Beta weight</th>\n",
       "      <th>Shell weight</th>\n",
       "      <th>Sex_I</th>\n",
       "      <th>Sex_M</th>\n",
       "    </tr>\n",
       "  </thead>\n",
       "  <tbody>\n",
       "    <tr>\n",
       "      <th>0</th>\n",
       "      <td>0.645</td>\n",
       "      <td>0.475</td>\n",
       "      <td>0.155</td>\n",
       "      <td>1.2380</td>\n",
       "      <td>0.6185</td>\n",
       "      <td>0.3125</td>\n",
       "      <td>0.3005</td>\n",
       "      <td>0</td>\n",
       "      <td>1</td>\n",
       "    </tr>\n",
       "    <tr>\n",
       "      <th>1</th>\n",
       "      <td>0.580</td>\n",
       "      <td>0.460</td>\n",
       "      <td>0.160</td>\n",
       "      <td>0.9830</td>\n",
       "      <td>0.4785</td>\n",
       "      <td>0.2195</td>\n",
       "      <td>0.2750</td>\n",
       "      <td>0</td>\n",
       "      <td>1</td>\n",
       "    </tr>\n",
       "    <tr>\n",
       "      <th>2</th>\n",
       "      <td>0.560</td>\n",
       "      <td>0.420</td>\n",
       "      <td>0.140</td>\n",
       "      <td>0.8395</td>\n",
       "      <td>0.3525</td>\n",
       "      <td>0.1845</td>\n",
       "      <td>0.2405</td>\n",
       "      <td>0</td>\n",
       "      <td>1</td>\n",
       "    </tr>\n",
       "    <tr>\n",
       "      <th>3</th>\n",
       "      <td>0.570</td>\n",
       "      <td>0.490</td>\n",
       "      <td>0.145</td>\n",
       "      <td>0.8740</td>\n",
       "      <td>0.3525</td>\n",
       "      <td>0.1865</td>\n",
       "      <td>0.2350</td>\n",
       "      <td>0</td>\n",
       "      <td>1</td>\n",
       "    </tr>\n",
       "    <tr>\n",
       "      <th>4</th>\n",
       "      <td>0.415</td>\n",
       "      <td>0.325</td>\n",
       "      <td>0.110</td>\n",
       "      <td>0.3580</td>\n",
       "      <td>0.1575</td>\n",
       "      <td>0.0670</td>\n",
       "      <td>0.1050</td>\n",
       "      <td>1</td>\n",
       "      <td>0</td>\n",
       "    </tr>\n",
       "  </tbody>\n",
       "</table>\n",
       "</div>"
      ],
      "text/plain": [
       "   Length  Diameter  Height  Whole weight  Alpha weight  Beta weight  \\\n",
       "0   0.645     0.475   0.155        1.2380        0.6185       0.3125   \n",
       "1   0.580     0.460   0.160        0.9830        0.4785       0.2195   \n",
       "2   0.560     0.420   0.140        0.8395        0.3525       0.1845   \n",
       "3   0.570     0.490   0.145        0.8740        0.3525       0.1865   \n",
       "4   0.415     0.325   0.110        0.3580        0.1575       0.0670   \n",
       "\n",
       "   Shell weight  Sex_I  Sex_M  \n",
       "0        0.3005      0      1  \n",
       "1        0.2750      0      1  \n",
       "2        0.2405      0      1  \n",
       "3        0.2350      0      1  \n",
       "4        0.1050      1      0  "
      ]
     },
     "execution_count": 36,
     "metadata": {},
     "output_type": "execute_result"
    }
   ],
   "source": [
    "dataTest_encoded.head()"
   ]
  },
  {
   "cell_type": "code",
   "execution_count": 37,
   "id": "a47cf8f9",
   "metadata": {
    "execution": {
     "iopub.execute_input": "2024-04-28T06:55:52.082878Z",
     "iopub.status.busy": "2024-04-28T06:55:52.082072Z",
     "iopub.status.idle": "2024-04-28T06:55:52.242961Z",
     "shell.execute_reply": "2024-04-28T06:55:52.241923Z"
    },
    "papermill": {
     "duration": 0.188335,
     "end_time": "2024-04-28T06:55:52.250030",
     "exception": false,
     "start_time": "2024-04-28T06:55:52.061695",
     "status": "completed"
    },
    "tags": []
   },
   "outputs": [],
   "source": [
    "pred_y = model.predict(dataTest_encoded)"
   ]
  },
  {
   "cell_type": "code",
   "execution_count": 38,
   "id": "98d5e129",
   "metadata": {
    "execution": {
     "iopub.execute_input": "2024-04-28T06:55:52.291651Z",
     "iopub.status.busy": "2024-04-28T06:55:52.291176Z",
     "iopub.status.idle": "2024-04-28T06:55:52.298594Z",
     "shell.execute_reply": "2024-04-28T06:55:52.297051Z"
    },
    "papermill": {
     "duration": 0.031102,
     "end_time": "2024-04-28T06:55:52.301679",
     "exception": false,
     "start_time": "2024-04-28T06:55:52.270577",
     "status": "completed"
    },
    "tags": []
   },
   "outputs": [],
   "source": [
    "submit.drop(columns='Rings',inplace=True)"
   ]
  },
  {
   "cell_type": "code",
   "execution_count": 39,
   "id": "e4d79b8c",
   "metadata": {
    "execution": {
     "iopub.execute_input": "2024-04-28T06:55:52.344221Z",
     "iopub.status.busy": "2024-04-28T06:55:52.342973Z",
     "iopub.status.idle": "2024-04-28T06:55:52.349639Z",
     "shell.execute_reply": "2024-04-28T06:55:52.348752Z"
    },
    "papermill": {
     "duration": 0.030553,
     "end_time": "2024-04-28T06:55:52.352453",
     "exception": false,
     "start_time": "2024-04-28T06:55:52.321900",
     "status": "completed"
    },
    "tags": []
   },
   "outputs": [],
   "source": [
    "submit['Rings']= pred_y"
   ]
  },
  {
   "cell_type": "code",
   "execution_count": 40,
   "id": "f52bd523",
   "metadata": {
    "execution": {
     "iopub.execute_input": "2024-04-28T06:55:52.391770Z",
     "iopub.status.busy": "2024-04-28T06:55:52.391294Z",
     "iopub.status.idle": "2024-04-28T06:55:52.403710Z",
     "shell.execute_reply": "2024-04-28T06:55:52.402013Z"
    },
    "papermill": {
     "duration": 0.036072,
     "end_time": "2024-04-28T06:55:52.407163",
     "exception": false,
     "start_time": "2024-04-28T06:55:52.371091",
     "status": "completed"
    },
    "tags": []
   },
   "outputs": [
    {
     "data": {
      "text/html": [
       "<div>\n",
       "<style scoped>\n",
       "    .dataframe tbody tr th:only-of-type {\n",
       "        vertical-align: middle;\n",
       "    }\n",
       "\n",
       "    .dataframe tbody tr th {\n",
       "        vertical-align: top;\n",
       "    }\n",
       "\n",
       "    .dataframe thead th {\n",
       "        text-align: right;\n",
       "    }\n",
       "</style>\n",
       "<table border=\"1\" class=\"dataframe\">\n",
       "  <thead>\n",
       "    <tr style=\"text-align: right;\">\n",
       "      <th></th>\n",
       "      <th>id</th>\n",
       "      <th>Rings</th>\n",
       "    </tr>\n",
       "  </thead>\n",
       "  <tbody>\n",
       "    <tr>\n",
       "      <th>0</th>\n",
       "      <td>90615</td>\n",
       "      <td>9.916780</td>\n",
       "    </tr>\n",
       "    <tr>\n",
       "      <th>1</th>\n",
       "      <td>90616</td>\n",
       "      <td>9.642611</td>\n",
       "    </tr>\n",
       "    <tr>\n",
       "      <th>2</th>\n",
       "      <td>90617</td>\n",
       "      <td>10.147193</td>\n",
       "    </tr>\n",
       "    <tr>\n",
       "      <th>3</th>\n",
       "      <td>90618</td>\n",
       "      <td>10.414826</td>\n",
       "    </tr>\n",
       "    <tr>\n",
       "      <th>4</th>\n",
       "      <td>90619</td>\n",
       "      <td>7.616537</td>\n",
       "    </tr>\n",
       "  </tbody>\n",
       "</table>\n",
       "</div>"
      ],
      "text/plain": [
       "      id      Rings\n",
       "0  90615   9.916780\n",
       "1  90616   9.642611\n",
       "2  90617  10.147193\n",
       "3  90618  10.414826\n",
       "4  90619   7.616537"
      ]
     },
     "execution_count": 40,
     "metadata": {},
     "output_type": "execute_result"
    }
   ],
   "source": [
    "submit.head()"
   ]
  },
  {
   "cell_type": "code",
   "execution_count": 41,
   "id": "3fd35f38",
   "metadata": {
    "execution": {
     "iopub.execute_input": "2024-04-28T06:55:52.450652Z",
     "iopub.status.busy": "2024-04-28T06:55:52.450116Z",
     "iopub.status.idle": "2024-04-28T06:55:52.616424Z",
     "shell.execute_reply": "2024-04-28T06:55:52.615050Z"
    },
    "papermill": {
     "duration": 0.192022,
     "end_time": "2024-04-28T06:55:52.619739",
     "exception": false,
     "start_time": "2024-04-28T06:55:52.427717",
     "status": "completed"
    },
    "tags": []
   },
   "outputs": [],
   "source": [
    "submit.to_csv('submission.csv', index=False)"
   ]
  },
  {
   "cell_type": "markdown",
   "id": "4afde97a",
   "metadata": {
    "papermill": {
     "duration": 0.020542,
     "end_time": "2024-04-28T06:55:52.660542",
     "exception": false,
     "start_time": "2024-04-28T06:55:52.640000",
     "status": "completed"
    },
    "tags": []
   },
   "source": []
  }
 ],
 "metadata": {
  "kaggle": {
   "accelerator": "none",
   "dataSources": [
    {
     "databundleVersionId": 8096274,
     "sourceId": 72489,
     "sourceType": "competition"
    }
   ],
   "dockerImageVersionId": 30684,
   "isGpuEnabled": false,
   "isInternetEnabled": true,
   "language": "python",
   "sourceType": "notebook"
  },
  "kernelspec": {
   "display_name": "Python 3",
   "language": "python",
   "name": "python3"
  },
  "language_info": {
   "codemirror_mode": {
    "name": "ipython",
    "version": 3
   },
   "file_extension": ".py",
   "mimetype": "text/x-python",
   "name": "python",
   "nbconvert_exporter": "python",
   "pygments_lexer": "ipython3",
   "version": "3.10.13"
  },
  "papermill": {
   "default_parameters": {},
   "duration": 23.552459,
   "end_time": "2024-04-28T06:55:53.605356",
   "environment_variables": {},
   "exception": null,
   "input_path": "__notebook__.ipynb",
   "output_path": "__notebook__.ipynb",
   "parameters": {},
   "start_time": "2024-04-28T06:55:30.052897",
   "version": "2.5.0"
  }
 },
 "nbformat": 4,
 "nbformat_minor": 5
}

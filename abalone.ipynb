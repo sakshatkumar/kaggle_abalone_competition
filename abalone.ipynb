{
 "cells": [
  {
   "cell_type": "code",
   "execution_count": 1,
   "id": "01204bf1",
   "metadata": {
    "_cell_guid": "b1076dfc-b9ad-4769-8c92-a6c4dae69d19",
    "_uuid": "8f2839f25d086af736a60e9eeb907d3b93b6e0e5",
    "execution": {
     "iopub.execute_input": "2024-04-28T07:32:29.057716Z",
     "iopub.status.busy": "2024-04-28T07:32:29.056881Z",
     "iopub.status.idle": "2024-04-28T07:32:30.138141Z",
     "shell.execute_reply": "2024-04-28T07:32:30.136486Z"
    },
    "papermill": {
     "duration": 1.102552,
     "end_time": "2024-04-28T07:32:30.141380",
     "exception": false,
     "start_time": "2024-04-28T07:32:29.038828",
     "status": "completed"
    },
    "tags": []
   },
   "outputs": [
    {
     "name": "stdout",
     "output_type": "stream",
     "text": [
      "/kaggle/input/abalone-dataset/abalone.csv\n",
      "/kaggle/input/playground-series-s4e4/sample_submission.csv\n",
      "/kaggle/input/playground-series-s4e4/train.csv\n",
      "/kaggle/input/playground-series-s4e4/test.csv\n"
     ]
    }
   ],
   "source": [
    "# This Python 3 environment comes with many helpful analytics libraries installed\n",
    "# It is defined by the kaggle/python Docker image: https://github.com/kaggle/docker-python\n",
    "# For example, here's several helpful packages to load\n",
    "\n",
    "import numpy as np # linear algebra\n",
    "import pandas as pd # data processing, CSV file I/O (e.g. pd.read_csv)\n",
    "\n",
    "# Input data files are available in the read-only \"../input/\" directory\n",
    "# For example, running this (by clicking run or pressing Shift+Enter) will list all files under the input directory\n",
    "\n",
    "import os\n",
    "for dirname, _, filenames in os.walk('/kaggle/input'):\n",
    "    for filename in filenames:\n",
    "        print(os.path.join(dirname, filename))\n",
    "\n",
    "# You can write up to 20GB to the current directory (/kaggle/working/) that gets preserved as output when you create a version using \"Save & Run All\" \n",
    "# You can also write temporary files to /kaggle/temp/, but they won't be saved outside of the current session"
   ]
  },
  {
   "cell_type": "code",
   "execution_count": 2,
   "id": "f98af05c",
   "metadata": {
    "execution": {
     "iopub.execute_input": "2024-04-28T07:32:30.178599Z",
     "iopub.status.busy": "2024-04-28T07:32:30.178084Z",
     "iopub.status.idle": "2024-04-28T07:32:30.183410Z",
     "shell.execute_reply": "2024-04-28T07:32:30.182072Z"
    },
    "papermill": {
     "duration": 0.028032,
     "end_time": "2024-04-28T07:32:30.186864",
     "exception": false,
     "start_time": "2024-04-28T07:32:30.158832",
     "status": "completed"
    },
    "tags": []
   },
   "outputs": [],
   "source": [
    "import pandas as pd, numpy as np"
   ]
  },
  {
   "cell_type": "code",
   "execution_count": 3,
   "id": "e131b813",
   "metadata": {
    "execution": {
     "iopub.execute_input": "2024-04-28T07:32:30.223878Z",
     "iopub.status.busy": "2024-04-28T07:32:30.221928Z",
     "iopub.status.idle": "2024-04-28T07:32:30.577432Z",
     "shell.execute_reply": "2024-04-28T07:32:30.576053Z"
    },
    "papermill": {
     "duration": 0.377768,
     "end_time": "2024-04-28T07:32:30.580899",
     "exception": false,
     "start_time": "2024-04-28T07:32:30.203131",
     "status": "completed"
    },
    "tags": []
   },
   "outputs": [],
   "source": [
    "dataTrain = pd.read_csv(\"/kaggle/input/playground-series-s4e4/train.csv\")\n",
    "dataTest = pd.read_csv(\"/kaggle/input/playground-series-s4e4/test.csv\")"
   ]
  },
  {
   "cell_type": "code",
   "execution_count": 4,
   "id": "4c14a6d7",
   "metadata": {
    "execution": {
     "iopub.execute_input": "2024-04-28T07:32:30.617938Z",
     "iopub.status.busy": "2024-04-28T07:32:30.617157Z",
     "iopub.status.idle": "2024-04-28T07:32:30.634884Z",
     "shell.execute_reply": "2024-04-28T07:32:30.633924Z"
    },
    "papermill": {
     "duration": 0.039295,
     "end_time": "2024-04-28T07:32:30.637984",
     "exception": false,
     "start_time": "2024-04-28T07:32:30.598689",
     "status": "completed"
    },
    "tags": []
   },
   "outputs": [],
   "source": [
    "dataTrain = dataTrain.rename(columns={'Whole weight.1': 'Shucked weight', 'Whole weight.2': 'Viscera weight'})\n",
    "dataTest = dataTest.rename(columns={'Whole weight.1': 'Shucked weight', 'Whole weight.2': 'Viscera weight'})"
   ]
  },
  {
   "cell_type": "code",
   "execution_count": 5,
   "id": "a0440122",
   "metadata": {
    "execution": {
     "iopub.execute_input": "2024-04-28T07:32:30.673620Z",
     "iopub.status.busy": "2024-04-28T07:32:30.672586Z",
     "iopub.status.idle": "2024-04-28T07:32:30.696581Z",
     "shell.execute_reply": "2024-04-28T07:32:30.695741Z"
    },
    "papermill": {
     "duration": 0.044529,
     "end_time": "2024-04-28T07:32:30.699134",
     "exception": false,
     "start_time": "2024-04-28T07:32:30.654605",
     "status": "completed"
    },
    "tags": []
   },
   "outputs": [
    {
     "data": {
      "text/html": [
       "<div>\n",
       "<style scoped>\n",
       "    .dataframe tbody tr th:only-of-type {\n",
       "        vertical-align: middle;\n",
       "    }\n",
       "\n",
       "    .dataframe tbody tr th {\n",
       "        vertical-align: top;\n",
       "    }\n",
       "\n",
       "    .dataframe thead th {\n",
       "        text-align: right;\n",
       "    }\n",
       "</style>\n",
       "<table border=\"1\" class=\"dataframe\">\n",
       "  <thead>\n",
       "    <tr style=\"text-align: right;\">\n",
       "      <th></th>\n",
       "      <th>id</th>\n",
       "      <th>Sex</th>\n",
       "      <th>Length</th>\n",
       "      <th>Diameter</th>\n",
       "      <th>Height</th>\n",
       "      <th>Whole weight</th>\n",
       "      <th>Shucked weight</th>\n",
       "      <th>Viscera weight</th>\n",
       "      <th>Shell weight</th>\n",
       "    </tr>\n",
       "  </thead>\n",
       "  <tbody>\n",
       "    <tr>\n",
       "      <th>0</th>\n",
       "      <td>90615</td>\n",
       "      <td>M</td>\n",
       "      <td>0.645</td>\n",
       "      <td>0.475</td>\n",
       "      <td>0.155</td>\n",
       "      <td>1.2380</td>\n",
       "      <td>0.6185</td>\n",
       "      <td>0.3125</td>\n",
       "      <td>0.3005</td>\n",
       "    </tr>\n",
       "    <tr>\n",
       "      <th>1</th>\n",
       "      <td>90616</td>\n",
       "      <td>M</td>\n",
       "      <td>0.580</td>\n",
       "      <td>0.460</td>\n",
       "      <td>0.160</td>\n",
       "      <td>0.9830</td>\n",
       "      <td>0.4785</td>\n",
       "      <td>0.2195</td>\n",
       "      <td>0.2750</td>\n",
       "    </tr>\n",
       "    <tr>\n",
       "      <th>2</th>\n",
       "      <td>90617</td>\n",
       "      <td>M</td>\n",
       "      <td>0.560</td>\n",
       "      <td>0.420</td>\n",
       "      <td>0.140</td>\n",
       "      <td>0.8395</td>\n",
       "      <td>0.3525</td>\n",
       "      <td>0.1845</td>\n",
       "      <td>0.2405</td>\n",
       "    </tr>\n",
       "    <tr>\n",
       "      <th>3</th>\n",
       "      <td>90618</td>\n",
       "      <td>M</td>\n",
       "      <td>0.570</td>\n",
       "      <td>0.490</td>\n",
       "      <td>0.145</td>\n",
       "      <td>0.8740</td>\n",
       "      <td>0.3525</td>\n",
       "      <td>0.1865</td>\n",
       "      <td>0.2350</td>\n",
       "    </tr>\n",
       "    <tr>\n",
       "      <th>4</th>\n",
       "      <td>90619</td>\n",
       "      <td>I</td>\n",
       "      <td>0.415</td>\n",
       "      <td>0.325</td>\n",
       "      <td>0.110</td>\n",
       "      <td>0.3580</td>\n",
       "      <td>0.1575</td>\n",
       "      <td>0.0670</td>\n",
       "      <td>0.1050</td>\n",
       "    </tr>\n",
       "  </tbody>\n",
       "</table>\n",
       "</div>"
      ],
      "text/plain": [
       "      id Sex  Length  Diameter  Height  Whole weight  Shucked weight  \\\n",
       "0  90615   M   0.645     0.475   0.155        1.2380          0.6185   \n",
       "1  90616   M   0.580     0.460   0.160        0.9830          0.4785   \n",
       "2  90617   M   0.560     0.420   0.140        0.8395          0.3525   \n",
       "3  90618   M   0.570     0.490   0.145        0.8740          0.3525   \n",
       "4  90619   I   0.415     0.325   0.110        0.3580          0.1575   \n",
       "\n",
       "   Viscera weight  Shell weight  \n",
       "0          0.3125        0.3005  \n",
       "1          0.2195        0.2750  \n",
       "2          0.1845        0.2405  \n",
       "3          0.1865        0.2350  \n",
       "4          0.0670        0.1050  "
      ]
     },
     "execution_count": 5,
     "metadata": {},
     "output_type": "execute_result"
    }
   ],
   "source": [
    "dataTest.head()"
   ]
  },
  {
   "cell_type": "code",
   "execution_count": 6,
   "id": "839e2c34",
   "metadata": {
    "execution": {
     "iopub.execute_input": "2024-04-28T07:32:30.734600Z",
     "iopub.status.busy": "2024-04-28T07:32:30.734177Z",
     "iopub.status.idle": "2024-04-28T07:32:30.752467Z",
     "shell.execute_reply": "2024-04-28T07:32:30.751328Z"
    },
    "papermill": {
     "duration": 0.039418,
     "end_time": "2024-04-28T07:32:30.755048",
     "exception": false,
     "start_time": "2024-04-28T07:32:30.715630",
     "status": "completed"
    },
    "tags": []
   },
   "outputs": [
    {
     "data": {
      "text/html": [
       "<div>\n",
       "<style scoped>\n",
       "    .dataframe tbody tr th:only-of-type {\n",
       "        vertical-align: middle;\n",
       "    }\n",
       "\n",
       "    .dataframe tbody tr th {\n",
       "        vertical-align: top;\n",
       "    }\n",
       "\n",
       "    .dataframe thead th {\n",
       "        text-align: right;\n",
       "    }\n",
       "</style>\n",
       "<table border=\"1\" class=\"dataframe\">\n",
       "  <thead>\n",
       "    <tr style=\"text-align: right;\">\n",
       "      <th></th>\n",
       "      <th>id</th>\n",
       "      <th>Sex</th>\n",
       "      <th>Length</th>\n",
       "      <th>Diameter</th>\n",
       "      <th>Height</th>\n",
       "      <th>Whole weight</th>\n",
       "      <th>Shucked weight</th>\n",
       "      <th>Viscera weight</th>\n",
       "      <th>Shell weight</th>\n",
       "      <th>Rings</th>\n",
       "    </tr>\n",
       "  </thead>\n",
       "  <tbody>\n",
       "    <tr>\n",
       "      <th>0</th>\n",
       "      <td>0</td>\n",
       "      <td>F</td>\n",
       "      <td>0.550</td>\n",
       "      <td>0.430</td>\n",
       "      <td>0.150</td>\n",
       "      <td>0.7715</td>\n",
       "      <td>0.3285</td>\n",
       "      <td>0.1465</td>\n",
       "      <td>0.2400</td>\n",
       "      <td>11</td>\n",
       "    </tr>\n",
       "    <tr>\n",
       "      <th>1</th>\n",
       "      <td>1</td>\n",
       "      <td>F</td>\n",
       "      <td>0.630</td>\n",
       "      <td>0.490</td>\n",
       "      <td>0.145</td>\n",
       "      <td>1.1300</td>\n",
       "      <td>0.4580</td>\n",
       "      <td>0.2765</td>\n",
       "      <td>0.3200</td>\n",
       "      <td>11</td>\n",
       "    </tr>\n",
       "    <tr>\n",
       "      <th>2</th>\n",
       "      <td>2</td>\n",
       "      <td>I</td>\n",
       "      <td>0.160</td>\n",
       "      <td>0.110</td>\n",
       "      <td>0.025</td>\n",
       "      <td>0.0210</td>\n",
       "      <td>0.0055</td>\n",
       "      <td>0.0030</td>\n",
       "      <td>0.0050</td>\n",
       "      <td>6</td>\n",
       "    </tr>\n",
       "    <tr>\n",
       "      <th>3</th>\n",
       "      <td>3</td>\n",
       "      <td>M</td>\n",
       "      <td>0.595</td>\n",
       "      <td>0.475</td>\n",
       "      <td>0.150</td>\n",
       "      <td>0.9145</td>\n",
       "      <td>0.3755</td>\n",
       "      <td>0.2055</td>\n",
       "      <td>0.2500</td>\n",
       "      <td>10</td>\n",
       "    </tr>\n",
       "    <tr>\n",
       "      <th>4</th>\n",
       "      <td>4</td>\n",
       "      <td>I</td>\n",
       "      <td>0.555</td>\n",
       "      <td>0.425</td>\n",
       "      <td>0.130</td>\n",
       "      <td>0.7820</td>\n",
       "      <td>0.3695</td>\n",
       "      <td>0.1600</td>\n",
       "      <td>0.1975</td>\n",
       "      <td>9</td>\n",
       "    </tr>\n",
       "  </tbody>\n",
       "</table>\n",
       "</div>"
      ],
      "text/plain": [
       "   id Sex  Length  Diameter  Height  Whole weight  Shucked weight  \\\n",
       "0   0   F   0.550     0.430   0.150        0.7715          0.3285   \n",
       "1   1   F   0.630     0.490   0.145        1.1300          0.4580   \n",
       "2   2   I   0.160     0.110   0.025        0.0210          0.0055   \n",
       "3   3   M   0.595     0.475   0.150        0.9145          0.3755   \n",
       "4   4   I   0.555     0.425   0.130        0.7820          0.3695   \n",
       "\n",
       "   Viscera weight  Shell weight  Rings  \n",
       "0          0.1465        0.2400     11  \n",
       "1          0.2765        0.3200     11  \n",
       "2          0.0030        0.0050      6  \n",
       "3          0.2055        0.2500     10  \n",
       "4          0.1600        0.1975      9  "
      ]
     },
     "execution_count": 6,
     "metadata": {},
     "output_type": "execute_result"
    }
   ],
   "source": [
    "dataTrain.head()"
   ]
  },
  {
   "cell_type": "code",
   "execution_count": 7,
   "id": "dda68408",
   "metadata": {
    "execution": {
     "iopub.execute_input": "2024-04-28T07:32:30.790529Z",
     "iopub.status.busy": "2024-04-28T07:32:30.790117Z",
     "iopub.status.idle": "2024-04-28T07:32:30.870276Z",
     "shell.execute_reply": "2024-04-28T07:32:30.868872Z"
    },
    "papermill": {
     "duration": 0.10162,
     "end_time": "2024-04-28T07:32:30.873469",
     "exception": false,
     "start_time": "2024-04-28T07:32:30.771849",
     "status": "completed"
    },
    "tags": []
   },
   "outputs": [
    {
     "data": {
      "text/html": [
       "<div>\n",
       "<style scoped>\n",
       "    .dataframe tbody tr th:only-of-type {\n",
       "        vertical-align: middle;\n",
       "    }\n",
       "\n",
       "    .dataframe tbody tr th {\n",
       "        vertical-align: top;\n",
       "    }\n",
       "\n",
       "    .dataframe thead th {\n",
       "        text-align: right;\n",
       "    }\n",
       "</style>\n",
       "<table border=\"1\" class=\"dataframe\">\n",
       "  <thead>\n",
       "    <tr style=\"text-align: right;\">\n",
       "      <th></th>\n",
       "      <th>id</th>\n",
       "      <th>Length</th>\n",
       "      <th>Diameter</th>\n",
       "      <th>Height</th>\n",
       "      <th>Whole weight</th>\n",
       "      <th>Shucked weight</th>\n",
       "      <th>Viscera weight</th>\n",
       "      <th>Shell weight</th>\n",
       "      <th>Rings</th>\n",
       "    </tr>\n",
       "  </thead>\n",
       "  <tbody>\n",
       "    <tr>\n",
       "      <th>count</th>\n",
       "      <td>90615.000000</td>\n",
       "      <td>90615.000000</td>\n",
       "      <td>90615.000000</td>\n",
       "      <td>90615.000000</td>\n",
       "      <td>90615.000000</td>\n",
       "      <td>90615.000000</td>\n",
       "      <td>90615.000000</td>\n",
       "      <td>90615.000000</td>\n",
       "      <td>90615.000000</td>\n",
       "    </tr>\n",
       "    <tr>\n",
       "      <th>mean</th>\n",
       "      <td>45307.000000</td>\n",
       "      <td>0.517098</td>\n",
       "      <td>0.401679</td>\n",
       "      <td>0.135464</td>\n",
       "      <td>0.789035</td>\n",
       "      <td>0.340778</td>\n",
       "      <td>0.169422</td>\n",
       "      <td>0.225898</td>\n",
       "      <td>9.696794</td>\n",
       "    </tr>\n",
       "    <tr>\n",
       "      <th>std</th>\n",
       "      <td>26158.441658</td>\n",
       "      <td>0.118217</td>\n",
       "      <td>0.098026</td>\n",
       "      <td>0.038008</td>\n",
       "      <td>0.457671</td>\n",
       "      <td>0.204428</td>\n",
       "      <td>0.100909</td>\n",
       "      <td>0.130203</td>\n",
       "      <td>3.176221</td>\n",
       "    </tr>\n",
       "    <tr>\n",
       "      <th>min</th>\n",
       "      <td>0.000000</td>\n",
       "      <td>0.075000</td>\n",
       "      <td>0.055000</td>\n",
       "      <td>0.000000</td>\n",
       "      <td>0.002000</td>\n",
       "      <td>0.001000</td>\n",
       "      <td>0.000500</td>\n",
       "      <td>0.001500</td>\n",
       "      <td>1.000000</td>\n",
       "    </tr>\n",
       "    <tr>\n",
       "      <th>25%</th>\n",
       "      <td>22653.500000</td>\n",
       "      <td>0.445000</td>\n",
       "      <td>0.345000</td>\n",
       "      <td>0.110000</td>\n",
       "      <td>0.419000</td>\n",
       "      <td>0.177500</td>\n",
       "      <td>0.086500</td>\n",
       "      <td>0.120000</td>\n",
       "      <td>8.000000</td>\n",
       "    </tr>\n",
       "    <tr>\n",
       "      <th>50%</th>\n",
       "      <td>45307.000000</td>\n",
       "      <td>0.545000</td>\n",
       "      <td>0.425000</td>\n",
       "      <td>0.140000</td>\n",
       "      <td>0.799500</td>\n",
       "      <td>0.330000</td>\n",
       "      <td>0.166000</td>\n",
       "      <td>0.225000</td>\n",
       "      <td>9.000000</td>\n",
       "    </tr>\n",
       "    <tr>\n",
       "      <th>75%</th>\n",
       "      <td>67960.500000</td>\n",
       "      <td>0.600000</td>\n",
       "      <td>0.470000</td>\n",
       "      <td>0.160000</td>\n",
       "      <td>1.067500</td>\n",
       "      <td>0.463000</td>\n",
       "      <td>0.232500</td>\n",
       "      <td>0.305000</td>\n",
       "      <td>11.000000</td>\n",
       "    </tr>\n",
       "    <tr>\n",
       "      <th>max</th>\n",
       "      <td>90614.000000</td>\n",
       "      <td>0.815000</td>\n",
       "      <td>0.650000</td>\n",
       "      <td>1.130000</td>\n",
       "      <td>2.825500</td>\n",
       "      <td>1.488000</td>\n",
       "      <td>0.760000</td>\n",
       "      <td>1.005000</td>\n",
       "      <td>29.000000</td>\n",
       "    </tr>\n",
       "  </tbody>\n",
       "</table>\n",
       "</div>"
      ],
      "text/plain": [
       "                 id        Length      Diameter        Height  Whole weight  \\\n",
       "count  90615.000000  90615.000000  90615.000000  90615.000000  90615.000000   \n",
       "mean   45307.000000      0.517098      0.401679      0.135464      0.789035   \n",
       "std    26158.441658      0.118217      0.098026      0.038008      0.457671   \n",
       "min        0.000000      0.075000      0.055000      0.000000      0.002000   \n",
       "25%    22653.500000      0.445000      0.345000      0.110000      0.419000   \n",
       "50%    45307.000000      0.545000      0.425000      0.140000      0.799500   \n",
       "75%    67960.500000      0.600000      0.470000      0.160000      1.067500   \n",
       "max    90614.000000      0.815000      0.650000      1.130000      2.825500   \n",
       "\n",
       "       Shucked weight  Viscera weight  Shell weight         Rings  \n",
       "count    90615.000000    90615.000000  90615.000000  90615.000000  \n",
       "mean         0.340778        0.169422      0.225898      9.696794  \n",
       "std          0.204428        0.100909      0.130203      3.176221  \n",
       "min          0.001000        0.000500      0.001500      1.000000  \n",
       "25%          0.177500        0.086500      0.120000      8.000000  \n",
       "50%          0.330000        0.166000      0.225000      9.000000  \n",
       "75%          0.463000        0.232500      0.305000     11.000000  \n",
       "max          1.488000        0.760000      1.005000     29.000000  "
      ]
     },
     "execution_count": 7,
     "metadata": {},
     "output_type": "execute_result"
    }
   ],
   "source": [
    "dataTrain.describe()"
   ]
  },
  {
   "cell_type": "code",
   "execution_count": 8,
   "id": "aa38c563",
   "metadata": {
    "execution": {
     "iopub.execute_input": "2024-04-28T07:32:30.910540Z",
     "iopub.status.busy": "2024-04-28T07:32:30.910130Z",
     "iopub.status.idle": "2024-04-28T07:32:30.931503Z",
     "shell.execute_reply": "2024-04-28T07:32:30.930284Z"
    },
    "papermill": {
     "duration": 0.043558,
     "end_time": "2024-04-28T07:32:30.934286",
     "exception": false,
     "start_time": "2024-04-28T07:32:30.890728",
     "status": "completed"
    },
    "tags": []
   },
   "outputs": [
    {
     "data": {
      "text/plain": [
       "id                0\n",
       "Sex               0\n",
       "Length            0\n",
       "Diameter          0\n",
       "Height            0\n",
       "Whole weight      0\n",
       "Shucked weight    0\n",
       "Viscera weight    0\n",
       "Shell weight      0\n",
       "Rings             0\n",
       "dtype: int64"
      ]
     },
     "execution_count": 8,
     "metadata": {},
     "output_type": "execute_result"
    }
   ],
   "source": [
    "dataTrain.isnull().sum()"
   ]
  },
  {
   "cell_type": "code",
   "execution_count": 9,
   "id": "3f2957fc",
   "metadata": {
    "execution": {
     "iopub.execute_input": "2024-04-28T07:32:30.971850Z",
     "iopub.status.busy": "2024-04-28T07:32:30.971476Z",
     "iopub.status.idle": "2024-04-28T07:32:31.016129Z",
     "shell.execute_reply": "2024-04-28T07:32:31.014847Z"
    },
    "papermill": {
     "duration": 0.067696,
     "end_time": "2024-04-28T07:32:31.018792",
     "exception": false,
     "start_time": "2024-04-28T07:32:30.951096",
     "status": "completed"
    },
    "tags": []
   },
   "outputs": [
    {
     "data": {
      "text/plain": [
       "0"
      ]
     },
     "execution_count": 9,
     "metadata": {},
     "output_type": "execute_result"
    }
   ],
   "source": [
    "dataTrain.duplicated().sum()"
   ]
  },
  {
   "cell_type": "code",
   "execution_count": 10,
   "id": "4c7f8af7",
   "metadata": {
    "execution": {
     "iopub.execute_input": "2024-04-28T07:32:31.054257Z",
     "iopub.status.busy": "2024-04-28T07:32:31.053621Z",
     "iopub.status.idle": "2024-04-28T07:32:31.060124Z",
     "shell.execute_reply": "2024-04-28T07:32:31.058536Z"
    },
    "papermill": {
     "duration": 0.027529,
     "end_time": "2024-04-28T07:32:31.062956",
     "exception": false,
     "start_time": "2024-04-28T07:32:31.035427",
     "status": "completed"
    },
    "tags": []
   },
   "outputs": [],
   "source": [
    "categoricalData = dataTrain.select_dtypes(\"object\")"
   ]
  },
  {
   "cell_type": "code",
   "execution_count": 11,
   "id": "33075673",
   "metadata": {
    "execution": {
     "iopub.execute_input": "2024-04-28T07:32:31.099425Z",
     "iopub.status.busy": "2024-04-28T07:32:31.098938Z",
     "iopub.status.idle": "2024-04-28T07:32:31.115695Z",
     "shell.execute_reply": "2024-04-28T07:32:31.114216Z"
    },
    "papermill": {
     "duration": 0.03813,
     "end_time": "2024-04-28T07:32:31.118541",
     "exception": false,
     "start_time": "2024-04-28T07:32:31.080411",
     "status": "completed"
    },
    "tags": []
   },
   "outputs": [
    {
     "data": {
      "text/plain": [
       "Sex    3\n",
       "dtype: int64"
      ]
     },
     "execution_count": 11,
     "metadata": {},
     "output_type": "execute_result"
    }
   ],
   "source": [
    "categoricalData.nunique()"
   ]
  },
  {
   "cell_type": "code",
   "execution_count": 12,
   "id": "bf52200a",
   "metadata": {
    "execution": {
     "iopub.execute_input": "2024-04-28T07:32:31.156657Z",
     "iopub.status.busy": "2024-04-28T07:32:31.156167Z",
     "iopub.status.idle": "2024-04-28T07:32:31.188670Z",
     "shell.execute_reply": "2024-04-28T07:32:31.187260Z"
    },
    "papermill": {
     "duration": 0.054831,
     "end_time": "2024-04-28T07:32:31.192034",
     "exception": false,
     "start_time": "2024-04-28T07:32:31.137203",
     "status": "completed"
    },
    "tags": []
   },
   "outputs": [],
   "source": [
    "dataTrain_encoded = pd.get_dummies(dataTrain, columns=['Sex'], drop_first=True)\n"
   ]
  },
  {
   "cell_type": "code",
   "execution_count": 13,
   "id": "ee66b2ab",
   "metadata": {
    "execution": {
     "iopub.execute_input": "2024-04-28T07:32:31.229933Z",
     "iopub.status.busy": "2024-04-28T07:32:31.229545Z",
     "iopub.status.idle": "2024-04-28T07:32:31.248318Z",
     "shell.execute_reply": "2024-04-28T07:32:31.246999Z"
    },
    "papermill": {
     "duration": 0.040974,
     "end_time": "2024-04-28T07:32:31.251139",
     "exception": false,
     "start_time": "2024-04-28T07:32:31.210165",
     "status": "completed"
    },
    "tags": []
   },
   "outputs": [
    {
     "data": {
      "text/html": [
       "<div>\n",
       "<style scoped>\n",
       "    .dataframe tbody tr th:only-of-type {\n",
       "        vertical-align: middle;\n",
       "    }\n",
       "\n",
       "    .dataframe tbody tr th {\n",
       "        vertical-align: top;\n",
       "    }\n",
       "\n",
       "    .dataframe thead th {\n",
       "        text-align: right;\n",
       "    }\n",
       "</style>\n",
       "<table border=\"1\" class=\"dataframe\">\n",
       "  <thead>\n",
       "    <tr style=\"text-align: right;\">\n",
       "      <th></th>\n",
       "      <th>id</th>\n",
       "      <th>Sex</th>\n",
       "      <th>Length</th>\n",
       "      <th>Diameter</th>\n",
       "      <th>Height</th>\n",
       "      <th>Whole weight</th>\n",
       "      <th>Shucked weight</th>\n",
       "      <th>Viscera weight</th>\n",
       "      <th>Shell weight</th>\n",
       "    </tr>\n",
       "  </thead>\n",
       "  <tbody>\n",
       "    <tr>\n",
       "      <th>0</th>\n",
       "      <td>90615</td>\n",
       "      <td>M</td>\n",
       "      <td>0.645</td>\n",
       "      <td>0.475</td>\n",
       "      <td>0.155</td>\n",
       "      <td>1.2380</td>\n",
       "      <td>0.6185</td>\n",
       "      <td>0.3125</td>\n",
       "      <td>0.3005</td>\n",
       "    </tr>\n",
       "    <tr>\n",
       "      <th>1</th>\n",
       "      <td>90616</td>\n",
       "      <td>M</td>\n",
       "      <td>0.580</td>\n",
       "      <td>0.460</td>\n",
       "      <td>0.160</td>\n",
       "      <td>0.9830</td>\n",
       "      <td>0.4785</td>\n",
       "      <td>0.2195</td>\n",
       "      <td>0.2750</td>\n",
       "    </tr>\n",
       "    <tr>\n",
       "      <th>2</th>\n",
       "      <td>90617</td>\n",
       "      <td>M</td>\n",
       "      <td>0.560</td>\n",
       "      <td>0.420</td>\n",
       "      <td>0.140</td>\n",
       "      <td>0.8395</td>\n",
       "      <td>0.3525</td>\n",
       "      <td>0.1845</td>\n",
       "      <td>0.2405</td>\n",
       "    </tr>\n",
       "    <tr>\n",
       "      <th>3</th>\n",
       "      <td>90618</td>\n",
       "      <td>M</td>\n",
       "      <td>0.570</td>\n",
       "      <td>0.490</td>\n",
       "      <td>0.145</td>\n",
       "      <td>0.8740</td>\n",
       "      <td>0.3525</td>\n",
       "      <td>0.1865</td>\n",
       "      <td>0.2350</td>\n",
       "    </tr>\n",
       "    <tr>\n",
       "      <th>4</th>\n",
       "      <td>90619</td>\n",
       "      <td>I</td>\n",
       "      <td>0.415</td>\n",
       "      <td>0.325</td>\n",
       "      <td>0.110</td>\n",
       "      <td>0.3580</td>\n",
       "      <td>0.1575</td>\n",
       "      <td>0.0670</td>\n",
       "      <td>0.1050</td>\n",
       "    </tr>\n",
       "  </tbody>\n",
       "</table>\n",
       "</div>"
      ],
      "text/plain": [
       "      id Sex  Length  Diameter  Height  Whole weight  Shucked weight  \\\n",
       "0  90615   M   0.645     0.475   0.155        1.2380          0.6185   \n",
       "1  90616   M   0.580     0.460   0.160        0.9830          0.4785   \n",
       "2  90617   M   0.560     0.420   0.140        0.8395          0.3525   \n",
       "3  90618   M   0.570     0.490   0.145        0.8740          0.3525   \n",
       "4  90619   I   0.415     0.325   0.110        0.3580          0.1575   \n",
       "\n",
       "   Viscera weight  Shell weight  \n",
       "0          0.3125        0.3005  \n",
       "1          0.2195        0.2750  \n",
       "2          0.1845        0.2405  \n",
       "3          0.1865        0.2350  \n",
       "4          0.0670        0.1050  "
      ]
     },
     "execution_count": 13,
     "metadata": {},
     "output_type": "execute_result"
    }
   ],
   "source": [
    "dataTest.head()"
   ]
  },
  {
   "cell_type": "code",
   "execution_count": 14,
   "id": "cf482e01",
   "metadata": {
    "execution": {
     "iopub.execute_input": "2024-04-28T07:32:31.289414Z",
     "iopub.status.busy": "2024-04-28T07:32:31.289055Z",
     "iopub.status.idle": "2024-04-28T07:32:31.310994Z",
     "shell.execute_reply": "2024-04-28T07:32:31.309946Z"
    },
    "papermill": {
     "duration": 0.045027,
     "end_time": "2024-04-28T07:32:31.314179",
     "exception": false,
     "start_time": "2024-04-28T07:32:31.269152",
     "status": "completed"
    },
    "tags": []
   },
   "outputs": [],
   "source": [
    "og = pd.read_csv(\"/kaggle/input/abalone-dataset/abalone.csv\")"
   ]
  },
  {
   "cell_type": "code",
   "execution_count": 15,
   "id": "8abf1fe4",
   "metadata": {
    "execution": {
     "iopub.execute_input": "2024-04-28T07:32:31.352269Z",
     "iopub.status.busy": "2024-04-28T07:32:31.351895Z",
     "iopub.status.idle": "2024-04-28T07:32:31.375480Z",
     "shell.execute_reply": "2024-04-28T07:32:31.374073Z"
    },
    "papermill": {
     "duration": 0.046574,
     "end_time": "2024-04-28T07:32:31.378927",
     "exception": false,
     "start_time": "2024-04-28T07:32:31.332353",
     "status": "completed"
    },
    "tags": []
   },
   "outputs": [],
   "source": [
    "dataTest_encoded = pd.get_dummies(dataTest, columns=['Sex'], drop_first=True)\n",
    "og = pd.get_dummies(og, columns=['Sex'], drop_first=True)"
   ]
  },
  {
   "cell_type": "code",
   "execution_count": 16,
   "id": "b28fa2c8",
   "metadata": {
    "execution": {
     "iopub.execute_input": "2024-04-28T07:32:31.417614Z",
     "iopub.status.busy": "2024-04-28T07:32:31.417235Z",
     "iopub.status.idle": "2024-04-28T07:32:31.435958Z",
     "shell.execute_reply": "2024-04-28T07:32:31.434963Z"
    },
    "papermill": {
     "duration": 0.041953,
     "end_time": "2024-04-28T07:32:31.438748",
     "exception": false,
     "start_time": "2024-04-28T07:32:31.396795",
     "status": "completed"
    },
    "tags": []
   },
   "outputs": [
    {
     "data": {
      "text/html": [
       "<div>\n",
       "<style scoped>\n",
       "    .dataframe tbody tr th:only-of-type {\n",
       "        vertical-align: middle;\n",
       "    }\n",
       "\n",
       "    .dataframe tbody tr th {\n",
       "        vertical-align: top;\n",
       "    }\n",
       "\n",
       "    .dataframe thead th {\n",
       "        text-align: right;\n",
       "    }\n",
       "</style>\n",
       "<table border=\"1\" class=\"dataframe\">\n",
       "  <thead>\n",
       "    <tr style=\"text-align: right;\">\n",
       "      <th></th>\n",
       "      <th>id</th>\n",
       "      <th>Length</th>\n",
       "      <th>Diameter</th>\n",
       "      <th>Height</th>\n",
       "      <th>Whole weight</th>\n",
       "      <th>Shucked weight</th>\n",
       "      <th>Viscera weight</th>\n",
       "      <th>Shell weight</th>\n",
       "      <th>Rings</th>\n",
       "      <th>Sex_I</th>\n",
       "      <th>Sex_M</th>\n",
       "    </tr>\n",
       "  </thead>\n",
       "  <tbody>\n",
       "    <tr>\n",
       "      <th>0</th>\n",
       "      <td>0</td>\n",
       "      <td>0.550</td>\n",
       "      <td>0.430</td>\n",
       "      <td>0.150</td>\n",
       "      <td>0.7715</td>\n",
       "      <td>0.3285</td>\n",
       "      <td>0.1465</td>\n",
       "      <td>0.2400</td>\n",
       "      <td>11</td>\n",
       "      <td>False</td>\n",
       "      <td>False</td>\n",
       "    </tr>\n",
       "    <tr>\n",
       "      <th>1</th>\n",
       "      <td>1</td>\n",
       "      <td>0.630</td>\n",
       "      <td>0.490</td>\n",
       "      <td>0.145</td>\n",
       "      <td>1.1300</td>\n",
       "      <td>0.4580</td>\n",
       "      <td>0.2765</td>\n",
       "      <td>0.3200</td>\n",
       "      <td>11</td>\n",
       "      <td>False</td>\n",
       "      <td>False</td>\n",
       "    </tr>\n",
       "    <tr>\n",
       "      <th>2</th>\n",
       "      <td>2</td>\n",
       "      <td>0.160</td>\n",
       "      <td>0.110</td>\n",
       "      <td>0.025</td>\n",
       "      <td>0.0210</td>\n",
       "      <td>0.0055</td>\n",
       "      <td>0.0030</td>\n",
       "      <td>0.0050</td>\n",
       "      <td>6</td>\n",
       "      <td>True</td>\n",
       "      <td>False</td>\n",
       "    </tr>\n",
       "    <tr>\n",
       "      <th>3</th>\n",
       "      <td>3</td>\n",
       "      <td>0.595</td>\n",
       "      <td>0.475</td>\n",
       "      <td>0.150</td>\n",
       "      <td>0.9145</td>\n",
       "      <td>0.3755</td>\n",
       "      <td>0.2055</td>\n",
       "      <td>0.2500</td>\n",
       "      <td>10</td>\n",
       "      <td>False</td>\n",
       "      <td>True</td>\n",
       "    </tr>\n",
       "    <tr>\n",
       "      <th>4</th>\n",
       "      <td>4</td>\n",
       "      <td>0.555</td>\n",
       "      <td>0.425</td>\n",
       "      <td>0.130</td>\n",
       "      <td>0.7820</td>\n",
       "      <td>0.3695</td>\n",
       "      <td>0.1600</td>\n",
       "      <td>0.1975</td>\n",
       "      <td>9</td>\n",
       "      <td>True</td>\n",
       "      <td>False</td>\n",
       "    </tr>\n",
       "  </tbody>\n",
       "</table>\n",
       "</div>"
      ],
      "text/plain": [
       "   id  Length  Diameter  Height  Whole weight  Shucked weight  Viscera weight  \\\n",
       "0   0   0.550     0.430   0.150        0.7715          0.3285          0.1465   \n",
       "1   1   0.630     0.490   0.145        1.1300          0.4580          0.2765   \n",
       "2   2   0.160     0.110   0.025        0.0210          0.0055          0.0030   \n",
       "3   3   0.595     0.475   0.150        0.9145          0.3755          0.2055   \n",
       "4   4   0.555     0.425   0.130        0.7820          0.3695          0.1600   \n",
       "\n",
       "   Shell weight  Rings  Sex_I  Sex_M  \n",
       "0        0.2400     11  False  False  \n",
       "1        0.3200     11  False  False  \n",
       "2        0.0050      6   True  False  \n",
       "3        0.2500     10  False   True  \n",
       "4        0.1975      9   True  False  "
      ]
     },
     "execution_count": 16,
     "metadata": {},
     "output_type": "execute_result"
    }
   ],
   "source": [
    "dataTrain_encoded.head()"
   ]
  },
  {
   "cell_type": "code",
   "execution_count": 17,
   "id": "a39b5ceb",
   "metadata": {
    "execution": {
     "iopub.execute_input": "2024-04-28T07:32:31.477725Z",
     "iopub.status.busy": "2024-04-28T07:32:31.477361Z",
     "iopub.status.idle": "2024-04-28T07:32:31.484252Z",
     "shell.execute_reply": "2024-04-28T07:32:31.482938Z"
    },
    "papermill": {
     "duration": 0.029731,
     "end_time": "2024-04-28T07:32:31.487315",
     "exception": false,
     "start_time": "2024-04-28T07:32:31.457584",
     "status": "completed"
    },
    "tags": []
   },
   "outputs": [],
   "source": [
    "dataTest_encoded.drop(columns = 'id', inplace = True)"
   ]
  },
  {
   "cell_type": "code",
   "execution_count": 18,
   "id": "310cc2fa",
   "metadata": {
    "execution": {
     "iopub.execute_input": "2024-04-28T07:32:31.526511Z",
     "iopub.status.busy": "2024-04-28T07:32:31.526122Z",
     "iopub.status.idle": "2024-04-28T07:32:31.543624Z",
     "shell.execute_reply": "2024-04-28T07:32:31.542452Z"
    },
    "papermill": {
     "duration": 0.041269,
     "end_time": "2024-04-28T07:32:31.546730",
     "exception": false,
     "start_time": "2024-04-28T07:32:31.505461",
     "status": "completed"
    },
    "tags": []
   },
   "outputs": [
    {
     "data": {
      "text/html": [
       "<div>\n",
       "<style scoped>\n",
       "    .dataframe tbody tr th:only-of-type {\n",
       "        vertical-align: middle;\n",
       "    }\n",
       "\n",
       "    .dataframe tbody tr th {\n",
       "        vertical-align: top;\n",
       "    }\n",
       "\n",
       "    .dataframe thead th {\n",
       "        text-align: right;\n",
       "    }\n",
       "</style>\n",
       "<table border=\"1\" class=\"dataframe\">\n",
       "  <thead>\n",
       "    <tr style=\"text-align: right;\">\n",
       "      <th></th>\n",
       "      <th>Length</th>\n",
       "      <th>Diameter</th>\n",
       "      <th>Height</th>\n",
       "      <th>Whole weight</th>\n",
       "      <th>Shucked weight</th>\n",
       "      <th>Viscera weight</th>\n",
       "      <th>Shell weight</th>\n",
       "      <th>Sex_I</th>\n",
       "      <th>Sex_M</th>\n",
       "    </tr>\n",
       "  </thead>\n",
       "  <tbody>\n",
       "    <tr>\n",
       "      <th>0</th>\n",
       "      <td>0.645</td>\n",
       "      <td>0.475</td>\n",
       "      <td>0.155</td>\n",
       "      <td>1.2380</td>\n",
       "      <td>0.6185</td>\n",
       "      <td>0.3125</td>\n",
       "      <td>0.3005</td>\n",
       "      <td>False</td>\n",
       "      <td>True</td>\n",
       "    </tr>\n",
       "    <tr>\n",
       "      <th>1</th>\n",
       "      <td>0.580</td>\n",
       "      <td>0.460</td>\n",
       "      <td>0.160</td>\n",
       "      <td>0.9830</td>\n",
       "      <td>0.4785</td>\n",
       "      <td>0.2195</td>\n",
       "      <td>0.2750</td>\n",
       "      <td>False</td>\n",
       "      <td>True</td>\n",
       "    </tr>\n",
       "    <tr>\n",
       "      <th>2</th>\n",
       "      <td>0.560</td>\n",
       "      <td>0.420</td>\n",
       "      <td>0.140</td>\n",
       "      <td>0.8395</td>\n",
       "      <td>0.3525</td>\n",
       "      <td>0.1845</td>\n",
       "      <td>0.2405</td>\n",
       "      <td>False</td>\n",
       "      <td>True</td>\n",
       "    </tr>\n",
       "    <tr>\n",
       "      <th>3</th>\n",
       "      <td>0.570</td>\n",
       "      <td>0.490</td>\n",
       "      <td>0.145</td>\n",
       "      <td>0.8740</td>\n",
       "      <td>0.3525</td>\n",
       "      <td>0.1865</td>\n",
       "      <td>0.2350</td>\n",
       "      <td>False</td>\n",
       "      <td>True</td>\n",
       "    </tr>\n",
       "    <tr>\n",
       "      <th>4</th>\n",
       "      <td>0.415</td>\n",
       "      <td>0.325</td>\n",
       "      <td>0.110</td>\n",
       "      <td>0.3580</td>\n",
       "      <td>0.1575</td>\n",
       "      <td>0.0670</td>\n",
       "      <td>0.1050</td>\n",
       "      <td>True</td>\n",
       "      <td>False</td>\n",
       "    </tr>\n",
       "  </tbody>\n",
       "</table>\n",
       "</div>"
      ],
      "text/plain": [
       "   Length  Diameter  Height  Whole weight  Shucked weight  Viscera weight  \\\n",
       "0   0.645     0.475   0.155        1.2380          0.6185          0.3125   \n",
       "1   0.580     0.460   0.160        0.9830          0.4785          0.2195   \n",
       "2   0.560     0.420   0.140        0.8395          0.3525          0.1845   \n",
       "3   0.570     0.490   0.145        0.8740          0.3525          0.1865   \n",
       "4   0.415     0.325   0.110        0.3580          0.1575          0.0670   \n",
       "\n",
       "   Shell weight  Sex_I  Sex_M  \n",
       "0        0.3005  False   True  \n",
       "1        0.2750  False   True  \n",
       "2        0.2405  False   True  \n",
       "3        0.2350  False   True  \n",
       "4        0.1050   True  False  "
      ]
     },
     "execution_count": 18,
     "metadata": {},
     "output_type": "execute_result"
    }
   ],
   "source": [
    "dataTest_encoded.head()"
   ]
  },
  {
   "cell_type": "code",
   "execution_count": 19,
   "id": "b512e713",
   "metadata": {
    "execution": {
     "iopub.execute_input": "2024-04-28T07:32:31.585932Z",
     "iopub.status.busy": "2024-04-28T07:32:31.585322Z",
     "iopub.status.idle": "2024-04-28T07:32:31.604254Z",
     "shell.execute_reply": "2024-04-28T07:32:31.602692Z"
    },
    "papermill": {
     "duration": 0.04203,
     "end_time": "2024-04-28T07:32:31.606930",
     "exception": false,
     "start_time": "2024-04-28T07:32:31.564900",
     "status": "completed"
    },
    "tags": []
   },
   "outputs": [
    {
     "data": {
      "text/html": [
       "<div>\n",
       "<style scoped>\n",
       "    .dataframe tbody tr th:only-of-type {\n",
       "        vertical-align: middle;\n",
       "    }\n",
       "\n",
       "    .dataframe tbody tr th {\n",
       "        vertical-align: top;\n",
       "    }\n",
       "\n",
       "    .dataframe thead th {\n",
       "        text-align: right;\n",
       "    }\n",
       "</style>\n",
       "<table border=\"1\" class=\"dataframe\">\n",
       "  <thead>\n",
       "    <tr style=\"text-align: right;\">\n",
       "      <th></th>\n",
       "      <th>Length</th>\n",
       "      <th>Diameter</th>\n",
       "      <th>Height</th>\n",
       "      <th>Whole weight</th>\n",
       "      <th>Shucked weight</th>\n",
       "      <th>Viscera weight</th>\n",
       "      <th>Shell weight</th>\n",
       "      <th>Rings</th>\n",
       "      <th>Sex_I</th>\n",
       "      <th>Sex_M</th>\n",
       "    </tr>\n",
       "  </thead>\n",
       "  <tbody>\n",
       "    <tr>\n",
       "      <th>0</th>\n",
       "      <td>0.455</td>\n",
       "      <td>0.365</td>\n",
       "      <td>0.095</td>\n",
       "      <td>0.5140</td>\n",
       "      <td>0.2245</td>\n",
       "      <td>0.1010</td>\n",
       "      <td>0.150</td>\n",
       "      <td>15</td>\n",
       "      <td>False</td>\n",
       "      <td>True</td>\n",
       "    </tr>\n",
       "    <tr>\n",
       "      <th>1</th>\n",
       "      <td>0.350</td>\n",
       "      <td>0.265</td>\n",
       "      <td>0.090</td>\n",
       "      <td>0.2255</td>\n",
       "      <td>0.0995</td>\n",
       "      <td>0.0485</td>\n",
       "      <td>0.070</td>\n",
       "      <td>7</td>\n",
       "      <td>False</td>\n",
       "      <td>True</td>\n",
       "    </tr>\n",
       "    <tr>\n",
       "      <th>2</th>\n",
       "      <td>0.530</td>\n",
       "      <td>0.420</td>\n",
       "      <td>0.135</td>\n",
       "      <td>0.6770</td>\n",
       "      <td>0.2565</td>\n",
       "      <td>0.1415</td>\n",
       "      <td>0.210</td>\n",
       "      <td>9</td>\n",
       "      <td>False</td>\n",
       "      <td>False</td>\n",
       "    </tr>\n",
       "    <tr>\n",
       "      <th>3</th>\n",
       "      <td>0.440</td>\n",
       "      <td>0.365</td>\n",
       "      <td>0.125</td>\n",
       "      <td>0.5160</td>\n",
       "      <td>0.2155</td>\n",
       "      <td>0.1140</td>\n",
       "      <td>0.155</td>\n",
       "      <td>10</td>\n",
       "      <td>False</td>\n",
       "      <td>True</td>\n",
       "    </tr>\n",
       "    <tr>\n",
       "      <th>4</th>\n",
       "      <td>0.330</td>\n",
       "      <td>0.255</td>\n",
       "      <td>0.080</td>\n",
       "      <td>0.2050</td>\n",
       "      <td>0.0895</td>\n",
       "      <td>0.0395</td>\n",
       "      <td>0.055</td>\n",
       "      <td>7</td>\n",
       "      <td>True</td>\n",
       "      <td>False</td>\n",
       "    </tr>\n",
       "  </tbody>\n",
       "</table>\n",
       "</div>"
      ],
      "text/plain": [
       "   Length  Diameter  Height  Whole weight  Shucked weight  Viscera weight  \\\n",
       "0   0.455     0.365   0.095        0.5140          0.2245          0.1010   \n",
       "1   0.350     0.265   0.090        0.2255          0.0995          0.0485   \n",
       "2   0.530     0.420   0.135        0.6770          0.2565          0.1415   \n",
       "3   0.440     0.365   0.125        0.5160          0.2155          0.1140   \n",
       "4   0.330     0.255   0.080        0.2050          0.0895          0.0395   \n",
       "\n",
       "   Shell weight  Rings  Sex_I  Sex_M  \n",
       "0         0.150     15  False   True  \n",
       "1         0.070      7  False   True  \n",
       "2         0.210      9  False  False  \n",
       "3         0.155     10  False   True  \n",
       "4         0.055      7   True  False  "
      ]
     },
     "execution_count": 19,
     "metadata": {},
     "output_type": "execute_result"
    }
   ],
   "source": [
    "og.head()"
   ]
  },
  {
   "cell_type": "code",
   "execution_count": 20,
   "id": "ddbef3f4",
   "metadata": {
    "execution": {
     "iopub.execute_input": "2024-04-28T07:32:31.645203Z",
     "iopub.status.busy": "2024-04-28T07:32:31.644713Z",
     "iopub.status.idle": "2024-04-28T07:32:31.654663Z",
     "shell.execute_reply": "2024-04-28T07:32:31.653270Z"
    },
    "papermill": {
     "duration": 0.032649,
     "end_time": "2024-04-28T07:32:31.657571",
     "exception": false,
     "start_time": "2024-04-28T07:32:31.624922",
     "status": "completed"
    },
    "tags": []
   },
   "outputs": [],
   "source": [
    "dataTrain_encoded.drop(columns=\"id\",inplace= True)"
   ]
  },
  {
   "cell_type": "code",
   "execution_count": null,
   "id": "a5305133",
   "metadata": {
    "papermill": {
     "duration": 0.019906,
     "end_time": "2024-04-28T07:32:31.695611",
     "exception": false,
     "start_time": "2024-04-28T07:32:31.675705",
     "status": "completed"
    },
    "tags": []
   },
   "outputs": [],
   "source": []
  },
  {
   "cell_type": "code",
   "execution_count": 21,
   "id": "41833d29",
   "metadata": {
    "execution": {
     "iopub.execute_input": "2024-04-28T07:32:31.810582Z",
     "iopub.status.busy": "2024-04-28T07:32:31.810086Z",
     "iopub.status.idle": "2024-04-28T07:32:31.818703Z",
     "shell.execute_reply": "2024-04-28T07:32:31.817542Z"
    },
    "papermill": {
     "duration": 0.102545,
     "end_time": "2024-04-28T07:32:31.821209",
     "exception": false,
     "start_time": "2024-04-28T07:32:31.718664",
     "status": "completed"
    },
    "tags": []
   },
   "outputs": [],
   "source": [
    "dataTrain_encoded[\"Sex_I\"] = dataTrain_encoded[\"Sex_I\"].astype(int)\n",
    "dataTrain_encoded[\"Sex_M\"] = dataTrain_encoded[\"Sex_M\"].astype(int)"
   ]
  },
  {
   "cell_type": "code",
   "execution_count": 22,
   "id": "2ceb1ea7",
   "metadata": {
    "execution": {
     "iopub.execute_input": "2024-04-28T07:32:31.861048Z",
     "iopub.status.busy": "2024-04-28T07:32:31.859756Z",
     "iopub.status.idle": "2024-04-28T07:32:31.868209Z",
     "shell.execute_reply": "2024-04-28T07:32:31.866930Z"
    },
    "papermill": {
     "duration": 0.031288,
     "end_time": "2024-04-28T07:32:31.871135",
     "exception": false,
     "start_time": "2024-04-28T07:32:31.839847",
     "status": "completed"
    },
    "tags": []
   },
   "outputs": [],
   "source": [
    "dataTest_encoded[\"Sex_I\"] = dataTest_encoded[\"Sex_I\"].astype(int)\n",
    "dataTest_encoded[\"Sex_M\"] = dataTest_encoded[\"Sex_M\"].astype(int)"
   ]
  },
  {
   "cell_type": "code",
   "execution_count": 23,
   "id": "05ddba31",
   "metadata": {
    "execution": {
     "iopub.execute_input": "2024-04-28T07:32:31.911475Z",
     "iopub.status.busy": "2024-04-28T07:32:31.910928Z",
     "iopub.status.idle": "2024-04-28T07:32:31.918650Z",
     "shell.execute_reply": "2024-04-28T07:32:31.917126Z"
    },
    "papermill": {
     "duration": 0.03148,
     "end_time": "2024-04-28T07:32:31.921411",
     "exception": false,
     "start_time": "2024-04-28T07:32:31.889931",
     "status": "completed"
    },
    "tags": []
   },
   "outputs": [],
   "source": [
    "og[\"Sex_I\"] = og[\"Sex_I\"].astype(int)\n",
    "og[\"Sex_M\"] = og[\"Sex_M\"].astype(int)"
   ]
  },
  {
   "cell_type": "code",
   "execution_count": 24,
   "id": "671152d3",
   "metadata": {
    "execution": {
     "iopub.execute_input": "2024-04-28T07:32:31.962691Z",
     "iopub.status.busy": "2024-04-28T07:32:31.962206Z",
     "iopub.status.idle": "2024-04-28T07:32:31.972407Z",
     "shell.execute_reply": "2024-04-28T07:32:31.970915Z"
    },
    "papermill": {
     "duration": 0.034642,
     "end_time": "2024-04-28T07:32:31.975517",
     "exception": false,
     "start_time": "2024-04-28T07:32:31.940875",
     "status": "completed"
    },
    "tags": []
   },
   "outputs": [
    {
     "data": {
      "text/plain": [
       "Length            float64\n",
       "Diameter          float64\n",
       "Height            float64\n",
       "Whole weight      float64\n",
       "Shucked weight    float64\n",
       "Viscera weight    float64\n",
       "Shell weight      float64\n",
       "Rings               int64\n",
       "Sex_I               int64\n",
       "Sex_M               int64\n",
       "dtype: object"
      ]
     },
     "execution_count": 24,
     "metadata": {},
     "output_type": "execute_result"
    }
   ],
   "source": [
    "dataTrain_encoded.dtypes"
   ]
  },
  {
   "cell_type": "code",
   "execution_count": 25,
   "id": "158c4f6d",
   "metadata": {
    "execution": {
     "iopub.execute_input": "2024-04-28T07:32:32.017341Z",
     "iopub.status.busy": "2024-04-28T07:32:32.016849Z",
     "iopub.status.idle": "2024-04-28T07:32:33.934394Z",
     "shell.execute_reply": "2024-04-28T07:32:33.933003Z"
    },
    "papermill": {
     "duration": 1.942819,
     "end_time": "2024-04-28T07:32:33.938241",
     "exception": false,
     "start_time": "2024-04-28T07:32:31.995422",
     "status": "completed"
    },
    "tags": []
   },
   "outputs": [],
   "source": [
    "import xgboost as xgb\n",
    "from sklearn.model_selection import train_test_split, KFold, cross_val_score\n",
    "from sklearn.metrics import mean_squared_error"
   ]
  },
  {
   "cell_type": "code",
   "execution_count": 26,
   "id": "948acc56",
   "metadata": {
    "execution": {
     "iopub.execute_input": "2024-04-28T07:32:33.979736Z",
     "iopub.status.busy": "2024-04-28T07:32:33.978261Z",
     "iopub.status.idle": "2024-04-28T07:32:33.991825Z",
     "shell.execute_reply": "2024-04-28T07:32:33.990518Z"
    },
    "papermill": {
     "duration": 0.037576,
     "end_time": "2024-04-28T07:32:33.995087",
     "exception": false,
     "start_time": "2024-04-28T07:32:33.957511",
     "status": "completed"
    },
    "tags": []
   },
   "outputs": [],
   "source": [
    "X = dataTrain_encoded.drop('Rings', axis=1)\n",
    "y = dataTrain_encoded['Rings']"
   ]
  },
  {
   "cell_type": "code",
   "execution_count": 27,
   "id": "720891da",
   "metadata": {
    "execution": {
     "iopub.execute_input": "2024-04-28T07:32:34.038470Z",
     "iopub.status.busy": "2024-04-28T07:32:34.038022Z",
     "iopub.status.idle": "2024-04-28T07:32:34.044061Z",
     "shell.execute_reply": "2024-04-28T07:32:34.042582Z"
    },
    "papermill": {
     "duration": 0.030729,
     "end_time": "2024-04-28T07:32:34.046429",
     "exception": false,
     "start_time": "2024-04-28T07:32:34.015700",
     "status": "completed"
    },
    "tags": []
   },
   "outputs": [],
   "source": [
    "model = xgb.XGBRegressor(objective='reg:squarederror', n_estimators=200, learning_rate=0.1, max_depth=7)"
   ]
  },
  {
   "cell_type": "code",
   "execution_count": 28,
   "id": "b076b613",
   "metadata": {
    "execution": {
     "iopub.execute_input": "2024-04-28T07:32:34.087082Z",
     "iopub.status.busy": "2024-04-28T07:32:34.086172Z",
     "iopub.status.idle": "2024-04-28T07:32:39.704705Z",
     "shell.execute_reply": "2024-04-28T07:32:39.703784Z"
    },
    "papermill": {
     "duration": 5.642651,
     "end_time": "2024-04-28T07:32:39.707909",
     "exception": false,
     "start_time": "2024-04-28T07:32:34.065258",
     "status": "completed"
    },
    "tags": []
   },
   "outputs": [],
   "source": [
    "kf = KFold(n_splits=5, shuffle=True, random_state=42)\n",
    "\n",
    "# Perform cross-validation and store results\n",
    "scores = cross_val_score(model, X, y, cv=kf, scoring='neg_mean_squared_error')\n",
    "rmse_scores = (-scores)**0.5  # Convert MSE to RMSE"
   ]
  },
  {
   "cell_type": "code",
   "execution_count": 29,
   "id": "85dae63a",
   "metadata": {
    "execution": {
     "iopub.execute_input": "2024-04-28T07:32:39.751756Z",
     "iopub.status.busy": "2024-04-28T07:32:39.751353Z",
     "iopub.status.idle": "2024-04-28T07:32:39.758419Z",
     "shell.execute_reply": "2024-04-28T07:32:39.756979Z"
    },
    "papermill": {
     "duration": 0.032392,
     "end_time": "2024-04-28T07:32:39.761898",
     "exception": false,
     "start_time": "2024-04-28T07:32:39.729506",
     "status": "completed"
    },
    "tags": []
   },
   "outputs": [
    {
     "name": "stdout",
     "output_type": "stream",
     "text": [
      "RMSE scores per fold: [1.86380489 1.83770594 1.85632818 1.85317424 1.82297325]\n",
      "Average RMSE: 1.8467972997469164\n"
     ]
    }
   ],
   "source": [
    "print(\"RMSE scores per fold:\", rmse_scores)\n",
    "print(\"Average RMSE:\", rmse_scores.mean())"
   ]
  },
  {
   "cell_type": "code",
   "execution_count": 30,
   "id": "5209e953",
   "metadata": {
    "execution": {
     "iopub.execute_input": "2024-04-28T07:32:39.803647Z",
     "iopub.status.busy": "2024-04-28T07:32:39.803208Z",
     "iopub.status.idle": "2024-04-28T07:32:41.064623Z",
     "shell.execute_reply": "2024-04-28T07:32:41.063693Z"
    },
    "papermill": {
     "duration": 1.285111,
     "end_time": "2024-04-28T07:32:41.067380",
     "exception": false,
     "start_time": "2024-04-28T07:32:39.782269",
     "status": "completed"
    },
    "tags": []
   },
   "outputs": [
    {
     "data": {
      "text/html": [
       "<style>#sk-container-id-1 {color: black;background-color: white;}#sk-container-id-1 pre{padding: 0;}#sk-container-id-1 div.sk-toggleable {background-color: white;}#sk-container-id-1 label.sk-toggleable__label {cursor: pointer;display: block;width: 100%;margin-bottom: 0;padding: 0.3em;box-sizing: border-box;text-align: center;}#sk-container-id-1 label.sk-toggleable__label-arrow:before {content: \"▸\";float: left;margin-right: 0.25em;color: #696969;}#sk-container-id-1 label.sk-toggleable__label-arrow:hover:before {color: black;}#sk-container-id-1 div.sk-estimator:hover label.sk-toggleable__label-arrow:before {color: black;}#sk-container-id-1 div.sk-toggleable__content {max-height: 0;max-width: 0;overflow: hidden;text-align: left;background-color: #f0f8ff;}#sk-container-id-1 div.sk-toggleable__content pre {margin: 0.2em;color: black;border-radius: 0.25em;background-color: #f0f8ff;}#sk-container-id-1 input.sk-toggleable__control:checked~div.sk-toggleable__content {max-height: 200px;max-width: 100%;overflow: auto;}#sk-container-id-1 input.sk-toggleable__control:checked~label.sk-toggleable__label-arrow:before {content: \"▾\";}#sk-container-id-1 div.sk-estimator input.sk-toggleable__control:checked~label.sk-toggleable__label {background-color: #d4ebff;}#sk-container-id-1 div.sk-label input.sk-toggleable__control:checked~label.sk-toggleable__label {background-color: #d4ebff;}#sk-container-id-1 input.sk-hidden--visually {border: 0;clip: rect(1px 1px 1px 1px);clip: rect(1px, 1px, 1px, 1px);height: 1px;margin: -1px;overflow: hidden;padding: 0;position: absolute;width: 1px;}#sk-container-id-1 div.sk-estimator {font-family: monospace;background-color: #f0f8ff;border: 1px dotted black;border-radius: 0.25em;box-sizing: border-box;margin-bottom: 0.5em;}#sk-container-id-1 div.sk-estimator:hover {background-color: #d4ebff;}#sk-container-id-1 div.sk-parallel-item::after {content: \"\";width: 100%;border-bottom: 1px solid gray;flex-grow: 1;}#sk-container-id-1 div.sk-label:hover label.sk-toggleable__label {background-color: #d4ebff;}#sk-container-id-1 div.sk-serial::before {content: \"\";position: absolute;border-left: 1px solid gray;box-sizing: border-box;top: 0;bottom: 0;left: 50%;z-index: 0;}#sk-container-id-1 div.sk-serial {display: flex;flex-direction: column;align-items: center;background-color: white;padding-right: 0.2em;padding-left: 0.2em;position: relative;}#sk-container-id-1 div.sk-item {position: relative;z-index: 1;}#sk-container-id-1 div.sk-parallel {display: flex;align-items: stretch;justify-content: center;background-color: white;position: relative;}#sk-container-id-1 div.sk-item::before, #sk-container-id-1 div.sk-parallel-item::before {content: \"\";position: absolute;border-left: 1px solid gray;box-sizing: border-box;top: 0;bottom: 0;left: 50%;z-index: -1;}#sk-container-id-1 div.sk-parallel-item {display: flex;flex-direction: column;z-index: 1;position: relative;background-color: white;}#sk-container-id-1 div.sk-parallel-item:first-child::after {align-self: flex-end;width: 50%;}#sk-container-id-1 div.sk-parallel-item:last-child::after {align-self: flex-start;width: 50%;}#sk-container-id-1 div.sk-parallel-item:only-child::after {width: 0;}#sk-container-id-1 div.sk-dashed-wrapped {border: 1px dashed gray;margin: 0 0.4em 0.5em 0.4em;box-sizing: border-box;padding-bottom: 0.4em;background-color: white;}#sk-container-id-1 div.sk-label label {font-family: monospace;font-weight: bold;display: inline-block;line-height: 1.2em;}#sk-container-id-1 div.sk-label-container {text-align: center;}#sk-container-id-1 div.sk-container {/* jupyter's `normalize.less` sets `[hidden] { display: none; }` but bootstrap.min.css set `[hidden] { display: none !important; }` so we also need the `!important` here to be able to override the default hidden behavior on the sphinx rendered scikit-learn.org. See: https://github.com/scikit-learn/scikit-learn/issues/21755 */display: inline-block !important;position: relative;}#sk-container-id-1 div.sk-text-repr-fallback {display: none;}</style><div id=\"sk-container-id-1\" class=\"sk-top-container\"><div class=\"sk-text-repr-fallback\"><pre>XGBRegressor(base_score=None, booster=None, callbacks=None,\n",
       "             colsample_bylevel=None, colsample_bynode=None,\n",
       "             colsample_bytree=None, device=None, early_stopping_rounds=None,\n",
       "             enable_categorical=False, eval_metric=None, feature_types=None,\n",
       "             gamma=None, grow_policy=None, importance_type=None,\n",
       "             interaction_constraints=None, learning_rate=0.1, max_bin=None,\n",
       "             max_cat_threshold=None, max_cat_to_onehot=None,\n",
       "             max_delta_step=None, max_depth=7, max_leaves=None,\n",
       "             min_child_weight=None, missing=nan, monotone_constraints=None,\n",
       "             multi_strategy=None, n_estimators=200, n_jobs=None,\n",
       "             num_parallel_tree=None, random_state=None, ...)</pre><b>In a Jupyter environment, please rerun this cell to show the HTML representation or trust the notebook. <br />On GitHub, the HTML representation is unable to render, please try loading this page with nbviewer.org.</b></div><div class=\"sk-container\" hidden><div class=\"sk-item\"><div class=\"sk-estimator sk-toggleable\"><input class=\"sk-toggleable__control sk-hidden--visually\" id=\"sk-estimator-id-1\" type=\"checkbox\" checked><label for=\"sk-estimator-id-1\" class=\"sk-toggleable__label sk-toggleable__label-arrow\">XGBRegressor</label><div class=\"sk-toggleable__content\"><pre>XGBRegressor(base_score=None, booster=None, callbacks=None,\n",
       "             colsample_bylevel=None, colsample_bynode=None,\n",
       "             colsample_bytree=None, device=None, early_stopping_rounds=None,\n",
       "             enable_categorical=False, eval_metric=None, feature_types=None,\n",
       "             gamma=None, grow_policy=None, importance_type=None,\n",
       "             interaction_constraints=None, learning_rate=0.1, max_bin=None,\n",
       "             max_cat_threshold=None, max_cat_to_onehot=None,\n",
       "             max_delta_step=None, max_depth=7, max_leaves=None,\n",
       "             min_child_weight=None, missing=nan, monotone_constraints=None,\n",
       "             multi_strategy=None, n_estimators=200, n_jobs=None,\n",
       "             num_parallel_tree=None, random_state=None, ...)</pre></div></div></div></div></div>"
      ],
      "text/plain": [
       "XGBRegressor(base_score=None, booster=None, callbacks=None,\n",
       "             colsample_bylevel=None, colsample_bynode=None,\n",
       "             colsample_bytree=None, device=None, early_stopping_rounds=None,\n",
       "             enable_categorical=False, eval_metric=None, feature_types=None,\n",
       "             gamma=None, grow_policy=None, importance_type=None,\n",
       "             interaction_constraints=None, learning_rate=0.1, max_bin=None,\n",
       "             max_cat_threshold=None, max_cat_to_onehot=None,\n",
       "             max_delta_step=None, max_depth=7, max_leaves=None,\n",
       "             min_child_weight=None, missing=nan, monotone_constraints=None,\n",
       "             multi_strategy=None, n_estimators=200, n_jobs=None,\n",
       "             num_parallel_tree=None, random_state=None, ...)"
      ]
     },
     "execution_count": 30,
     "metadata": {},
     "output_type": "execute_result"
    }
   ],
   "source": [
    "model.fit(X, y)"
   ]
  },
  {
   "cell_type": "code",
   "execution_count": 31,
   "id": "3b797975",
   "metadata": {
    "execution": {
     "iopub.execute_input": "2024-04-28T07:32:41.108540Z",
     "iopub.status.busy": "2024-04-28T07:32:41.108119Z",
     "iopub.status.idle": "2024-04-28T07:32:41.118156Z",
     "shell.execute_reply": "2024-04-28T07:32:41.116440Z"
    },
    "papermill": {
     "duration": 0.03439,
     "end_time": "2024-04-28T07:32:41.120767",
     "exception": false,
     "start_time": "2024-04-28T07:32:41.086377",
     "status": "completed"
    },
    "tags": []
   },
   "outputs": [
    {
     "data": {
      "text/plain": [
       "'from sklearn.model_selection import GridSearchCV\\n\\n\\n# Define the model\\nmodel = xgb.XGBRegressor(objective=\\'reg:squarederror\\')\\n\\n# Create the parameter grid\\nparam_grid = {\\n    \\'max_depth\\': [3, 5, 7],\\n    \\'learning_rate\\': [0.01, 0.1, 0.2],\\n    \\'n_estimators\\': [100, 200, 300],\\n    \\'subsample\\': [0.7, 0.8, 0.9],\\n    \\'colsample_bytree\\': [0.7, 0.8, 0.9],\\n    \\'lambda\\': [1, 1.5],\\n    \\'alpha\\': [0, 0.5]\\n}\\n\\n# Setup the GridSearch\\ngrid_search = GridSearchCV(estimator=model, param_grid=param_grid, scoring=\\'neg_root_mean_squared_error\\', cv=5, verbose=1)\\n\\n# Fit GridSearch to the data\\ngrid_search.fit(X, y)\\n\\n# Best parameters and RMSE\\nprint(\"Best parameters found: \", grid_search.best_params_)\\nprint(\"Best RMSE: \", -grid_search.best_score_)'"
      ]
     },
     "execution_count": 31,
     "metadata": {},
     "output_type": "execute_result"
    }
   ],
   "source": [
    "'''from sklearn.model_selection import GridSearchCV\n",
    "\n",
    "\n",
    "# Define the model\n",
    "model = xgb.XGBRegressor(objective='reg:squarederror')\n",
    "\n",
    "# Create the parameter grid\n",
    "param_grid = {\n",
    "    'max_depth': [3, 5, 7],\n",
    "    'learning_rate': [0.01, 0.1, 0.2],\n",
    "    'n_estimators': [100, 200, 300],\n",
    "    'subsample': [0.7, 0.8, 0.9],\n",
    "    'colsample_bytree': [0.7, 0.8, 0.9],\n",
    "    'lambda': [1, 1.5],\n",
    "    'alpha': [0, 0.5]\n",
    "}\n",
    "\n",
    "# Setup the GridSearch\n",
    "grid_search = GridSearchCV(estimator=model, param_grid=param_grid, scoring='neg_root_mean_squared_error', cv=5, verbose=1)\n",
    "\n",
    "# Fit GridSearch to the data\n",
    "grid_search.fit(X, y)\n",
    "\n",
    "# Best parameters and RMSE\n",
    "print(\"Best parameters found: \", grid_search.best_params_)\n",
    "print(\"Best RMSE: \", -grid_search.best_score_)'''"
   ]
  },
  {
   "cell_type": "code",
   "execution_count": 32,
   "id": "27a9fd00",
   "metadata": {
    "execution": {
     "iopub.execute_input": "2024-04-28T07:32:41.161479Z",
     "iopub.status.busy": "2024-04-28T07:32:41.160970Z",
     "iopub.status.idle": "2024-04-28T07:32:41.167394Z",
     "shell.execute_reply": "2024-04-28T07:32:41.166238Z"
    },
    "papermill": {
     "duration": 0.030851,
     "end_time": "2024-04-28T07:32:41.170728",
     "exception": false,
     "start_time": "2024-04-28T07:32:41.139877",
     "status": "completed"
    },
    "tags": []
   },
   "outputs": [],
   "source": [
    "\n",
    "model = xgb.XGBRegressor(objective='reg:squarederror',alpha= 0, colsample_bytree= 0.8, reg_lambda= 1.5, learning_rate= 0.1, max_depth= 7, n_estimators= 200, subsample=0.9)                        "
   ]
  },
  {
   "cell_type": "code",
   "execution_count": 33,
   "id": "d3afa8c5",
   "metadata": {
    "execution": {
     "iopub.execute_input": "2024-04-28T07:32:41.212300Z",
     "iopub.status.busy": "2024-04-28T07:32:41.211830Z",
     "iopub.status.idle": "2024-04-28T07:32:42.645385Z",
     "shell.execute_reply": "2024-04-28T07:32:42.644110Z"
    },
    "papermill": {
     "duration": 1.45775,
     "end_time": "2024-04-28T07:32:42.648345",
     "exception": false,
     "start_time": "2024-04-28T07:32:41.190595",
     "status": "completed"
    },
    "tags": []
   },
   "outputs": [
    {
     "data": {
      "text/html": [
       "<style>#sk-container-id-2 {color: black;background-color: white;}#sk-container-id-2 pre{padding: 0;}#sk-container-id-2 div.sk-toggleable {background-color: white;}#sk-container-id-2 label.sk-toggleable__label {cursor: pointer;display: block;width: 100%;margin-bottom: 0;padding: 0.3em;box-sizing: border-box;text-align: center;}#sk-container-id-2 label.sk-toggleable__label-arrow:before {content: \"▸\";float: left;margin-right: 0.25em;color: #696969;}#sk-container-id-2 label.sk-toggleable__label-arrow:hover:before {color: black;}#sk-container-id-2 div.sk-estimator:hover label.sk-toggleable__label-arrow:before {color: black;}#sk-container-id-2 div.sk-toggleable__content {max-height: 0;max-width: 0;overflow: hidden;text-align: left;background-color: #f0f8ff;}#sk-container-id-2 div.sk-toggleable__content pre {margin: 0.2em;color: black;border-radius: 0.25em;background-color: #f0f8ff;}#sk-container-id-2 input.sk-toggleable__control:checked~div.sk-toggleable__content {max-height: 200px;max-width: 100%;overflow: auto;}#sk-container-id-2 input.sk-toggleable__control:checked~label.sk-toggleable__label-arrow:before {content: \"▾\";}#sk-container-id-2 div.sk-estimator input.sk-toggleable__control:checked~label.sk-toggleable__label {background-color: #d4ebff;}#sk-container-id-2 div.sk-label input.sk-toggleable__control:checked~label.sk-toggleable__label {background-color: #d4ebff;}#sk-container-id-2 input.sk-hidden--visually {border: 0;clip: rect(1px 1px 1px 1px);clip: rect(1px, 1px, 1px, 1px);height: 1px;margin: -1px;overflow: hidden;padding: 0;position: absolute;width: 1px;}#sk-container-id-2 div.sk-estimator {font-family: monospace;background-color: #f0f8ff;border: 1px dotted black;border-radius: 0.25em;box-sizing: border-box;margin-bottom: 0.5em;}#sk-container-id-2 div.sk-estimator:hover {background-color: #d4ebff;}#sk-container-id-2 div.sk-parallel-item::after {content: \"\";width: 100%;border-bottom: 1px solid gray;flex-grow: 1;}#sk-container-id-2 div.sk-label:hover label.sk-toggleable__label {background-color: #d4ebff;}#sk-container-id-2 div.sk-serial::before {content: \"\";position: absolute;border-left: 1px solid gray;box-sizing: border-box;top: 0;bottom: 0;left: 50%;z-index: 0;}#sk-container-id-2 div.sk-serial {display: flex;flex-direction: column;align-items: center;background-color: white;padding-right: 0.2em;padding-left: 0.2em;position: relative;}#sk-container-id-2 div.sk-item {position: relative;z-index: 1;}#sk-container-id-2 div.sk-parallel {display: flex;align-items: stretch;justify-content: center;background-color: white;position: relative;}#sk-container-id-2 div.sk-item::before, #sk-container-id-2 div.sk-parallel-item::before {content: \"\";position: absolute;border-left: 1px solid gray;box-sizing: border-box;top: 0;bottom: 0;left: 50%;z-index: -1;}#sk-container-id-2 div.sk-parallel-item {display: flex;flex-direction: column;z-index: 1;position: relative;background-color: white;}#sk-container-id-2 div.sk-parallel-item:first-child::after {align-self: flex-end;width: 50%;}#sk-container-id-2 div.sk-parallel-item:last-child::after {align-self: flex-start;width: 50%;}#sk-container-id-2 div.sk-parallel-item:only-child::after {width: 0;}#sk-container-id-2 div.sk-dashed-wrapped {border: 1px dashed gray;margin: 0 0.4em 0.5em 0.4em;box-sizing: border-box;padding-bottom: 0.4em;background-color: white;}#sk-container-id-2 div.sk-label label {font-family: monospace;font-weight: bold;display: inline-block;line-height: 1.2em;}#sk-container-id-2 div.sk-label-container {text-align: center;}#sk-container-id-2 div.sk-container {/* jupyter's `normalize.less` sets `[hidden] { display: none; }` but bootstrap.min.css set `[hidden] { display: none !important; }` so we also need the `!important` here to be able to override the default hidden behavior on the sphinx rendered scikit-learn.org. See: https://github.com/scikit-learn/scikit-learn/issues/21755 */display: inline-block !important;position: relative;}#sk-container-id-2 div.sk-text-repr-fallback {display: none;}</style><div id=\"sk-container-id-2\" class=\"sk-top-container\"><div class=\"sk-text-repr-fallback\"><pre>XGBRegressor(alpha=0, base_score=None, booster=None, callbacks=None,\n",
       "             colsample_bylevel=None, colsample_bynode=None,\n",
       "             colsample_bytree=0.8, device=None, early_stopping_rounds=None,\n",
       "             enable_categorical=False, eval_metric=None, feature_types=None,\n",
       "             gamma=None, grow_policy=None, importance_type=None,\n",
       "             interaction_constraints=None, learning_rate=0.1, max_bin=None,\n",
       "             max_cat_threshold=None, max_cat_to_onehot=None,\n",
       "             max_delta_step=None, max_depth=7, max_leaves=None,\n",
       "             min_child_weight=None, missing=nan, monotone_constraints=None,\n",
       "             multi_strategy=None, n_estimators=200, n_jobs=None,\n",
       "             num_parallel_tree=None, ...)</pre><b>In a Jupyter environment, please rerun this cell to show the HTML representation or trust the notebook. <br />On GitHub, the HTML representation is unable to render, please try loading this page with nbviewer.org.</b></div><div class=\"sk-container\" hidden><div class=\"sk-item\"><div class=\"sk-estimator sk-toggleable\"><input class=\"sk-toggleable__control sk-hidden--visually\" id=\"sk-estimator-id-2\" type=\"checkbox\" checked><label for=\"sk-estimator-id-2\" class=\"sk-toggleable__label sk-toggleable__label-arrow\">XGBRegressor</label><div class=\"sk-toggleable__content\"><pre>XGBRegressor(alpha=0, base_score=None, booster=None, callbacks=None,\n",
       "             colsample_bylevel=None, colsample_bynode=None,\n",
       "             colsample_bytree=0.8, device=None, early_stopping_rounds=None,\n",
       "             enable_categorical=False, eval_metric=None, feature_types=None,\n",
       "             gamma=None, grow_policy=None, importance_type=None,\n",
       "             interaction_constraints=None, learning_rate=0.1, max_bin=None,\n",
       "             max_cat_threshold=None, max_cat_to_onehot=None,\n",
       "             max_delta_step=None, max_depth=7, max_leaves=None,\n",
       "             min_child_weight=None, missing=nan, monotone_constraints=None,\n",
       "             multi_strategy=None, n_estimators=200, n_jobs=None,\n",
       "             num_parallel_tree=None, ...)</pre></div></div></div></div></div>"
      ],
      "text/plain": [
       "XGBRegressor(alpha=0, base_score=None, booster=None, callbacks=None,\n",
       "             colsample_bylevel=None, colsample_bynode=None,\n",
       "             colsample_bytree=0.8, device=None, early_stopping_rounds=None,\n",
       "             enable_categorical=False, eval_metric=None, feature_types=None,\n",
       "             gamma=None, grow_policy=None, importance_type=None,\n",
       "             interaction_constraints=None, learning_rate=0.1, max_bin=None,\n",
       "             max_cat_threshold=None, max_cat_to_onehot=None,\n",
       "             max_delta_step=None, max_depth=7, max_leaves=None,\n",
       "             min_child_weight=None, missing=nan, monotone_constraints=None,\n",
       "             multi_strategy=None, n_estimators=200, n_jobs=None,\n",
       "             num_parallel_tree=None, ...)"
      ]
     },
     "execution_count": 33,
     "metadata": {},
     "output_type": "execute_result"
    }
   ],
   "source": [
    "model.fit(X,y)"
   ]
  },
  {
   "cell_type": "code",
   "execution_count": 34,
   "id": "92ed525b",
   "metadata": {
    "execution": {
     "iopub.execute_input": "2024-04-28T07:32:42.696239Z",
     "iopub.status.busy": "2024-04-28T07:32:42.695750Z",
     "iopub.status.idle": "2024-04-28T07:32:47.174069Z",
     "shell.execute_reply": "2024-04-28T07:32:47.173098Z"
    },
    "papermill": {
     "duration": 4.506053,
     "end_time": "2024-04-28T07:32:47.177153",
     "exception": false,
     "start_time": "2024-04-28T07:32:42.671100",
     "status": "completed"
    },
    "tags": []
   },
   "outputs": [],
   "source": [
    "kf = KFold(n_splits=4, shuffle=True, random_state=42)\n",
    "\n",
    "# Perform cross-validation and store results\n",
    "scores = cross_val_score(model, X, y, cv=kf, scoring='neg_mean_squared_error')\n",
    "rmse_scores = (-scores)**0.5  # Convert MSE to RMSE"
   ]
  },
  {
   "cell_type": "code",
   "execution_count": 35,
   "id": "37b0c52d",
   "metadata": {
    "execution": {
     "iopub.execute_input": "2024-04-28T07:32:47.222149Z",
     "iopub.status.busy": "2024-04-28T07:32:47.221712Z",
     "iopub.status.idle": "2024-04-28T07:32:47.228431Z",
     "shell.execute_reply": "2024-04-28T07:32:47.227152Z"
    },
    "papermill": {
     "duration": 0.030812,
     "end_time": "2024-04-28T07:32:47.231551",
     "exception": false,
     "start_time": "2024-04-28T07:32:47.200739",
     "status": "completed"
    },
    "tags": []
   },
   "outputs": [
    {
     "name": "stdout",
     "output_type": "stream",
     "text": [
      "[1.86212648 1.83990135 1.83841587 1.82824647]\n"
     ]
    }
   ],
   "source": [
    "print(rmse_scores)"
   ]
  },
  {
   "cell_type": "code",
   "execution_count": 36,
   "id": "6ae785e2",
   "metadata": {
    "execution": {
     "iopub.execute_input": "2024-04-28T07:32:47.272835Z",
     "iopub.status.busy": "2024-04-28T07:32:47.272420Z",
     "iopub.status.idle": "2024-04-28T07:32:47.281064Z",
     "shell.execute_reply": "2024-04-28T07:32:47.279611Z"
    },
    "papermill": {
     "duration": 0.032443,
     "end_time": "2024-04-28T07:32:47.284123",
     "exception": false,
     "start_time": "2024-04-28T07:32:47.251680",
     "status": "completed"
    },
    "tags": []
   },
   "outputs": [],
   "source": [
    "final_data =pd.concat([dataTrain_encoded, og], ignore_index=True)"
   ]
  },
  {
   "cell_type": "code",
   "execution_count": 37,
   "id": "bb3f3b81",
   "metadata": {
    "execution": {
     "iopub.execute_input": "2024-04-28T07:32:47.327187Z",
     "iopub.status.busy": "2024-04-28T07:32:47.325666Z",
     "iopub.status.idle": "2024-04-28T07:32:47.335561Z",
     "shell.execute_reply": "2024-04-28T07:32:47.334403Z"
    },
    "papermill": {
     "duration": 0.034053,
     "end_time": "2024-04-28T07:32:47.338631",
     "exception": false,
     "start_time": "2024-04-28T07:32:47.304578",
     "status": "completed"
    },
    "tags": []
   },
   "outputs": [],
   "source": [
    "X = final_data.drop('Rings', axis=1)\n",
    "y = final_data['Rings']"
   ]
  },
  {
   "cell_type": "code",
   "execution_count": null,
   "id": "cd4ec891",
   "metadata": {
    "papermill": {
     "duration": 0.020191,
     "end_time": "2024-04-28T07:32:47.379141",
     "exception": false,
     "start_time": "2024-04-28T07:32:47.358950",
     "status": "completed"
    },
    "tags": []
   },
   "outputs": [],
   "source": []
  },
  {
   "cell_type": "code",
   "execution_count": 38,
   "id": "1d70482d",
   "metadata": {
    "execution": {
     "iopub.execute_input": "2024-04-28T07:32:47.422625Z",
     "iopub.status.busy": "2024-04-28T07:32:47.421474Z",
     "iopub.status.idle": "2024-04-28T07:32:48.695165Z",
     "shell.execute_reply": "2024-04-28T07:32:48.693882Z"
    },
    "papermill": {
     "duration": 1.298954,
     "end_time": "2024-04-28T07:32:48.698558",
     "exception": false,
     "start_time": "2024-04-28T07:32:47.399604",
     "status": "completed"
    },
    "tags": []
   },
   "outputs": [
    {
     "data": {
      "text/html": [
       "<style>#sk-container-id-3 {color: black;background-color: white;}#sk-container-id-3 pre{padding: 0;}#sk-container-id-3 div.sk-toggleable {background-color: white;}#sk-container-id-3 label.sk-toggleable__label {cursor: pointer;display: block;width: 100%;margin-bottom: 0;padding: 0.3em;box-sizing: border-box;text-align: center;}#sk-container-id-3 label.sk-toggleable__label-arrow:before {content: \"▸\";float: left;margin-right: 0.25em;color: #696969;}#sk-container-id-3 label.sk-toggleable__label-arrow:hover:before {color: black;}#sk-container-id-3 div.sk-estimator:hover label.sk-toggleable__label-arrow:before {color: black;}#sk-container-id-3 div.sk-toggleable__content {max-height: 0;max-width: 0;overflow: hidden;text-align: left;background-color: #f0f8ff;}#sk-container-id-3 div.sk-toggleable__content pre {margin: 0.2em;color: black;border-radius: 0.25em;background-color: #f0f8ff;}#sk-container-id-3 input.sk-toggleable__control:checked~div.sk-toggleable__content {max-height: 200px;max-width: 100%;overflow: auto;}#sk-container-id-3 input.sk-toggleable__control:checked~label.sk-toggleable__label-arrow:before {content: \"▾\";}#sk-container-id-3 div.sk-estimator input.sk-toggleable__control:checked~label.sk-toggleable__label {background-color: #d4ebff;}#sk-container-id-3 div.sk-label input.sk-toggleable__control:checked~label.sk-toggleable__label {background-color: #d4ebff;}#sk-container-id-3 input.sk-hidden--visually {border: 0;clip: rect(1px 1px 1px 1px);clip: rect(1px, 1px, 1px, 1px);height: 1px;margin: -1px;overflow: hidden;padding: 0;position: absolute;width: 1px;}#sk-container-id-3 div.sk-estimator {font-family: monospace;background-color: #f0f8ff;border: 1px dotted black;border-radius: 0.25em;box-sizing: border-box;margin-bottom: 0.5em;}#sk-container-id-3 div.sk-estimator:hover {background-color: #d4ebff;}#sk-container-id-3 div.sk-parallel-item::after {content: \"\";width: 100%;border-bottom: 1px solid gray;flex-grow: 1;}#sk-container-id-3 div.sk-label:hover label.sk-toggleable__label {background-color: #d4ebff;}#sk-container-id-3 div.sk-serial::before {content: \"\";position: absolute;border-left: 1px solid gray;box-sizing: border-box;top: 0;bottom: 0;left: 50%;z-index: 0;}#sk-container-id-3 div.sk-serial {display: flex;flex-direction: column;align-items: center;background-color: white;padding-right: 0.2em;padding-left: 0.2em;position: relative;}#sk-container-id-3 div.sk-item {position: relative;z-index: 1;}#sk-container-id-3 div.sk-parallel {display: flex;align-items: stretch;justify-content: center;background-color: white;position: relative;}#sk-container-id-3 div.sk-item::before, #sk-container-id-3 div.sk-parallel-item::before {content: \"\";position: absolute;border-left: 1px solid gray;box-sizing: border-box;top: 0;bottom: 0;left: 50%;z-index: -1;}#sk-container-id-3 div.sk-parallel-item {display: flex;flex-direction: column;z-index: 1;position: relative;background-color: white;}#sk-container-id-3 div.sk-parallel-item:first-child::after {align-self: flex-end;width: 50%;}#sk-container-id-3 div.sk-parallel-item:last-child::after {align-self: flex-start;width: 50%;}#sk-container-id-3 div.sk-parallel-item:only-child::after {width: 0;}#sk-container-id-3 div.sk-dashed-wrapped {border: 1px dashed gray;margin: 0 0.4em 0.5em 0.4em;box-sizing: border-box;padding-bottom: 0.4em;background-color: white;}#sk-container-id-3 div.sk-label label {font-family: monospace;font-weight: bold;display: inline-block;line-height: 1.2em;}#sk-container-id-3 div.sk-label-container {text-align: center;}#sk-container-id-3 div.sk-container {/* jupyter's `normalize.less` sets `[hidden] { display: none; }` but bootstrap.min.css set `[hidden] { display: none !important; }` so we also need the `!important` here to be able to override the default hidden behavior on the sphinx rendered scikit-learn.org. See: https://github.com/scikit-learn/scikit-learn/issues/21755 */display: inline-block !important;position: relative;}#sk-container-id-3 div.sk-text-repr-fallback {display: none;}</style><div id=\"sk-container-id-3\" class=\"sk-top-container\"><div class=\"sk-text-repr-fallback\"><pre>XGBRegressor(alpha=0, base_score=None, booster=None, callbacks=None,\n",
       "             colsample_bylevel=None, colsample_bynode=None,\n",
       "             colsample_bytree=0.8, device=None, early_stopping_rounds=None,\n",
       "             enable_categorical=False, eval_metric=None, feature_types=None,\n",
       "             gamma=None, grow_policy=None, importance_type=None,\n",
       "             interaction_constraints=None, learning_rate=0.1, max_bin=None,\n",
       "             max_cat_threshold=None, max_cat_to_onehot=None,\n",
       "             max_delta_step=None, max_depth=7, max_leaves=None,\n",
       "             min_child_weight=None, missing=nan, monotone_constraints=None,\n",
       "             multi_strategy=None, n_estimators=200, n_jobs=None,\n",
       "             num_parallel_tree=None, ...)</pre><b>In a Jupyter environment, please rerun this cell to show the HTML representation or trust the notebook. <br />On GitHub, the HTML representation is unable to render, please try loading this page with nbviewer.org.</b></div><div class=\"sk-container\" hidden><div class=\"sk-item\"><div class=\"sk-estimator sk-toggleable\"><input class=\"sk-toggleable__control sk-hidden--visually\" id=\"sk-estimator-id-3\" type=\"checkbox\" checked><label for=\"sk-estimator-id-3\" class=\"sk-toggleable__label sk-toggleable__label-arrow\">XGBRegressor</label><div class=\"sk-toggleable__content\"><pre>XGBRegressor(alpha=0, base_score=None, booster=None, callbacks=None,\n",
       "             colsample_bylevel=None, colsample_bynode=None,\n",
       "             colsample_bytree=0.8, device=None, early_stopping_rounds=None,\n",
       "             enable_categorical=False, eval_metric=None, feature_types=None,\n",
       "             gamma=None, grow_policy=None, importance_type=None,\n",
       "             interaction_constraints=None, learning_rate=0.1, max_bin=None,\n",
       "             max_cat_threshold=None, max_cat_to_onehot=None,\n",
       "             max_delta_step=None, max_depth=7, max_leaves=None,\n",
       "             min_child_weight=None, missing=nan, monotone_constraints=None,\n",
       "             multi_strategy=None, n_estimators=200, n_jobs=None,\n",
       "             num_parallel_tree=None, ...)</pre></div></div></div></div></div>"
      ],
      "text/plain": [
       "XGBRegressor(alpha=0, base_score=None, booster=None, callbacks=None,\n",
       "             colsample_bylevel=None, colsample_bynode=None,\n",
       "             colsample_bytree=0.8, device=None, early_stopping_rounds=None,\n",
       "             enable_categorical=False, eval_metric=None, feature_types=None,\n",
       "             gamma=None, grow_policy=None, importance_type=None,\n",
       "             interaction_constraints=None, learning_rate=0.1, max_bin=None,\n",
       "             max_cat_threshold=None, max_cat_to_onehot=None,\n",
       "             max_delta_step=None, max_depth=7, max_leaves=None,\n",
       "             min_child_weight=None, missing=nan, monotone_constraints=None,\n",
       "             multi_strategy=None, n_estimators=200, n_jobs=None,\n",
       "             num_parallel_tree=None, ...)"
      ]
     },
     "execution_count": 38,
     "metadata": {},
     "output_type": "execute_result"
    }
   ],
   "source": [
    "model.fit(X,y)"
   ]
  },
  {
   "cell_type": "markdown",
   "id": "10e10ace",
   "metadata": {
    "papermill": {
     "duration": 0.022448,
     "end_time": "2024-04-28T07:32:48.742847",
     "exception": false,
     "start_time": "2024-04-28T07:32:48.720399",
     "status": "completed"
    },
    "tags": []
   },
   "source": []
  },
  {
   "cell_type": "code",
   "execution_count": 39,
   "id": "f1c894b8",
   "metadata": {
    "execution": {
     "iopub.execute_input": "2024-04-28T07:32:48.789050Z",
     "iopub.status.busy": "2024-04-28T07:32:48.787373Z",
     "iopub.status.idle": "2024-04-28T07:32:48.822852Z",
     "shell.execute_reply": "2024-04-28T07:32:48.821729Z"
    },
    "papermill": {
     "duration": 0.062821,
     "end_time": "2024-04-28T07:32:48.826517",
     "exception": false,
     "start_time": "2024-04-28T07:32:48.763696",
     "status": "completed"
    },
    "tags": []
   },
   "outputs": [],
   "source": [
    "submit= pd.read_csv('/kaggle/input/playground-series-s4e4/sample_submission.csv')"
   ]
  },
  {
   "cell_type": "code",
   "execution_count": 40,
   "id": "66514f36",
   "metadata": {
    "execution": {
     "iopub.execute_input": "2024-04-28T07:32:48.871550Z",
     "iopub.status.busy": "2024-04-28T07:32:48.871085Z",
     "iopub.status.idle": "2024-04-28T07:32:48.883526Z",
     "shell.execute_reply": "2024-04-28T07:32:48.882247Z"
    },
    "papermill": {
     "duration": 0.038179,
     "end_time": "2024-04-28T07:32:48.886518",
     "exception": false,
     "start_time": "2024-04-28T07:32:48.848339",
     "status": "completed"
    },
    "tags": []
   },
   "outputs": [
    {
     "data": {
      "text/html": [
       "<div>\n",
       "<style scoped>\n",
       "    .dataframe tbody tr th:only-of-type {\n",
       "        vertical-align: middle;\n",
       "    }\n",
       "\n",
       "    .dataframe tbody tr th {\n",
       "        vertical-align: top;\n",
       "    }\n",
       "\n",
       "    .dataframe thead th {\n",
       "        text-align: right;\n",
       "    }\n",
       "</style>\n",
       "<table border=\"1\" class=\"dataframe\">\n",
       "  <thead>\n",
       "    <tr style=\"text-align: right;\">\n",
       "      <th></th>\n",
       "      <th>id</th>\n",
       "      <th>Rings</th>\n",
       "    </tr>\n",
       "  </thead>\n",
       "  <tbody>\n",
       "    <tr>\n",
       "      <th>0</th>\n",
       "      <td>90615</td>\n",
       "      <td>10</td>\n",
       "    </tr>\n",
       "    <tr>\n",
       "      <th>1</th>\n",
       "      <td>90616</td>\n",
       "      <td>10</td>\n",
       "    </tr>\n",
       "    <tr>\n",
       "      <th>2</th>\n",
       "      <td>90617</td>\n",
       "      <td>10</td>\n",
       "    </tr>\n",
       "    <tr>\n",
       "      <th>3</th>\n",
       "      <td>90618</td>\n",
       "      <td>10</td>\n",
       "    </tr>\n",
       "    <tr>\n",
       "      <th>4</th>\n",
       "      <td>90619</td>\n",
       "      <td>10</td>\n",
       "    </tr>\n",
       "  </tbody>\n",
       "</table>\n",
       "</div>"
      ],
      "text/plain": [
       "      id  Rings\n",
       "0  90615     10\n",
       "1  90616     10\n",
       "2  90617     10\n",
       "3  90618     10\n",
       "4  90619     10"
      ]
     },
     "execution_count": 40,
     "metadata": {},
     "output_type": "execute_result"
    }
   ],
   "source": [
    "submit.head()"
   ]
  },
  {
   "cell_type": "code",
   "execution_count": 41,
   "id": "1c51b68c",
   "metadata": {
    "execution": {
     "iopub.execute_input": "2024-04-28T07:32:48.931588Z",
     "iopub.status.busy": "2024-04-28T07:32:48.931144Z",
     "iopub.status.idle": "2024-04-28T07:32:48.950132Z",
     "shell.execute_reply": "2024-04-28T07:32:48.948811Z"
    },
    "papermill": {
     "duration": 0.046203,
     "end_time": "2024-04-28T07:32:48.953622",
     "exception": false,
     "start_time": "2024-04-28T07:32:48.907419",
     "status": "completed"
    },
    "tags": []
   },
   "outputs": [
    {
     "data": {
      "text/html": [
       "<div>\n",
       "<style scoped>\n",
       "    .dataframe tbody tr th:only-of-type {\n",
       "        vertical-align: middle;\n",
       "    }\n",
       "\n",
       "    .dataframe tbody tr th {\n",
       "        vertical-align: top;\n",
       "    }\n",
       "\n",
       "    .dataframe thead th {\n",
       "        text-align: right;\n",
       "    }\n",
       "</style>\n",
       "<table border=\"1\" class=\"dataframe\">\n",
       "  <thead>\n",
       "    <tr style=\"text-align: right;\">\n",
       "      <th></th>\n",
       "      <th>Length</th>\n",
       "      <th>Diameter</th>\n",
       "      <th>Height</th>\n",
       "      <th>Whole weight</th>\n",
       "      <th>Shucked weight</th>\n",
       "      <th>Viscera weight</th>\n",
       "      <th>Shell weight</th>\n",
       "      <th>Sex_I</th>\n",
       "      <th>Sex_M</th>\n",
       "    </tr>\n",
       "  </thead>\n",
       "  <tbody>\n",
       "    <tr>\n",
       "      <th>0</th>\n",
       "      <td>0.645</td>\n",
       "      <td>0.475</td>\n",
       "      <td>0.155</td>\n",
       "      <td>1.2380</td>\n",
       "      <td>0.6185</td>\n",
       "      <td>0.3125</td>\n",
       "      <td>0.3005</td>\n",
       "      <td>0</td>\n",
       "      <td>1</td>\n",
       "    </tr>\n",
       "    <tr>\n",
       "      <th>1</th>\n",
       "      <td>0.580</td>\n",
       "      <td>0.460</td>\n",
       "      <td>0.160</td>\n",
       "      <td>0.9830</td>\n",
       "      <td>0.4785</td>\n",
       "      <td>0.2195</td>\n",
       "      <td>0.2750</td>\n",
       "      <td>0</td>\n",
       "      <td>1</td>\n",
       "    </tr>\n",
       "    <tr>\n",
       "      <th>2</th>\n",
       "      <td>0.560</td>\n",
       "      <td>0.420</td>\n",
       "      <td>0.140</td>\n",
       "      <td>0.8395</td>\n",
       "      <td>0.3525</td>\n",
       "      <td>0.1845</td>\n",
       "      <td>0.2405</td>\n",
       "      <td>0</td>\n",
       "      <td>1</td>\n",
       "    </tr>\n",
       "    <tr>\n",
       "      <th>3</th>\n",
       "      <td>0.570</td>\n",
       "      <td>0.490</td>\n",
       "      <td>0.145</td>\n",
       "      <td>0.8740</td>\n",
       "      <td>0.3525</td>\n",
       "      <td>0.1865</td>\n",
       "      <td>0.2350</td>\n",
       "      <td>0</td>\n",
       "      <td>1</td>\n",
       "    </tr>\n",
       "    <tr>\n",
       "      <th>4</th>\n",
       "      <td>0.415</td>\n",
       "      <td>0.325</td>\n",
       "      <td>0.110</td>\n",
       "      <td>0.3580</td>\n",
       "      <td>0.1575</td>\n",
       "      <td>0.0670</td>\n",
       "      <td>0.1050</td>\n",
       "      <td>1</td>\n",
       "      <td>0</td>\n",
       "    </tr>\n",
       "  </tbody>\n",
       "</table>\n",
       "</div>"
      ],
      "text/plain": [
       "   Length  Diameter  Height  Whole weight  Shucked weight  Viscera weight  \\\n",
       "0   0.645     0.475   0.155        1.2380          0.6185          0.3125   \n",
       "1   0.580     0.460   0.160        0.9830          0.4785          0.2195   \n",
       "2   0.560     0.420   0.140        0.8395          0.3525          0.1845   \n",
       "3   0.570     0.490   0.145        0.8740          0.3525          0.1865   \n",
       "4   0.415     0.325   0.110        0.3580          0.1575          0.0670   \n",
       "\n",
       "   Shell weight  Sex_I  Sex_M  \n",
       "0        0.3005      0      1  \n",
       "1        0.2750      0      1  \n",
       "2        0.2405      0      1  \n",
       "3        0.2350      0      1  \n",
       "4        0.1050      1      0  "
      ]
     },
     "execution_count": 41,
     "metadata": {},
     "output_type": "execute_result"
    }
   ],
   "source": [
    "dataTest_encoded.head()"
   ]
  },
  {
   "cell_type": "code",
   "execution_count": null,
   "id": "d0bf60b6",
   "metadata": {
    "papermill": {
     "duration": 0.022153,
     "end_time": "2024-04-28T07:32:48.998359",
     "exception": false,
     "start_time": "2024-04-28T07:32:48.976206",
     "status": "completed"
    },
    "tags": []
   },
   "outputs": [],
   "source": []
  },
  {
   "cell_type": "code",
   "execution_count": 42,
   "id": "60eeb1d3",
   "metadata": {
    "execution": {
     "iopub.execute_input": "2024-04-28T07:32:49.046716Z",
     "iopub.status.busy": "2024-04-28T07:32:49.045694Z",
     "iopub.status.idle": "2024-04-28T07:32:49.199919Z",
     "shell.execute_reply": "2024-04-28T07:32:49.198895Z"
    },
    "papermill": {
     "duration": 0.194328,
     "end_time": "2024-04-28T07:32:49.216388",
     "exception": false,
     "start_time": "2024-04-28T07:32:49.022060",
     "status": "completed"
    },
    "tags": []
   },
   "outputs": [],
   "source": [
    "pred_y = model.predict(dataTest_encoded)"
   ]
  },
  {
   "cell_type": "code",
   "execution_count": 43,
   "id": "5d9932e9",
   "metadata": {
    "execution": {
     "iopub.execute_input": "2024-04-28T07:32:49.262338Z",
     "iopub.status.busy": "2024-04-28T07:32:49.261849Z",
     "iopub.status.idle": "2024-04-28T07:32:49.269338Z",
     "shell.execute_reply": "2024-04-28T07:32:49.268072Z"
    },
    "papermill": {
     "duration": 0.034018,
     "end_time": "2024-04-28T07:32:49.271995",
     "exception": false,
     "start_time": "2024-04-28T07:32:49.237977",
     "status": "completed"
    },
    "tags": []
   },
   "outputs": [],
   "source": [
    "submit.drop(columns='Rings',inplace=True)"
   ]
  },
  {
   "cell_type": "code",
   "execution_count": 44,
   "id": "2f5e696c",
   "metadata": {
    "execution": {
     "iopub.execute_input": "2024-04-28T07:32:49.315039Z",
     "iopub.status.busy": "2024-04-28T07:32:49.314512Z",
     "iopub.status.idle": "2024-04-28T07:32:49.322799Z",
     "shell.execute_reply": "2024-04-28T07:32:49.321437Z"
    },
    "papermill": {
     "duration": 0.032937,
     "end_time": "2024-04-28T07:32:49.325599",
     "exception": false,
     "start_time": "2024-04-28T07:32:49.292662",
     "status": "completed"
    },
    "tags": []
   },
   "outputs": [],
   "source": [
    "submit['Rings']= pred_y"
   ]
  },
  {
   "cell_type": "code",
   "execution_count": 45,
   "id": "e4fcc8bd",
   "metadata": {
    "execution": {
     "iopub.execute_input": "2024-04-28T07:32:49.369745Z",
     "iopub.status.busy": "2024-04-28T07:32:49.369245Z",
     "iopub.status.idle": "2024-04-28T07:32:49.381894Z",
     "shell.execute_reply": "2024-04-28T07:32:49.380332Z"
    },
    "papermill": {
     "duration": 0.038008,
     "end_time": "2024-04-28T07:32:49.384527",
     "exception": false,
     "start_time": "2024-04-28T07:32:49.346519",
     "status": "completed"
    },
    "tags": []
   },
   "outputs": [
    {
     "data": {
      "text/html": [
       "<div>\n",
       "<style scoped>\n",
       "    .dataframe tbody tr th:only-of-type {\n",
       "        vertical-align: middle;\n",
       "    }\n",
       "\n",
       "    .dataframe tbody tr th {\n",
       "        vertical-align: top;\n",
       "    }\n",
       "\n",
       "    .dataframe thead th {\n",
       "        text-align: right;\n",
       "    }\n",
       "</style>\n",
       "<table border=\"1\" class=\"dataframe\">\n",
       "  <thead>\n",
       "    <tr style=\"text-align: right;\">\n",
       "      <th></th>\n",
       "      <th>id</th>\n",
       "      <th>Rings</th>\n",
       "    </tr>\n",
       "  </thead>\n",
       "  <tbody>\n",
       "    <tr>\n",
       "      <th>0</th>\n",
       "      <td>90615</td>\n",
       "      <td>9.828862</td>\n",
       "    </tr>\n",
       "    <tr>\n",
       "      <th>1</th>\n",
       "      <td>90616</td>\n",
       "      <td>9.674077</td>\n",
       "    </tr>\n",
       "    <tr>\n",
       "      <th>2</th>\n",
       "      <td>90617</td>\n",
       "      <td>10.133894</td>\n",
       "    </tr>\n",
       "    <tr>\n",
       "      <th>3</th>\n",
       "      <td>90618</td>\n",
       "      <td>10.369923</td>\n",
       "    </tr>\n",
       "    <tr>\n",
       "      <th>4</th>\n",
       "      <td>90619</td>\n",
       "      <td>7.598033</td>\n",
       "    </tr>\n",
       "  </tbody>\n",
       "</table>\n",
       "</div>"
      ],
      "text/plain": [
       "      id      Rings\n",
       "0  90615   9.828862\n",
       "1  90616   9.674077\n",
       "2  90617  10.133894\n",
       "3  90618  10.369923\n",
       "4  90619   7.598033"
      ]
     },
     "execution_count": 45,
     "metadata": {},
     "output_type": "execute_result"
    }
   ],
   "source": [
    "submit.head()"
   ]
  },
  {
   "cell_type": "code",
   "execution_count": 46,
   "id": "1fc6dedb",
   "metadata": {
    "execution": {
     "iopub.execute_input": "2024-04-28T07:32:49.429084Z",
     "iopub.status.busy": "2024-04-28T07:32:49.428257Z",
     "iopub.status.idle": "2024-04-28T07:32:49.585997Z",
     "shell.execute_reply": "2024-04-28T07:32:49.584542Z"
    },
    "papermill": {
     "duration": 0.183507,
     "end_time": "2024-04-28T07:32:49.589287",
     "exception": false,
     "start_time": "2024-04-28T07:32:49.405780",
     "status": "completed"
    },
    "tags": []
   },
   "outputs": [],
   "source": [
    "submit.to_csv('submission.csv', index=False)"
   ]
  },
  {
   "cell_type": "markdown",
   "id": "eb50829e",
   "metadata": {
    "papermill": {
     "duration": 0.021952,
     "end_time": "2024-04-28T07:32:49.634215",
     "exception": false,
     "start_time": "2024-04-28T07:32:49.612263",
     "status": "completed"
    },
    "tags": []
   },
   "source": []
  }
 ],
 "metadata": {
  "kaggle": {
   "accelerator": "none",
   "dataSources": [
    {
     "databundleVersionId": 8096274,
     "sourceId": 72489,
     "sourceType": "competition"
    },
    {
     "datasetId": 37691,
     "sourceId": 57419,
     "sourceType": "datasetVersion"
    }
   ],
   "dockerImageVersionId": 30684,
   "isGpuEnabled": false,
   "isInternetEnabled": true,
   "language": "python",
   "sourceType": "notebook"
  },
  "kernelspec": {
   "display_name": "Python 3",
   "language": "python",
   "name": "python3"
  },
  "language_info": {
   "codemirror_mode": {
    "name": "ipython",
    "version": 3
   },
   "file_extension": ".py",
   "mimetype": "text/x-python",
   "name": "python",
   "nbconvert_exporter": "python",
   "pygments_lexer": "ipython3",
   "version": "3.10.13"
  },
  "papermill": {
   "default_parameters": {},
   "duration": 24.768035,
   "end_time": "2024-04-28T07:32:50.279934",
   "environment_variables": {},
   "exception": null,
   "input_path": "__notebook__.ipynb",
   "output_path": "__notebook__.ipynb",
   "parameters": {},
   "start_time": "2024-04-28T07:32:25.511899",
   "version": "2.5.0"
  }
 },
 "nbformat": 4,
 "nbformat_minor": 5
}
